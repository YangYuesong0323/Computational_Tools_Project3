{
 "cells": [
  {
   "cell_type": "markdown",
   "metadata": {},
   "source": [
    "# Project 3: Airbnb\n",
    "**This is the third of three mandatory projects to be handed in as part of the assessment for the course 02807 Computational Tools for Data Science at Technical University of Denmark, autumn 2019.**\n",
    "\n",
    "#### Practical info\n",
    "- **The project is to be done in groups of at most 3 students**\n",
    "- **Each group has to hand in _one_ Jupyter notebook (this notebook) with their solution**\n",
    "- **The hand-in of the notebook is due 2019-12-05, 23:59 on DTU Inside**\n",
    "\n",
    "#### Your solution\n",
    "- **Your solution should be in Python/PySpark**\n",
    "- **For each question you may use as many cells for your solution as you like**\n",
    "- **You should not remove the problem statements**\n",
    "- **Your notebook should be runnable, i.e., clicking [>>] in Jupyter should generate the result that you want to be assessed**\n",
    "- **You are not expected to use machine learning to solve any of the exercises**"
   ]
  },
  {
   "cell_type": "markdown",
   "metadata": {},
   "source": [
    "# Introduction\n",
    "[Airbnb](http://airbnb.com) is an online marketplace for arranging or offering lodgings. In this project you will use Spark to analyze data obtained from the Airbnb website. The purpose of the analysis is to extract information about trends and patterns from the data.\n",
    "\n",
    "The project has two parts.\n",
    "\n",
    "### Part 1: Loading, describing and preparing the data\n",
    "There's quite a lot of data. Make sure that you can load and correctly parse the data, and that you understand what the dataset contains. You should also prepare the data for the analysis in part two. This means cleaning it and staging it so that subsequent queries are fast.\n",
    "\n",
    "### Par 2: Analysis\n",
    "In this part your goal is to learn about trends and usage patterns from the data. You should give solutions to the tasks defined in this notebook, and you should use Spark to do the data processing. You may use other libraries like for instance Pandas and matplotlib for visualisation.\n",
    "\n",
    "## Guidelines\n",
    "- Processing data should be done using Spark. Once data has been reduced to aggregate form, you may use collect to extract it into Python for visualisation.\n",
    "- Your solutions will be evaluated by correctness, code quality and interpretability of the output. This means that you have to write clean and efficient Spark code that will generate sensible execution plans, and that the tables and visualisations that you produce are meaningful and easy to read.\n",
    "- You may add more cells for your solutions, but you should not modify the notebook otherwise."
   ]
  },
  {
   "cell_type": "markdown",
   "metadata": {},
   "source": [
    "### Create Spark session and define imports"
   ]
  },
  {
   "cell_type": "code",
   "execution_count": 49,
   "metadata": {},
   "outputs": [],
   "source": [
    "from pyspark.sql import *\n",
    "from pyspark.sql import functions as f\n",
    "from pyspark.sql.types import *\n",
    "import matplotlib.pyplot as plt\n",
    "%matplotlib inline\n",
    "\n",
    "spark = SparkSession.builder.appName(\"Project3_ys\").getOrCreate()"
   ]
  },
  {
   "cell_type": "markdown",
   "metadata": {},
   "source": [
    "# Part 1: Loading, describing and preparing the data\n",
    "The data comes in two files. Start by downloading the files and putting them in your `data/` folder.\n",
    "\n",
    "- [Listings](https://files.dtu.dk/u/siPzAasj8w2gI_ME/listings.csv?l) (5 GB)\n",
    "- [Reviews](https://files.dtu.dk/u/k3oaPYp6GjKBeho4/reviews.csv?l) (9.5 GB)"
   ]
  },
  {
   "cell_type": "markdown",
   "metadata": {},
   "source": [
    "### Load the data\n",
    "The data has multiline rows (rows that span multiple lines in the file). To correctly parse these you should use the `multiline` option and set the `escape` character to be `\"`."
   ]
  },
  {
   "cell_type": "code",
   "execution_count": 3,
   "metadata": {},
   "outputs": [],
   "source": [
    "listings = spark.read.option('header', True).\\\n",
    "    option('inferSchema', True).\\\n",
    "    option('multiLine', True).\\\n",
    "    option('escape', \"\\\"\").csv('../data/listings.csv')"
   ]
  },
  {
   "cell_type": "code",
   "execution_count": null,
   "metadata": {},
   "outputs": [],
   "source": [
    "reviews = spark.read.option('header', True).\\\n",
    "    option('inferSchema', True).\\\n",
    "    option('multiLine', True).\\\n",
    "    option('escape', \"\\\"\").csv('../data/reviews.csv')"
   ]
  },
  {
   "cell_type": "markdown",
   "metadata": {},
   "source": [
    "### Describe the data\n",
    "List the features (schema) and sizes of the datasets."
   ]
  },
  {
   "cell_type": "code",
   "execution_count": 4,
   "metadata": {},
   "outputs": [
    {
     "name": "stdout",
     "output_type": "stream",
     "text": [
      "root\n",
      " |-- id: string (nullable = true)\n",
      " |-- listing_url: string (nullable = true)\n",
      " |-- scrape_id: string (nullable = true)\n",
      " |-- last_scraped: string (nullable = true)\n",
      " |-- name: string (nullable = true)\n",
      " |-- summary: string (nullable = true)\n",
      " |-- space: string (nullable = true)\n",
      " |-- description: string (nullable = true)\n",
      " |-- experiences_offered: string (nullable = true)\n",
      " |-- neighborhood_overview: string (nullable = true)\n",
      " |-- notes: string (nullable = true)\n",
      " |-- transit: string (nullable = true)\n",
      " |-- access: string (nullable = true)\n",
      " |-- interaction: string (nullable = true)\n",
      " |-- house_rules: string (nullable = true)\n",
      " |-- thumbnail_url: string (nullable = true)\n",
      " |-- medium_url: string (nullable = true)\n",
      " |-- picture_url: string (nullable = true)\n",
      " |-- xl_picture_url: string (nullable = true)\n",
      " |-- host_id: string (nullable = true)\n",
      " |-- host_url: string (nullable = true)\n",
      " |-- host_name: string (nullable = true)\n",
      " |-- host_since: string (nullable = true)\n",
      " |-- host_location: string (nullable = true)\n",
      " |-- host_about: string (nullable = true)\n",
      " |-- host_response_time: string (nullable = true)\n",
      " |-- host_response_rate: string (nullable = true)\n",
      " |-- host_acceptance_rate: string (nullable = true)\n",
      " |-- host_is_superhost: string (nullable = true)\n",
      " |-- host_thumbnail_url: string (nullable = true)\n",
      " |-- host_picture_url: string (nullable = true)\n",
      " |-- host_neighbourhood: string (nullable = true)\n",
      " |-- host_listings_count: string (nullable = true)\n",
      " |-- host_total_listings_count: string (nullable = true)\n",
      " |-- host_verifications: string (nullable = true)\n",
      " |-- host_has_profile_pic: string (nullable = true)\n",
      " |-- host_identity_verified: string (nullable = true)\n",
      " |-- street: string (nullable = true)\n",
      " |-- neighbourhood: string (nullable = true)\n",
      " |-- neighbourhood_cleansed: string (nullable = true)\n",
      " |-- neighbourhood_group_cleansed: string (nullable = true)\n",
      " |-- city: string (nullable = true)\n",
      " |-- state: string (nullable = true)\n",
      " |-- zipcode: string (nullable = true)\n",
      " |-- market: string (nullable = true)\n",
      " |-- smart_location: string (nullable = true)\n",
      " |-- country_code: string (nullable = true)\n",
      " |-- country: string (nullable = true)\n",
      " |-- latitude: string (nullable = true)\n",
      " |-- longitude: string (nullable = true)\n",
      " |-- is_location_exact: string (nullable = true)\n",
      " |-- property_type: string (nullable = true)\n",
      " |-- room_type: string (nullable = true)\n",
      " |-- accommodates: string (nullable = true)\n",
      " |-- bathrooms: string (nullable = true)\n",
      " |-- bedrooms: string (nullable = true)\n",
      " |-- beds: string (nullable = true)\n",
      " |-- bed_type: string (nullable = true)\n",
      " |-- amenities: string (nullable = true)\n",
      " |-- square_feet: string (nullable = true)\n",
      " |-- price: string (nullable = true)\n",
      " |-- weekly_price: string (nullable = true)\n",
      " |-- monthly_price: string (nullable = true)\n",
      " |-- security_deposit: string (nullable = true)\n",
      " |-- cleaning_fee: string (nullable = true)\n",
      " |-- guests_included: string (nullable = true)\n",
      " |-- extra_people: string (nullable = true)\n",
      " |-- minimum_nights: string (nullable = true)\n",
      " |-- maximum_nights: string (nullable = true)\n",
      " |-- minimum_minimum_nights: string (nullable = true)\n",
      " |-- maximum_minimum_nights: string (nullable = true)\n",
      " |-- minimum_maximum_nights: string (nullable = true)\n",
      " |-- maximum_maximum_nights: string (nullable = true)\n",
      " |-- minimum_nights_avg_ntm: string (nullable = true)\n",
      " |-- maximum_nights_avg_ntm: string (nullable = true)\n",
      " |-- calendar_updated: string (nullable = true)\n",
      " |-- has_availability: string (nullable = true)\n",
      " |-- availability_30: string (nullable = true)\n",
      " |-- availability_60: string (nullable = true)\n",
      " |-- availability_90: string (nullable = true)\n",
      " |-- availability_365: string (nullable = true)\n",
      " |-- calendar_last_scraped: string (nullable = true)\n",
      " |-- number_of_reviews: string (nullable = true)\n",
      " |-- number_of_reviews_ltm: string (nullable = true)\n",
      " |-- first_review: string (nullable = true)\n",
      " |-- last_review: string (nullable = true)\n",
      " |-- review_scores_rating: string (nullable = true)\n",
      " |-- review_scores_accuracy: string (nullable = true)\n",
      " |-- review_scores_cleanliness: string (nullable = true)\n",
      " |-- review_scores_checkin: string (nullable = true)\n",
      " |-- review_scores_communication: string (nullable = true)\n",
      " |-- review_scores_location: string (nullable = true)\n",
      " |-- review_scores_value: string (nullable = true)\n",
      " |-- requires_license: string (nullable = true)\n",
      " |-- license: string (nullable = true)\n",
      " |-- jurisdiction_names: string (nullable = true)\n",
      " |-- instant_bookable: string (nullable = true)\n",
      " |-- is_business_travel_ready: string (nullable = true)\n",
      " |-- cancellation_policy: string (nullable = true)\n",
      " |-- require_guest_profile_picture: string (nullable = true)\n",
      " |-- require_guest_phone_verification: string (nullable = true)\n",
      " |-- calculated_host_listings_count: string (nullable = true)\n",
      " |-- calculated_host_listings_count_entire_homes: string (nullable = true)\n",
      " |-- calculated_host_listings_count_private_rooms: string (nullable = true)\n",
      " |-- calculated_host_listings_count_shared_rooms: string (nullable = true)\n",
      " |-- reviews_per_month: string (nullable = true)\n",
      "\n"
     ]
    }
   ],
   "source": [
    "# Schema for listings.csv\n",
    "listings.printSchema()"
   ]
  },
  {
   "cell_type": "code",
   "execution_count": 5,
   "metadata": {},
   "outputs": [
    {
     "name": "stdout",
     "output_type": "stream",
     "text": [
      "The number of rows in listings.csv : 1330480\n",
      "The number of columns in listings.csv : 106\n"
     ]
    }
   ],
   "source": [
    "# size of listings.csv\n",
    "print(\"The number of rows in listings.csv : {}\".format(listings.count()))\n",
    "print(\"The number of columns in listings.csv : {}\".format(len(listings.columns)))"
   ]
  },
  {
   "cell_type": "code",
   "execution_count": null,
   "metadata": {},
   "outputs": [],
   "source": [
    "# Schema for reviews.csv\n",
    "reviews.printSchema()"
   ]
  },
  {
   "cell_type": "code",
   "execution_count": null,
   "metadata": {},
   "outputs": [],
   "source": [
    "# size of reviews.csv\n",
    "print(\"The number of rows in reviews.csv : {}\".format(reviews.count()))\n",
    "print(\"The number of columns in reviews.csv : {}\".format(len(reviews.columns)))"
   ]
  },
  {
   "cell_type": "markdown",
   "metadata": {},
   "source": [
    "### Prepare the data for analysis\n",
    "You should prepare two dataframes to be used in the analysis part of the project. You should not be concerned with cleaning the data. There's a lot of it, so it will be sufficient to drop rows that have bad values. You may want to go back and refine this step at a later point when doing the analysis.\n",
    "\n",
    "You may also want to consider if you can stage your data so that subsequent processing is more efficient (this is not strictly necessary for Spark to run, but you may be able to decrease the time you sit around waiting for Spark to finish things)"
   ]
  },
  {
   "cell_type": "code",
   "execution_count": null,
   "metadata": {},
   "outputs": [],
   "source": [
    "# drop NA values\n",
    "listings=listings.na.drop()"
   ]
  },
  {
   "cell_type": "code",
   "execution_count": null,
   "metadata": {},
   "outputs": [],
   "source": [
    "reviews=reviews.na.drop()"
   ]
  },
  {
   "cell_type": "code",
   "execution_count": null,
   "metadata": {},
   "outputs": [],
   "source": [
    "# We sampled 10% of the listings.csv and 5% of the reviews.csv\n",
    "# We write them into local disk, listings_sample.csv and reviews_sample.csv\n",
    "\n",
    "# No need to run now\n",
    "# sample=df.sample(False, 0.05, 33)\n",
    "# sample.coalesce(1).write.csv('data/names_here.csv')"
   ]
  },
  {
   "cell_type": "markdown",
   "metadata": {},
   "source": [
    "# Part 2: Analysis\n",
    "Use Spark and your favorite tool for data visualization to solve the following tasks.\n",
    "\n",
    "## The basics\n",
    "Compute and show a dataframe with the number of listings and neighbourhoods per city."
   ]
  },
  {
   "cell_type": "code",
   "execution_count": 11,
   "metadata": {},
   "outputs": [
    {
     "data": {
      "text/plain": [
       "[Row(id='145320', city='Stockholm', neighbourhood='Södermalm', neighbourhood_cleansed='Södermalms', neighbourhood_group_cleansed=None, property_type='Apartment'),\n",
       " Row(id='155220', city='Stockholm', neighbourhood='Skarpnäck', neighbourhood_cleansed='Skarpnäcks', neighbourhood_group_cleansed=None, property_type='House'),\n",
       " Row(id='155685', city='Stockholm', neighbourhood='Södermalm', neighbourhood_cleansed='Södermalms', neighbourhood_group_cleansed=None, property_type='Apartment'),\n",
       " Row(id='164448', city='Stockholm', neighbourhood='Södermalm', neighbourhood_cleansed='Södermalms', neighbourhood_group_cleansed=None, property_type='Apartment'),\n",
       " Row(id='170651', city='Stockholm', neighbourhood='Södermalm', neighbourhood_cleansed='Södermalms', neighbourhood_group_cleansed=None, property_type='Apartment')]"
      ]
     },
     "execution_count": 11,
     "metadata": {},
     "output_type": "execute_result"
    }
   ],
   "source": [
    "listings.select('id', 'city', 'neighbourhood', 'neighbourhood_cleansed', \n",
    "                'neighbourhood_group_cleansed','property_type').take(5)"
   ]
  },
  {
   "cell_type": "code",
   "execution_count": 24,
   "metadata": {},
   "outputs": [],
   "source": [
    "groupby_city=listings.groupBy('city').agg(f.countDistinct('id').alias(\"Distinct Listings\"),\\\n",
    "    f.countDistinct('neighbourhood_cleansed').alias(\"Distinct Neighbourhood\"))"
   ]
  },
  {
   "cell_type": "code",
   "execution_count": 25,
   "metadata": {},
   "outputs": [
    {
     "name": "stdout",
     "output_type": "stream",
     "text": [
      "+--------------------+-----------------+----------------------+\n",
      "|                city|Distinct Listings|Distinct Neighbourhood|\n",
      "+--------------------+-----------------+----------------------+\n",
      "|Saint-Médard-en-J...|              167|                     3|\n",
      "|             Antwerp|              205|                    33|\n",
      "|            Cadaqués|              463|                     1|\n",
      "|               Lorne|              315|                     1|\n",
      "|             Palermo|             9435|                    26|\n",
      "|              Tuglie|              106|                     2|\n",
      "|         Agia Galini|               66|                     1|\n",
      "|        Thessaloniki|             2275|                     7|\n",
      "|      Brunswick West|               86|                     3|\n",
      "|              Sopela|               48|                     1|\n",
      "|             Rødovre|               11|                     3|\n",
      "|Paris-15E-Arrondi...|              100|                     1|\n",
      "|           Aperregui|                1|                     1|\n",
      "|         Palau-Sator|                5|                     1|\n",
      "| Son Serra De Marina|               11|                     1|\n",
      "|             Pennisi|               17|                     2|\n",
      "|             Rinella|                9|                     1|\n",
      "|    Lakeville Corner|                1|                     1|\n",
      "|       Hamilton Hill|               41|                     2|\n",
      "|            Borgagne|               58|                     1|\n",
      "+--------------------+-----------------+----------------------+\n",
      "only showing top 20 rows\n",
      "\n"
     ]
    }
   ],
   "source": [
    "groupby_city.show()"
   ]
  },
  {
   "cell_type": "code",
   "execution_count": 27,
   "metadata": {},
   "outputs": [],
   "source": [
    "groupby_city_cache=groupby_city.cache()"
   ]
  },
  {
   "cell_type": "markdown",
   "metadata": {},
   "source": [
    "Based on the table above, you should choose a city that you want to continue your analysis for. The city should have mulitple neighbourhoods with listings in them.\n",
    "\n",
    "Compute and visualize the number of listings of different property types per neighbourhood in your city."
   ]
  },
  {
   "cell_type": "code",
   "execution_count": null,
   "metadata": {},
   "outputs": [],
   "source": [
    "# We will check if Copenhagen fulfills the requirement"
   ]
  },
  {
   "cell_type": "code",
   "execution_count": 30,
   "metadata": {},
   "outputs": [
    {
     "name": "stdout",
     "output_type": "stream",
     "text": [
      "+----------+-----------------+----------------------+\n",
      "|      city|Distinct Listings|Distinct Neighbourhood|\n",
      "+----------+-----------------+----------------------+\n",
      "|Copenhagen|             2960|                    11|\n",
      "+----------+-----------------+----------------------+\n",
      "\n"
     ]
    }
   ],
   "source": [
    "groupby_city_cache.filter(f.col(\"city\") == \"Copenhagen\").show()"
   ]
  },
  {
   "cell_type": "code",
   "execution_count": null,
   "metadata": {},
   "outputs": [],
   "source": [
    "# yes, it does. So we will choose Copenhagen"
   ]
  },
  {
   "cell_type": "code",
   "execution_count": 31,
   "metadata": {},
   "outputs": [],
   "source": [
    "copenhagen=listings.filter(f.col(\"city\") == \"Copenhagen\")"
   ]
  },
  {
   "cell_type": "code",
   "execution_count": 32,
   "metadata": {},
   "outputs": [
    {
     "name": "stdout",
     "output_type": "stream",
     "text": [
      "+------+--------------------+--------------+------------+--------------------+--------------------+--------------------+--------------------+-------------------+---------------------+--------------------+--------------------+--------------------+--------------------+--------------------+-------------+----------+--------------------+--------------+-------+--------------------+--------------+----------+--------------------+--------------------+------------------+------------------+--------------------+-----------------+--------------------+--------------------+------------------+-------------------+-------------------------+--------------------+--------------------+----------------------+--------------------+-------------+----------------------+----------------------------+----------+--------------------+-------+----------+-------------------+------------+-------+--------+---------+-----------------+-------------+---------------+------------+---------+--------+----+-------------+--------------------+-----------+---------+------------+-------------+----------------+------------+---------------+------------+--------------+--------------+----------------------+----------------------+----------------------+----------------------+----------------------+----------------------+----------------+----------------+---------------+---------------+---------------+----------------+---------------------+-----------------+---------------------+------------+-----------+--------------------+----------------------+-------------------------+---------------------+---------------------------+----------------------+-------------------+----------------+-------+------------------+----------------+------------------------+--------------------+-----------------------------+--------------------------------+------------------------------+-------------------------------------------+--------------------------------------------+-------------------------------------------+-----------------+\n",
      "|    id|         listing_url|     scrape_id|last_scraped|                name|             summary|               space|         description|experiences_offered|neighborhood_overview|               notes|             transit|              access|         interaction|         house_rules|thumbnail_url|medium_url|         picture_url|xl_picture_url|host_id|            host_url|     host_name|host_since|       host_location|          host_about|host_response_time|host_response_rate|host_acceptance_rate|host_is_superhost|  host_thumbnail_url|    host_picture_url|host_neighbourhood|host_listings_count|host_total_listings_count|  host_verifications|host_has_profile_pic|host_identity_verified|              street|neighbourhood|neighbourhood_cleansed|neighbourhood_group_cleansed|      city|               state|zipcode|    market|     smart_location|country_code|country|latitude|longitude|is_location_exact|property_type|      room_type|accommodates|bathrooms|bedrooms|beds|     bed_type|           amenities|square_feet|    price|weekly_price|monthly_price|security_deposit|cleaning_fee|guests_included|extra_people|minimum_nights|maximum_nights|minimum_minimum_nights|maximum_minimum_nights|minimum_maximum_nights|maximum_maximum_nights|minimum_nights_avg_ntm|maximum_nights_avg_ntm|calendar_updated|has_availability|availability_30|availability_60|availability_90|availability_365|calendar_last_scraped|number_of_reviews|number_of_reviews_ltm|first_review|last_review|review_scores_rating|review_scores_accuracy|review_scores_cleanliness|review_scores_checkin|review_scores_communication|review_scores_location|review_scores_value|requires_license|license|jurisdiction_names|instant_bookable|is_business_travel_ready| cancellation_policy|require_guest_profile_picture|require_guest_phone_verification|calculated_host_listings_count|calculated_host_listings_count_entire_homes|calculated_host_listings_count_private_rooms|calculated_host_listings_count_shared_rooms|reviews_per_month|\n",
      "+------+--------------------+--------------+------------+--------------------+--------------------+--------------------+--------------------+-------------------+---------------------+--------------------+--------------------+--------------------+--------------------+--------------------+-------------+----------+--------------------+--------------+-------+--------------------+--------------+----------+--------------------+--------------------+------------------+------------------+--------------------+-----------------+--------------------+--------------------+------------------+-------------------+-------------------------+--------------------+--------------------+----------------------+--------------------+-------------+----------------------+----------------------------+----------+--------------------+-------+----------+-------------------+------------+-------+--------+---------+-----------------+-------------+---------------+------------+---------+--------+----+-------------+--------------------+-----------+---------+------------+-------------+----------------+------------+---------------+------------+--------------+--------------+----------------------+----------------------+----------------------+----------------------+----------------------+----------------------+----------------+----------------+---------------+---------------+---------------+----------------+---------------------+-----------------+---------------------+------------+-----------+--------------------+----------------------+-------------------------+---------------------+---------------------------+----------------------+-------------------+----------------+-------+------------------+----------------+------------------------+--------------------+-----------------------------+--------------------------------+------------------------------+-------------------------------------------+--------------------------------------------+-------------------------------------------+-----------------+\n",
      "|  6983|https://www.airbn...|20190928160250|  2019-09-29|Copenhagen 'N Livin'|Lovely apartment ...|Beautiful and cos...|Lovely apartment ...|               none| Nice bars and coz...|                null|Bus 66 runs to th...|Bedroom, living r...|We are usually at...|No smoking allowe...|         null|      null|https://a0.muscac...|          null|  16774|https://www.airbn...|         Simon|2009-05-12|Copenhagen, Capit...|I'm currently wor...|      within a day|              100%|                 N/A|                t|https://a0.muscac...|https://a0.muscac...|          Nørrebro|                  1|                        1|['email', 'phone'...|                   t|                     f|Copenhagen, Hoved...|     Nørrebro|               Nrrebro|                        null|Copenhagen|         Hovedstaden|   2200|Copenhagen|Copenhagen, Denmark|          DK|Denmark|55.68798| 12.54571|                t|    Apartment|   Private room|           2|      1.0|       1|   1|     Real Bed|{TV,\"Cable TV\",Wi...|         97|  $375.00|        null|         null|           $0.00|      $34.00|              1|      $68.00|             2|            15|                     2|                     2|                    15|                    15|                   2.0|                  15.0|    3 months ago|               t|              0|              0|              0|               0|           2019-09-29|              168|                   24|  2009-09-04| 2019-07-19|                  96|                    10|                        9|                   10|                         10|                     9|                  9|               f|   null|              null|               f|                       f|            moderate|                            f|                               f|                             1|                                          0|                                           1|                                          0|             1.37|\n",
      "| 26057|https://www.airbn...|20190928160250|  2019-09-29|Lovely house - mo...|Our lovely house ...|Totally charming ...|Our lovely house ...|               none| The neighborhood ...|                null|Walking-distance ...|You will have acc...|                null|We will leave the...|         null|      null|https://a0.muscac...|          null| 109777|https://www.airbn...|          Kari|2010-04-17|Copenhagen, Capit...|We are a family w...|within a few hours|              100%|                 N/A|                t|https://a0.muscac...|https://a0.muscac...|          Indre By|                  1|                        1|['email', 'phone'...|                   t|                     f|Copenhagen, Hoved...|     Indre By|              Indre By|                        null|Copenhagen|         Hovedstaden|   2100|Copenhagen|Copenhagen, Denmark|          DK|Denmark|55.69163| 12.57459|                t|        House|Entire home/apt|           6|      1.5|       4|   4|     Real Bed|{TV,Wifi,Kitchen,...|       null|$2,402.00|        null|         null|       $5,000.00|   $1,100.00|              4|     $350.00|             3|            30|                     3|                     3|                    30|                    30|                   3.0|                  30.0|     2 weeks ago|               t|             10|             40|             70|             345|           2019-09-29|               48|                    6|  2013-12-02| 2019-08-03|                  99|                    10|                       10|                   10|                         10|                    10|                 10|               f|   null|              null|               f|                       f|            moderate|                            f|                               f|                             1|                                          1|                                           0|                                          0|             0.68|\n",
      "| 26473|https://www.airbn...|20190928160250|  2019-09-29|City Centre Townh...|TOWN HOUSE ON KNA...|The house is a to...|TOWN HOUSE ON KNA...|               none|                 null|                null|                null|                null|                null|Please be respect...|         null|      null|https://a0.muscac...|          null| 112210|https://www.airbn...|        Oliver|2010-04-22|Copenhagen, Capit...|Gentle male, have...|    within an hour|               90%|                 N/A|                f|https://a0.muscac...|https://a0.muscac...|          Indre By|                  4|                        4|['email', 'phone'...|                   t|                     t|Copenhagen, Hoved...|     Indre By|              Indre By|                        null|Copenhagen|         Hovedstaden|   1210|Copenhagen|Copenhagen, Denmark|          DK|Denmark| 55.6759| 12.57698|                t|        House|Entire home/apt|          12|      2.5|       6|   8|     Real Bed|{TV,Internet,Wifi...|       null|$3,098.00|  $17,546.00|   $67,197.00|       $3,733.00|     $523.00|              1|       $0.00|             3|            31|                     3|                     3|                    31|                    31|                   3.0|                  31.0|    3 months ago|               t|             13|             28|             50|             136|           2019-09-29|              273|                   44|  2010-10-14| 2019-09-09|                  90|                    10|                        9|                   10|                         10|                    10|                  9|               f|   null|              null|               t|                       f|            moderate|                            f|                               f|                             2|                                          2|                                           0|                                          0|             2.50|\n",
      "| 29118|https://www.airbn...|20190928160250|  2019-09-29|Best Location in ...|                null|The apartment is ...|The apartment is ...|               none|                 null|                null|                null|                null|                null|Smoking is allowe...|         null|      null|https://a0.muscac...|          null| 125230|https://www.airbn...|          Nana|2010-05-15|Copenhagen, Capit...|I have a Master o...|      within a day|              100%|                 N/A|                f|https://a0.muscac...|https://a0.muscac...|         Vesterbro|                  1|                        1|['email', 'phone'...|                   t|                     f|Copenhagen, Hoved...|    Vesterbro|  Vesterbro-Kongens...|                        null|Copenhagen|         Hovedstaden|   1650|Copenhagen|Copenhagen, Denmark|          DK|Denmark|55.67069|  12.5543|                t|    Apartment|Entire home/apt|           2|      1.0|       1|   1|     Real Bed|{Wifi,Kitchen,\"Pa...|       null|  $798.00|        null|         null|            null|     $300.00|              1|       $0.00|             7|            14|                     3|                     5|                    14|                    14|                   4.1|                  14.0|     4 weeks ago|               t|              0|              0|              0|              55|           2019-09-29|               22|                    2|  2010-06-17| 2019-08-02|                  98|                    10|                       10|                   10|                         10|                    10|                 10|               f|   null|              null|               f|                       f|strict_14_with_gr...|                            f|                               f|                             1|                                          1|                                           0|                                          0|             0.19|\n",
      "| 29618|https://www.airbn...|20190928160250|  2019-09-29|Artsy and familyf...|Artsy, bright and...|It's a three bedr...|Artsy, bright and...|               none| The apartment is ...|Please note that ...|There are good bu...|                null|We will not be ar...|Please respect th...|         null|      null|https://a0.muscac...|          null| 127577|https://www.airbn...|Simon And Anna|2010-05-18|Copenhagen, Capit...|We are Simon and ...|               N/A|               N/A|                 N/A|                f|https://a0.muscac...|https://a0.muscac...|          Østerbro|                  1|                        1|['email', 'phone'...|                   t|                     t|Copenhagen, Hoved...|     Østerbro|               sterbro|                        null|Copenhagen|         Hovedstaden|   2100|Copenhagen|Copenhagen, Denmark|          DK|Denmark|55.69375| 12.56945|                t|    Apartment|Entire home/apt|           4|      1.0|       3|   3|     Real Bed|{TV,Internet,Wifi...|       null|  $860.00|   $2,987.00|    $8,960.00|            null|      $75.00|              1|       $0.00|             7|            31|                     7|                     7|                    31|                    31|                   7.0|                  31.0|     3 weeks ago|               t|              0|              0|              0|               0|           2019-09-29|               90|                    0|  2010-08-16| 2017-06-03|                  94|                    10|                        9|                   10|                          9|                    10|                  9|               f|   null|              null|               t|                       f|            moderate|                            f|                               f|                             1|                                          1|                                           0|                                          0|             0.81|\n",
      "| 31094|https://www.airbn...|20190928160250|  2019-09-29|Very central and ...|                null|Welcome to our ho...|Welcome to our ho...|               none| What else is near...|                null|                null|                null|                null|Be Good :-) Liste...|         null|      null|https://a0.muscac...|          null| 129976|https://www.airbn...|          Ebbe|2010-05-22|Copenhagen, Capit...|Hi and welcome. M...|               N/A|               N/A|                 N/A|                f|https://a0.muscac...|https://a0.muscac...|         Vesterbro|                  1|                        1|['email', 'phone'...|                   t|                     f|Copenhagen, Capit...|    Vesterbro|  Vesterbro-Kongens...|                        null|Copenhagen|Capital Region of...|   1719|Copenhagen|Copenhagen, Denmark|          DK|Denmark|55.66744| 12.55516|                t|    Apartment|Entire home/apt|           3|      1.0|       1|   3|     Real Bed|{TV,\"Cable TV\",In...|        689|  $751.00|   $4,700.00|         null|       $1,000.00|        null|              2|     $100.00|             2|            10|                     2|                     2|                    10|                    10|                   2.0|                  10.0|   12 months ago|               t|              0|              0|              0|               0|           2019-09-29|               17|                    0|  2010-08-16| 2017-08-25|                  97|                    10|                       10|                   10|                         10|                    10|                  9|               f|   null|              null|               f|                       f|strict_14_with_gr...|                            f|                               f|                             1|                                          1|                                           0|                                          0|             0.15|\n",
      "| 32011|https://www.airbn...|20190928160250|  2019-09-29|A charming room i...|                null|Nice, clean room ...|Nice, clean room ...|               none| I live in a vivid...|                null|It’s easy to get ...|                null|                null|You are very welc...|         null|      null|https://a0.muscac...|          null| 125251|https://www.airbn...|  Andrea Sofie|2010-05-15|Copenhagen, Capit...|Love to meet new ...|      within a day|              100%|                 N/A|                f|https://a0.muscac...|https://a0.muscac...|          Nørrebro|                  2|                        2|['email', 'phone'...|                   t|                     t|Copenhagen, Hoved...|     Nørrebro|               Nrrebro|                        null|Copenhagen|         Hovedstaden|   2200|Copenhagen|Copenhagen, Denmark|          DK|Denmark|55.70071| 12.54681|                t|    Apartment|   Private room|           2|      1.0|       1|   1|     Real Bed|{Internet,Wifi,Ki...|       null|  $573.00|        null|         null|            null|        null|              1|       $0.00|             1|          1125|                     1|                     1|                  1125|                  1125|                   1.0|                1125.0|      3 days ago|               t|             25|             55|             84|             359|           2019-09-29|              147|                    3|  2010-07-16| 2019-09-08|                  96|                    10|                       10|                   10|                         10|                     9|                  9|               f|   null|              null|               f|                       f|strict_14_with_gr...|                            t|                               t|                             1|                                          0|                                           1|                                          0|             1.31|\n",
      "| 32379|https://www.airbn...|20190928160250|  2019-09-29|1668 ft2 artist f...|Bright Artistic l...|1668 ft2 ft2 brig...|Bright Artistic l...|               none|                 null|Small last room c...|it's a nice place...|When booking you ...|My apartment, sup...|When booking you ...|         null|      null|https://a0.muscac...|          null| 140105|https://www.airbn...|          Lise|2010-06-07|Copenhagen, Capit...|As profession - S...|    within an hour|              100%|                 N/A|                f|https://a0.muscac...|https://a0.muscac...|         Vesterbro|                  4|                        4|['email', 'phone'...|                   t|                     f|Copenhagen, Hoved...|    Vesterbro|  Vesterbro-Kongens...|                        null|Copenhagen|         Hovedstaden|   1620|Copenhagen|Copenhagen, Denmark|          DK|Denmark|55.67368| 12.55248|                f|    Apartment|Entire home/apt|           4|      2.0|       2|   3|     Real Bed|{TV,\"Cable TV\",In...|       null|$1,085.00|   $7,466.00|   $26,132.00|       $1,493.00|       $0.00|              2|     $336.00|             3|           365|                     3|                     3|                   365|                   365|                   3.0|                 365.0|     2 weeks ago|               t|              0|              0|              0|               0|           2019-09-29|               73|                    3|  2010-08-23| 2019-08-17|                  98|                    10|                       10|                   10|                         10|                    10|                  9|               f|   null|              null|               f|                       f|            moderate|                            f|                               f|                             2|                                          1|                                           1|                                          0|             0.66|\n",
      "| 33680|https://www.airbn...|20190928160250|  2019-09-29|Best location on ...|                null|Wonderful flat ri...|Wonderful flat ri...|               none|                 null|                null|                null|                null|                null|                null|         null|      null|https://a0.muscac...|          null| 145671|https://www.airbn...|         Mette|2010-06-16|Copenhagen, Capit...|Danish Artist liv...|               N/A|               N/A|                 N/A|                f|https://a0.muscac...|https://a0.muscac...|         Vesterbro|                  0|                        0|['email', 'phone'...|                   t|                     f|Copenhagen, Hoved...|    Vesterbro|  Vesterbro-Kongens...|                        null|Copenhagen|         Hovedstaden|   1670|Copenhagen|Copenhagen, Denmark|          DK|Denmark|55.66756|  12.5451|                t|    Apartment|Entire home/apt|           4|      1.0|       1|   1|     Real Bed|{Wifi,Kitchen,\"Pa...|       null|$1,003.00|        null|   $19,000.00|            null|        null|              1|       $0.00|             6|            60|                     6|                     6|                    60|                    60|                   6.0|                  60.0|     2 weeks ago|               t|             22|             43|             66|             334|           2019-09-29|               71|                    3|  2010-07-26| 2019-03-14|                  95|                    10|                        9|                   10|                         10|                    10|                  9|               f|   null|              null|               f|                       f|            moderate|                            f|                               f|                             1|                                          1|                                           0|                                          0|             0.64|\n",
      "| 49122|https://www.airbn...|20190928160250|  2019-09-29|Private room for ...|You will be stayi...|GENERAL INFO: - Y...|You will be stayi...|               none| - The neighborhoo...|We have a bar dow...|GETTING HERE FROM...|Livingroom, Kitch...|                null|I do not have any...|         null|      null|https://a0.muscac...|          null| 217651|https://www.airbn...|          Sara|2010-08-30|Copenhagen, Capit...|Hi we are a famil...|within a few hours|               81%|                 N/A|                f|https://a0.muscac...|https://a0.muscac...|          Indre By|                  1|                        1|['email', 'phone'...|                   t|                     t|Copenhagen, Hoved...|     Indre By|              Indre By|                        null|Copenhagen|         Hovedstaden|   1307|Copenhagen|Copenhagen, Denmark|          DK|Denmark|55.68946| 12.57088|                t|    Apartment|   Private room|           2|      1.0|       1|   1|     Real Bed|{Wifi,Kitchen,\"Bu...|        161|  $348.00|        null|         null|           $0.00|       $0.00|              1|     $210.00|             1|            30|                     1|                     1|                    30|                    30|                   1.0|                  30.0|      3 days ago|               t|             13|             43|             73|             347|           2019-09-29|              175|                   17|  2010-10-30| 2019-08-16|                  92|                     9|                        8|                   10|                         10|                    10|                  9|               f|   null|              null|               f|                       f|strict_14_with_gr...|                            t|                               t|                             1|                                          0|                                           1|                                          0|             1.61|\n",
      "| 53776|https://www.airbn...|20190928160250|  2019-09-29|Cozy 2-room apart...|Jeg udlejer min 2...|I'm subletting my...|I'm subletting my...|               none| Lejligheden ligge...|                null|Lejligheden ligge...|Som gæst i min le...|I kan altid skriv...|quiet on the balc...|         null|      null|https://a0.muscac...|          null| 246676|https://www.airbn...|           Ida|2010-09-27|Copenhagen, Capit...|I am 28 years old...|    within an hour|              100%|                 N/A|                f|https://a0.muscac...|https://a0.muscac...|         Vesterbro|                  1|                        1|['email', 'phone'...|                   t|                     f|Copenhagen, Capit...|    Vesterbro|  Vesterbro-Kongens...|                        null|Copenhagen|Capital Region of...|   1660|Copenhagen|Copenhagen, Denmark|          DK|Denmark|55.66861|  12.5521|                t|    Apartment|Entire home/apt|           2|      1.0|       1|   1|     Real Bed|{Internet,Wifi,Ki...|       null|  $682.00|        null|         null|           $0.00|       $0.00|              1|       $0.00|             3|           730|                     3|                     3|                   730|                   730|                   3.0|                 730.0|    2 months ago|               t|              0|              0|              0|               0|           2019-09-29|                9|                    1|  2013-08-13| 2019-07-18|                  98|                    10|                        9|                   10|                         10|                     9|                  9|               f|   null|              null|               f|                       f|            moderate|                            f|                               f|                             1|                                          1|                                           0|                                          0|             0.12|\n",
      "| 60048|https://www.airbn...|20190928160250|  2019-09-29|Modern, Cosy & Ce...|Located in the hi...|Located in the hi...|Located in the hi...|               none|                 null|                null|                null|                null|                null|No smoking - tuxe...|         null|      null|https://a0.muscac...|          null| 288615|https://www.airbn...|        Oliver|2010-11-16|Copenhagen, Capit...|Located in the hi...|      within a day|              100%|                 N/A|                f|https://a0.muscac...|https://a0.muscac...|         Vesterbro|                  1|                        1|['email', 'phone'...|                   t|                     t|Copenhagen, Hoved...|    Vesterbro|  Vesterbro-Kongens...|                        null|Copenhagen|         Hovedstaden|   1669|Copenhagen|Copenhagen, Denmark|          DK|Denmark|55.66782| 12.54843|                t|    Apartment|Entire home/apt|           2|      1.0|       1|   1|Pull-out Sofa|{TV,Internet,Wifi...|       null|  $921.00|        null|         null|           $0.00|       $0.00|              1|     $205.00|             3|            15|                     3|                     3|                    15|                    15|                   3.0|                  15.0|   14 months ago|               t|             29|             59|             89|             364|           2019-09-29|               67|                    7|  2010-12-06| 2019-08-20|                  95|                     9|                        9|                   10|                         10|                    10|                  9|               f|   null|              null|               f|                       f|            flexible|                            f|                               f|                             1|                                          1|                                           0|                                          0|             0.62|\n",
      "| 65902|https://www.airbn...|20190928160250|  2019-09-29|10 min. from city...|I love my apartme...|Hello and welcome...|Hello and welcome...|               none| My neighborhood i...|Remember that a c...|-The easiest way ...|You will be stayi...|I am often away f...|-No smoking insid...|         null|      null|https://a0.muscac...|          null| 322300|https://www.airbn...|        Sjelle|2010-12-19|Copenhagen, Capit...|Hello and welcome...|within a few hours|              100%|                 N/A|                f|https://a0.muscac...|https://a0.muscac...|          Nørrebro|                  1|                        1|['email', 'phone'...|                   t|                     t|Copenhagen, Capit...|     Nørrebro|               Nrrebro|                        null|Copenhagen|Capital Region of...|   2100|Copenhagen|Copenhagen, Denmark|          DK|Denmark|55.70491| 12.55331|                t|  Condominium|   Private room|           2|      1.0|       1|   1|     Real Bed|{Wifi,Kitchen,\"Pe...|       null|  $450.00|        null|         null|           $0.00|       $0.00|              1|     $100.00|             2|          1125|                     2|                     2|                  1125|                  1125|                   2.0|                1125.0|           today|               t|             10|             30|             60|              60|           2019-09-29|               88|                   19|  2011-05-10| 2019-09-22|                  94|                     9|                        9|                   10|                         10|                     9|                  9|               f|   null|              null|               f|                       f|strict_14_with_gr...|                            f|                               f|                             1|                                          0|                                           1|                                          0|             0.86|\n",
      "| 75158|https://www.airbn...|20190928160250|  2019-09-29|Cozy Apartment on...|Stay in the best ...|My apartment is a...|Stay in the best ...|               none|                 null|                null|You can grab bus ...|The entire apartm...|I will only be a ...|- Absolutely no p...|         null|      null|https://a0.muscac...|          null| 299149|https://www.airbn...|        Sarwat|2010-11-25|Copenhagen, Capit...|A little bit abou...|               N/A|               N/A|                 N/A|                f|https://a0.muscac...|https://a0.muscac...|         Vesterbro|                  1|                        1|['email', 'phone'...|                   t|                     t|Copenhagen, Capit...|    Vesterbro|  Vesterbro-Kongens...|                        null|Copenhagen|Capital Region of...|   1724|Copenhagen|Copenhagen, Denmark|          DK|Denmark|55.66863| 12.55255|                t|    Apartment|Entire home/apt|           2|      1.0|       1|   1|     Real Bed|{TV,Wifi,Kitchen,...|        474|  $648.00|   $3,000.00|   $10,000.00|       $1,500.00|     $200.00|              2|       $0.00|             3|            21|                     3|                     3|                    21|                    21|                   3.0|                  21.0|   12 months ago|               t|              0|              0|              0|               0|           2019-09-29|               44|                    0|  2011-04-23| 2017-07-29|                  96|                     9|                        9|                   10|                         10|                     9|                  9|               f|   null|              null|               f|                       f|strict_14_with_gr...|                            t|                               t|                             1|                                          1|                                           0|                                          0|             0.43|\n",
      "| 78381|https://www.airbn...|20190928160250|  2019-09-29| IN THE HEART OF CPH|Lovely apartment ...|I just activated ...|Lovely apartment ...|               none|     Torvehallerne :)|I will be happy t...|The main station ...|You have acces to...|I interact as muc...|Just treat my hom...|         null|      null|https://a0.muscac...|          null| 420914|https://www.airbn...|      Cathrine|2011-03-03|Copenhagen, Capit...|We are performing...|    within an hour|              100%|                 N/A|                t|https://a0.muscac...|https://a0.muscac...|          Indre By|                  1|                        1|['email', 'phone'...|                   t|                     f|Copenhagen, Capit...|     Indre By|              Indre By|                        null|Copenhagen|Capital Region of...|   1366|Copenhagen|Copenhagen, Denmark|          DK|Denmark| 55.6839| 12.56727|                t|    Apartment|Entire home/apt|           3|      1.0|       1|   2|     Real Bed|{Wifi,Kitchen,\"Pa...|       null|$1,085.00|        null|         null|            null|     $448.00|              2|     $373.00|             5|            60|                     5|                     5|                    60|                    60|                   5.0|                  60.0|    4 months ago|               t|             21|             47|             77|             352|           2019-09-29|              100|                   20|  2011-05-26| 2019-09-21|                  97|                    10|                       10|                   10|                         10|                    10|                 10|               f|   null|              null|               f|                       f|strict_14_with_gr...|                            f|                               f|                             1|                                          1|                                           0|                                          0|             0.98|\n",
      "| 96080|https://www.airbn...|20190928160250|  2019-09-29|Penthouse apartme...|Charming, spaciou...|THE PLACE: We off...|Charming, spaciou...|               none| THE AREA: Located...|RENTAL RULES AND ...|2 minute walk fro...|Acces to a big, g...|Always feel free ...|RENTAL RULES AND ...|         null|      null|https://a0.muscac...|          null| 510632|https://www.airbn...|        Rasmus|2011-04-15|Copenhagen, Capit...|Rasmus and Camill...|within a few hours|              100%|                 N/A|                f|https://a0.muscac...|https://a0.muscac...|          Østerbro|                  1|                        1|['email', 'phone'...|                   t|                     t|Copenhagen, Capit...|     Østerbro|               sterbro|                        null|Copenhagen|Capital Region of...|   2100|Copenhagen|Copenhagen, Denmark|          DK|Denmark|55.70568| 12.58685|                t|  Condominium|Entire home/apt|           6|      2.0|       3|   2|Pull-out Sofa|{TV,Internet,Wifi...|       1320|  $949.00|        null|         null|       $1,500.00|     $200.00|              4|     $300.00|             5|            30|                     5|                     5|                    30|                    30|                   5.0|                  30.0|    3 months ago|               t|              0|              0|              0|               0|           2019-09-29|               33|                    5|  2011-04-25| 2019-08-01|                  97|                    10|                       10|                   10|                         10|                     9|                 10|               f|   null|              null|               f|                       f|strict_14_with_gr...|                            t|                               t|                             1|                                          1|                                           0|                                          0|             0.32|\n",
      "|117702|https://www.airbn...|20190928160250|  2019-09-29|Modern flat w/bal...|From my flat you ...|My apartment is l...|From my flat you ...|               none| Nørrebro is my pe...|                null|You can take a bu...|As a guest you wi...|                null|The flat is a non...|         null|      null|https://a0.muscac...|          null| 594426|https://www.airbn...|         Marie|2011-05-16|Copenhagen, Capit...|I'm a graphic des...|a few days or more|               40%|                 N/A|                f|https://a0.muscac...|https://a0.muscac...|          Nørrebro|                  1|                        1|['email', 'phone'...|                   t|                     f|Copenhagen, Capit...|     Nørrebro|               Nrrebro|                        null|Copenhagen|Capital Region of...|   2200|Copenhagen|Copenhagen, Denmark|          DK|Denmark|55.69305| 12.54908|                t|    Apartment|Entire home/apt|           2|      1.0|       1|   1|     Real Bed|{Internet,Wifi,Ki...|       null|  $437.00|        null|         null|           $0.00|     $500.00|              2|     $300.00|             3|            14|                     3|                     3|                    14|                    14|                   3.0|                  14.0|     2 weeks ago|               t|              0|              0|              0|              27|           2019-09-29|               56|                    7|  2012-11-26| 2019-09-10|                  96|                    10|                        9|                   10|                         10|                    10|                  9|               f|   null|              null|               f|                       f|            moderate|                            f|                               f|                             1|                                          1|                                           0|                                          0|             0.67|\n",
      "|118649|https://www.airbn...|20190928160250|  2019-09-29|Charming Center o...|Centrally located...|The cosy and spac...|Centrally located...|               none| Torvehallerne: Th...|                null|Only 6 minutes wa...|There is direct a...|We will not be pr...|- Bed sheets incl...|         null|      null|https://a0.muscac...|          null| 599145|https://www.airbn...|Iben Ammentorp|2011-05-18|Copenhagen, Capit...|I work as a cultu...|      within a day|              100%|                 N/A|                f|https://a0.muscac...|https://a0.muscac...|          Indre By|                  1|                        1|['email', 'phone'...|                   t|                     t|Copenhagen, Capit...|     Indre By|              Indre By|                        null|Copenhagen|Capital Region of...|   1367|Copenhagen|Copenhagen, Denmark|          DK|Denmark|55.68409|  12.5629|                t|    Apartment|Entire home/apt|           8|      2.0|       4|   5|     Real Bed|{TV,\"Cable TV\",In...|       null|$1,836.00|   $8,586.00|         null|       $1,493.00|     $299.00|              2|       $0.00|             2|          1125|                     2|                     2|                  1125|                  1125|                   2.0|                1125.0|    4 months ago|               t|              5|              5|              5|               5|           2019-09-29|               38|                    8|  2011-06-20| 2019-07-26|                  94|                     9|                       10|                   10|                         10|                    10|                  9|               f|   null|              null|               t|                       f|            moderate|                            f|                               f|                             1|                                          1|                                           0|                                          0|             0.38|\n",
      "|119322|https://www.airbn...|20190928160250|  2019-09-29|Urban, cultural &...|                null|Placed in the hea...|Placed in the hea...|               none|                 null|                null|                null|                null|          hjGvchcecf|No smoking No sho...|         null|      null|https://a0.muscac...|          null| 602647|https://www.airbn...|       Michael|2011-05-19|Copenhagen, Capit...|                Male|      within a day|              100%|                 N/A|                f|https://a0.muscac...|https://a0.muscac...|          Indre By|                  1|                        1|['email', 'phone'...|                   t|                     f|Copenhagen, Capit...|     Indre By|              Indre By|                        null|Copenhagen|Capital Region of...|   2200|Copenhagen|Copenhagen, Denmark|          DK|Denmark|55.68893| 12.56633|                t|    Apartment|Entire home/apt|           6|      1.0|       2|   6|     Real Bed|{TV,Internet,Wifi...|       1292|$1,344.00|        null|         null|       $1,493.00|     $560.00|              4|     $373.00|             3|            21|                     3|                     3|                    21|                    21|                   3.0|                  21.0|     6 weeks ago|               t|             18|             48|             78|             353|           2019-09-29|               13|                    4|  2011-06-07| 2019-06-17|                  95|                     9|                        9|                   10|                         10|                    10|                  9|               f|   null|              null|               f|                       f|strict_14_with_gr...|                            f|                               f|                             1|                                          1|                                           0|                                          0|             0.13|\n",
      "|130130|https://www.airbn...|20190928160250|  2019-09-29|2 bdr, super cent...|The PERFECT famil...|The PERFECT famil...|The PERFECT famil...|               none| The location in V...|This apartment is...|From this apartme...|You'll have full ...|I can always be r...|We don't ask much...|         null|      null|https://a0.muscac...|          null| 641191|https://www.airbn...|       Timothy|2011-05-30|Copenhagen, Capit...|Canadian happily ...|      within a day|               93%|                 N/A|                f|https://a0.muscac...|https://a0.muscac...|         Vesterbro|                  1|                        1|['email', 'phone'...|                   t|                     t|Copenhagen, Capit...|    Vesterbro|  Vesterbro-Kongens...|                        null|Copenhagen|Capital Region of...|   1657|Copenhagen|Copenhagen, Denmark|          DK|Denmark|55.67059| 12.55468|                t|    Apartment|Entire home/apt|           6|      1.0|       2|   4|     Real Bed|{Internet,Wifi,Ki...|       null|  $819.00|   $7,466.00|   $24,266.00|       $2,240.00|       $0.00|              4|     $187.00|             1|            31|                     2|                     3|                    31|                    31|                   2.7|                  31.0|     2 weeks ago|               t|              3|              7|              9|             120|           2019-09-29|               43|                   10|  2011-08-28| 2019-08-11|                  92|                    10|                        9|                   10|                         10|                    10|                  9|               f|   null|              null|               f|                       f|strict_14_with_gr...|                            f|                               f|                             1|                                          1|                                           0|                                          0|             0.44|\n",
      "+------+--------------------+--------------+------------+--------------------+--------------------+--------------------+--------------------+-------------------+---------------------+--------------------+--------------------+--------------------+--------------------+--------------------+-------------+----------+--------------------+--------------+-------+--------------------+--------------+----------+--------------------+--------------------+------------------+------------------+--------------------+-----------------+--------------------+--------------------+------------------+-------------------+-------------------------+--------------------+--------------------+----------------------+--------------------+-------------+----------------------+----------------------------+----------+--------------------+-------+----------+-------------------+------------+-------+--------+---------+-----------------+-------------+---------------+------------+---------+--------+----+-------------+--------------------+-----------+---------+------------+-------------+----------------+------------+---------------+------------+--------------+--------------+----------------------+----------------------+----------------------+----------------------+----------------------+----------------------+----------------+----------------+---------------+---------------+---------------+----------------+---------------------+-----------------+---------------------+------------+-----------+--------------------+----------------------+-------------------------+---------------------+---------------------------+----------------------+-------------------+----------------+-------+------------------+----------------+------------------------+--------------------+-----------------------------+--------------------------------+------------------------------+-------------------------------------------+--------------------------------------------+-------------------------------------------+-----------------+\n",
      "only showing top 20 rows\n",
      "\n"
     ]
    }
   ],
   "source": [
    "copenhagen.show()"
   ]
  },
  {
   "cell_type": "code",
   "execution_count": 40,
   "metadata": {},
   "outputs": [],
   "source": [
    "copenhagen_cache=copenhagen.cache()"
   ]
  },
  {
   "cell_type": "code",
   "execution_count": 34,
   "metadata": {},
   "outputs": [
    {
     "name": "stdout",
     "output_type": "stream",
     "text": [
      "root\n",
      " |-- id: string (nullable = true)\n",
      " |-- listing_url: string (nullable = true)\n",
      " |-- scrape_id: string (nullable = true)\n",
      " |-- last_scraped: string (nullable = true)\n",
      " |-- name: string (nullable = true)\n",
      " |-- summary: string (nullable = true)\n",
      " |-- space: string (nullable = true)\n",
      " |-- description: string (nullable = true)\n",
      " |-- experiences_offered: string (nullable = true)\n",
      " |-- neighborhood_overview: string (nullable = true)\n",
      " |-- notes: string (nullable = true)\n",
      " |-- transit: string (nullable = true)\n",
      " |-- access: string (nullable = true)\n",
      " |-- interaction: string (nullable = true)\n",
      " |-- house_rules: string (nullable = true)\n",
      " |-- thumbnail_url: string (nullable = true)\n",
      " |-- medium_url: string (nullable = true)\n",
      " |-- picture_url: string (nullable = true)\n",
      " |-- xl_picture_url: string (nullable = true)\n",
      " |-- host_id: string (nullable = true)\n",
      " |-- host_url: string (nullable = true)\n",
      " |-- host_name: string (nullable = true)\n",
      " |-- host_since: string (nullable = true)\n",
      " |-- host_location: string (nullable = true)\n",
      " |-- host_about: string (nullable = true)\n",
      " |-- host_response_time: string (nullable = true)\n",
      " |-- host_response_rate: string (nullable = true)\n",
      " |-- host_acceptance_rate: string (nullable = true)\n",
      " |-- host_is_superhost: string (nullable = true)\n",
      " |-- host_thumbnail_url: string (nullable = true)\n",
      " |-- host_picture_url: string (nullable = true)\n",
      " |-- host_neighbourhood: string (nullable = true)\n",
      " |-- host_listings_count: string (nullable = true)\n",
      " |-- host_total_listings_count: string (nullable = true)\n",
      " |-- host_verifications: string (nullable = true)\n",
      " |-- host_has_profile_pic: string (nullable = true)\n",
      " |-- host_identity_verified: string (nullable = true)\n",
      " |-- street: string (nullable = true)\n",
      " |-- neighbourhood: string (nullable = true)\n",
      " |-- neighbourhood_cleansed: string (nullable = true)\n",
      " |-- neighbourhood_group_cleansed: string (nullable = true)\n",
      " |-- city: string (nullable = true)\n",
      " |-- state: string (nullable = true)\n",
      " |-- zipcode: string (nullable = true)\n",
      " |-- market: string (nullable = true)\n",
      " |-- smart_location: string (nullable = true)\n",
      " |-- country_code: string (nullable = true)\n",
      " |-- country: string (nullable = true)\n",
      " |-- latitude: string (nullable = true)\n",
      " |-- longitude: string (nullable = true)\n",
      " |-- is_location_exact: string (nullable = true)\n",
      " |-- property_type: string (nullable = true)\n",
      " |-- room_type: string (nullable = true)\n",
      " |-- accommodates: string (nullable = true)\n",
      " |-- bathrooms: string (nullable = true)\n",
      " |-- bedrooms: string (nullable = true)\n",
      " |-- beds: string (nullable = true)\n",
      " |-- bed_type: string (nullable = true)\n",
      " |-- amenities: string (nullable = true)\n",
      " |-- square_feet: string (nullable = true)\n",
      " |-- price: string (nullable = true)\n",
      " |-- weekly_price: string (nullable = true)\n",
      " |-- monthly_price: string (nullable = true)\n",
      " |-- security_deposit: string (nullable = true)\n",
      " |-- cleaning_fee: string (nullable = true)\n",
      " |-- guests_included: string (nullable = true)\n",
      " |-- extra_people: string (nullable = true)\n",
      " |-- minimum_nights: string (nullable = true)\n",
      " |-- maximum_nights: string (nullable = true)\n",
      " |-- minimum_minimum_nights: string (nullable = true)\n",
      " |-- maximum_minimum_nights: string (nullable = true)\n",
      " |-- minimum_maximum_nights: string (nullable = true)\n",
      " |-- maximum_maximum_nights: string (nullable = true)\n",
      " |-- minimum_nights_avg_ntm: string (nullable = true)\n",
      " |-- maximum_nights_avg_ntm: string (nullable = true)\n",
      " |-- calendar_updated: string (nullable = true)\n",
      " |-- has_availability: string (nullable = true)\n",
      " |-- availability_30: string (nullable = true)\n",
      " |-- availability_60: string (nullable = true)\n",
      " |-- availability_90: string (nullable = true)\n",
      " |-- availability_365: string (nullable = true)\n",
      " |-- calendar_last_scraped: string (nullable = true)\n",
      " |-- number_of_reviews: string (nullable = true)\n",
      " |-- number_of_reviews_ltm: string (nullable = true)\n",
      " |-- first_review: string (nullable = true)\n",
      " |-- last_review: string (nullable = true)\n",
      " |-- review_scores_rating: string (nullable = true)\n",
      " |-- review_scores_accuracy: string (nullable = true)\n",
      " |-- review_scores_cleanliness: string (nullable = true)\n",
      " |-- review_scores_checkin: string (nullable = true)\n",
      " |-- review_scores_communication: string (nullable = true)\n",
      " |-- review_scores_location: string (nullable = true)\n",
      " |-- review_scores_value: string (nullable = true)\n",
      " |-- requires_license: string (nullable = true)\n",
      " |-- license: string (nullable = true)\n",
      " |-- jurisdiction_names: string (nullable = true)\n",
      " |-- instant_bookable: string (nullable = true)\n",
      " |-- is_business_travel_ready: string (nullable = true)\n",
      " |-- cancellation_policy: string (nullable = true)\n",
      " |-- require_guest_profile_picture: string (nullable = true)\n",
      " |-- require_guest_phone_verification: string (nullable = true)\n",
      " |-- calculated_host_listings_count: string (nullable = true)\n",
      " |-- calculated_host_listings_count_entire_homes: string (nullable = true)\n",
      " |-- calculated_host_listings_count_private_rooms: string (nullable = true)\n",
      " |-- calculated_host_listings_count_shared_rooms: string (nullable = true)\n",
      " |-- reviews_per_month: string (nullable = true)\n",
      "\n"
     ]
    }
   ],
   "source": [
    "copenhagen_cache.printSchema()"
   ]
  },
  {
   "cell_type": "code",
   "execution_count": 38,
   "metadata": {},
   "outputs": [],
   "source": [
    "copenhagen_groupby=copenhagen_cache.groupBy('neighbourhood_cleansed','property_type').\\\n",
    "                    agg(f.countDistinct('id').alias(\"Listings Count\"))"
   ]
  },
  {
   "cell_type": "code",
   "execution_count": 39,
   "metadata": {},
   "outputs": [
    {
     "name": "stdout",
     "output_type": "stream",
     "text": [
      "+----------------------+------------------+--------------+\n",
      "|neighbourhood_cleansed|     property_type|Listings Count|\n",
      "+----------------------+------------------+--------------+\n",
      "|           Amager Vest|              Boat|             2|\n",
      "|                Vanlse|         Apartment|            28|\n",
      "|            Bispebjerg|Serviced apartment|             3|\n",
      "|               sterbro|Serviced apartment|            44|\n",
      "|           Amager Vest|              Loft|             3|\n",
      "|            Bispebjerg|             House|            12|\n",
      "|               Nrrebro|         Apartment|           618|\n",
      "|          Brnshj-Husum|Serviced apartment|             1|\n",
      "|                Vanlse|             House|            18|\n",
      "|                 Valby|         Apartment|            44|\n",
      "|  Vesterbro-Kongens...|        Guesthouse|             2|\n",
      "|  Vesterbro-Kongens...|       Condominium|            35|\n",
      "|  Vesterbro-Kongens...|         Townhouse|             9|\n",
      "|              Indre By|              Loft|             7|\n",
      "|                Vanlse|         Townhouse|             3|\n",
      "|               sterbro|         Apartment|           258|\n",
      "|             Amager st|             House|            32|\n",
      "|  Vesterbro-Kongens...| Bed and breakfast|             3|\n",
      "|               sterbro|              Loft|             6|\n",
      "|           Amager Vest|             Villa|             1|\n",
      "+----------------------+------------------+--------------+\n",
      "only showing top 20 rows\n",
      "\n"
     ]
    }
   ],
   "source": [
    "copenhagen_groupby.show()"
   ]
  },
  {
   "cell_type": "markdown",
   "metadata": {},
   "source": [
    "## Prices\n",
    "Compute the minimum, maximum and average listing price in your city. "
   ]
  },
  {
   "cell_type": "code",
   "execution_count": 41,
   "metadata": {},
   "outputs": [
    {
     "name": "stdout",
     "output_type": "stream",
     "text": [
      "+----------+----------+----------+\n",
      "|min(price)|max(price)|avg(price)|\n",
      "+----------+----------+----------+\n",
      "| $1,003.00|   $997.00|      null|\n",
      "+----------+----------+----------+\n",
      "\n"
     ]
    }
   ],
   "source": [
    "copenhagen_cache.select(f.min('price'), f.max('price'), f.avg('price')).show()"
   ]
  },
  {
   "cell_type": "markdown",
   "metadata": {},
   "source": [
    "Compute and visualize the distribution of listing prices in your city."
   ]
  },
  {
   "cell_type": "code",
   "execution_count": 42,
   "metadata": {},
   "outputs": [],
   "source": [
    "price_distribution=copenhagen_cache.groupby(\"price\").agg(f.countDistinct('id'))"
   ]
  },
  {
   "cell_type": "code",
   "execution_count": 43,
   "metadata": {},
   "outputs": [
    {
     "name": "stdout",
     "output_type": "stream",
     "text": [
      "+---------+------------------+\n",
      "|    price|count(DISTINCT id)|\n",
      "+---------+------------------+\n",
      "|  $409.00|                 5|\n",
      "|$6,872.00|                 1|\n",
      "|  $430.00|                 4|\n",
      "|$1,160.00|                 8|\n",
      "|  $928.00|                 3|\n",
      "|  $450.00|                50|\n",
      "|$1,467.00|                 1|\n",
      "|$1,501.00|                62|\n",
      "|$1,692.00|                 1|\n",
      "|$1,727.00|                 1|\n",
      "|$1,849.00|                 3|\n",
      "|  $444.00|                 6|\n",
      "|  $689.00|                13|\n",
      "|$2,001.00|                 3|\n",
      "|$1,447.00|                12|\n",
      "|  $683.00|                 2|\n",
      "|  $785.00|                22|\n",
      "|  $881.00|                 1|\n",
      "|$1,112.00|                 2|\n",
      "|$5,002.00|                 1|\n",
      "+---------+------------------+\n",
      "only showing top 20 rows\n",
      "\n"
     ]
    }
   ],
   "source": [
    "price_distribution.show()"
   ]
  },
  {
   "cell_type": "code",
   "execution_count": 46,
   "metadata": {},
   "outputs": [
    {
     "data": {
      "text/plain": [
       "pyspark.sql.dataframe.DataFrame"
      ]
     },
     "execution_count": 46,
     "metadata": {},
     "output_type": "execute_result"
    }
   ],
   "source": [
    "type(price_distribution)"
   ]
  },
  {
   "cell_type": "code",
   "execution_count": 44,
   "metadata": {},
   "outputs": [],
   "source": [
    "price_distribution_cache=price_distribution.cache()"
   ]
  },
  {
   "cell_type": "code",
   "execution_count": 50,
   "metadata": {},
   "outputs": [],
   "source": [
    "price_distribution_cache.groupBy(\"price\").count().rdd.values().histogram(20)"
   ]
  },
  {
   "cell_type": "markdown",
   "metadata": {},
   "source": [
    "The value of a listing is its rating divided by its price.\n",
    "\n",
    "Compute and show a dataframe with the 3 highest valued listings in each neighbourhood."
   ]
  },
  {
   "cell_type": "code",
   "execution_count": null,
   "metadata": {},
   "outputs": [],
   "source": []
  },
  {
   "cell_type": "markdown",
   "metadata": {},
   "source": [
    "## Trends\n",
    "Now we want to analyze the \"popularity\" of your city. The data does not contain the number of bookings per listing, but we have a large number of reviews, and we will assume that this is a good indicator of activity on listings."
   ]
  },
  {
   "cell_type": "markdown",
   "metadata": {},
   "source": [
    "Compute and visualize the popularity (i.e., number of reviews) of your city over time."
   ]
  },
  {
   "cell_type": "code",
   "execution_count": null,
   "metadata": {},
   "outputs": [],
   "source": []
  },
  {
   "cell_type": "markdown",
   "metadata": {},
   "source": [
    "Compute and visualize the popularity of neighbourhoods over time. If there are many neighbourhoods in your city, you should select a few interesting ones for comparison."
   ]
  },
  {
   "cell_type": "code",
   "execution_count": null,
   "metadata": {},
   "outputs": [],
   "source": []
  },
  {
   "cell_type": "markdown",
   "metadata": {},
   "source": [
    "Compute and visualize the popularity of your city by season. For example, visualize the popularity of your city per month."
   ]
  },
  {
   "cell_type": "code",
   "execution_count": null,
   "metadata": {},
   "outputs": [],
   "source": []
  },
  {
   "cell_type": "markdown",
   "metadata": {},
   "source": [
    "## Reviews\n",
    "In this part you should determine which words used in reviews that are the most positive. \n",
    "\n",
    "The individual reviews do not have a rating of the listing, so we will assume that each review gave the average rating to the listing, i.e., the one on the listing.\n",
    "\n",
    "You should assign a positivity weight to each word seen in reviews and list the words with the highest weight. It is up to you to decide what the weight should be. For example, it can be a function of the rating on the listing on which it occurs, the number of reviews it occurs in, and the number of unique listings for which it was used to review.\n",
    "\n",
    "Depending on your choice of weight function, you may also want to do some filtering of words. For example, remove words that only occur in a few reviews."
   ]
  },
  {
   "cell_type": "code",
   "execution_count": null,
   "metadata": {},
   "outputs": [],
   "source": []
  }
 ],
 "metadata": {
  "kernelspec": {
   "display_name": "Python 3",
   "language": "python",
   "name": "python3"
  },
  "language_info": {
   "codemirror_mode": {
    "name": "ipython",
    "version": 3
   },
   "file_extension": ".py",
   "mimetype": "text/x-python",
   "name": "python",
   "nbconvert_exporter": "python",
   "pygments_lexer": "ipython3",
   "version": "3.7.3"
  }
 },
 "nbformat": 4,
 "nbformat_minor": 2
}
