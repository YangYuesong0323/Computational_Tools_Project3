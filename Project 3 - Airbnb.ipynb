{
 "cells": [
  {
   "cell_type": "markdown",
   "metadata": {},
   "source": [
    "# Project 3: Airbnb\n",
    "**This is the third of three mandatory projects to be handed in as part of the assessment for the course 02807 Computational Tools for Data Science at Technical University of Denmark, autumn 2019.**\n",
    "\n",
    "#### Practical info\n",
    "- **The project is to be done in groups of at most 3 students**\n",
    "- **Each group has to hand in _one_ Jupyter notebook (this notebook) with their solution**\n",
    "- **The hand-in of the notebook is due 2019-12-05, 23:59 on DTU Inside**\n",
    "\n",
    "#### Your solution\n",
    "- **Your solution should be in Python/PySpark**\n",
    "- **For each question you may use as many cells for your solution as you like**\n",
    "- **You should not remove the problem statements**\n",
    "- **Your notebook should be runnable, i.e., clicking [>>] in Jupyter should generate the result that you want to be assessed**\n",
    "- **You are not expected to use machine learning to solve any of the exercises**"
   ]
  },
  {
   "cell_type": "markdown",
   "metadata": {},
   "source": [
    "# Introduction\n",
    "[Airbnb](http://airbnb.com) is an online marketplace for arranging or offering lodgings. In this project you will use Spark to analyze data obtained from the Airbnb website. The purpose of the analysis is to extract information about trends and patterns from the data.\n",
    "\n",
    "The project has two parts.\n",
    "\n",
    "### Part 1: Loading, describing and preparing the data\n",
    "There's quite a lot of data. Make sure that you can load and correctly parse the data, and that you understand what the dataset contains. You should also prepare the data for the analysis in part two. This means cleaning it and staging it so that subsequent queries are fast.\n",
    "\n",
    "### Par 2: Analysis\n",
    "In this part your goal is to learn about trends and usage patterns from the data. You should give solutions to the tasks defined in this notebook, and you should use Spark to do the data processing. You may use other libraries like for instance Pandas and matplotlib for visualisation.\n",
    "\n",
    "## Guidelines\n",
    "- Processing data should be done using Spark. Once data has been reduced to aggregate form, you may use collect to extract it into Python for visualisation.\n",
    "- Your solutions will be evaluated by correctness, code quality and interpretability of the output. This means that you have to write clean and efficient Spark code that will generate sensible execution plans, and that the tables and visualisations that you produce are meaningful and easy to read.\n",
    "- You may add more cells for your solutions, but you should not modify the notebook otherwise."
   ]
  },
  {
   "cell_type": "markdown",
   "metadata": {},
   "source": [
    "### Create Spark session and define imports"
   ]
  },
  {
   "cell_type": "code",
   "execution_count": 3,
   "metadata": {},
   "outputs": [],
   "source": [
    "from pyspark.sql import *\n",
    "from pyspark.sql import functions as f\n",
    "from pyspark.sql.types import *\n",
    "import matplotlib.pyplot as plt\n",
    "# import nltk\n",
    "%matplotlib inline\n",
    "\n",
    "spark = SparkSession.builder.appName(\"Project3_ys\").getOrCreate()"
   ]
  },
  {
   "cell_type": "markdown",
   "metadata": {},
   "source": [
    "# Part 1: Loading, describing and preparing the data\n",
    "The data comes in two files. Start by downloading the files and putting them in your `data/` folder.\n",
    "\n",
    "- [Listings](https://files.dtu.dk/u/siPzAasj8w2gI_ME/listings.csv?l) (5 GB)\n",
    "- [Reviews](https://files.dtu.dk/u/k3oaPYp6GjKBeho4/reviews.csv?l) (9.5 GB)"
   ]
  },
  {
   "cell_type": "markdown",
   "metadata": {},
   "source": [
    "### Load the data\n",
    "The data has multiline rows (rows that span multiple lines in the file). To correctly parse these you should use the `multiline` option and set the `escape` character to be `\"`."
   ]
  },
  {
   "cell_type": "code",
   "execution_count": 4,
   "metadata": {},
   "outputs": [],
   "source": [
    "listings = spark.read.option('header', True).\\\n",
    "    option('inferSchema', True).\\\n",
    "    option('multiLine', True).\\\n",
    "    option('escape', \"\\\"\").csv('../data/listings.csv')"
   ]
  },
  {
   "cell_type": "code",
   "execution_count": 5,
   "metadata": {},
   "outputs": [],
   "source": [
    "reviews = spark.read.option('header', True).\\\n",
    "    option('inferSchema', True).\\\n",
    "    option('multiLine', True).\\\n",
    "    option('escape', \"\\\"\").csv('../data/reviews.csv')"
   ]
  },
  {
   "cell_type": "markdown",
   "metadata": {},
   "source": [
    "### Describe the data\n",
    "List the features (schema) and sizes of the datasets."
   ]
  },
  {
   "cell_type": "code",
   "execution_count": 4,
   "metadata": {},
   "outputs": [
    {
     "name": "stdout",
     "output_type": "stream",
     "text": [
      "root\n",
      " |-- id: string (nullable = true)\n",
      " |-- listing_url: string (nullable = true)\n",
      " |-- scrape_id: string (nullable = true)\n",
      " |-- last_scraped: string (nullable = true)\n",
      " |-- name: string (nullable = true)\n",
      " |-- summary: string (nullable = true)\n",
      " |-- space: string (nullable = true)\n",
      " |-- description: string (nullable = true)\n",
      " |-- experiences_offered: string (nullable = true)\n",
      " |-- neighborhood_overview: string (nullable = true)\n",
      " |-- notes: string (nullable = true)\n",
      " |-- transit: string (nullable = true)\n",
      " |-- access: string (nullable = true)\n",
      " |-- interaction: string (nullable = true)\n",
      " |-- house_rules: string (nullable = true)\n",
      " |-- thumbnail_url: string (nullable = true)\n",
      " |-- medium_url: string (nullable = true)\n",
      " |-- picture_url: string (nullable = true)\n",
      " |-- xl_picture_url: string (nullable = true)\n",
      " |-- host_id: string (nullable = true)\n",
      " |-- host_url: string (nullable = true)\n",
      " |-- host_name: string (nullable = true)\n",
      " |-- host_since: string (nullable = true)\n",
      " |-- host_location: string (nullable = true)\n",
      " |-- host_about: string (nullable = true)\n",
      " |-- host_response_time: string (nullable = true)\n",
      " |-- host_response_rate: string (nullable = true)\n",
      " |-- host_acceptance_rate: string (nullable = true)\n",
      " |-- host_is_superhost: string (nullable = true)\n",
      " |-- host_thumbnail_url: string (nullable = true)\n",
      " |-- host_picture_url: string (nullable = true)\n",
      " |-- host_neighbourhood: string (nullable = true)\n",
      " |-- host_listings_count: string (nullable = true)\n",
      " |-- host_total_listings_count: string (nullable = true)\n",
      " |-- host_verifications: string (nullable = true)\n",
      " |-- host_has_profile_pic: string (nullable = true)\n",
      " |-- host_identity_verified: string (nullable = true)\n",
      " |-- street: string (nullable = true)\n",
      " |-- neighbourhood: string (nullable = true)\n",
      " |-- neighbourhood_cleansed: string (nullable = true)\n",
      " |-- neighbourhood_group_cleansed: string (nullable = true)\n",
      " |-- city: string (nullable = true)\n",
      " |-- state: string (nullable = true)\n",
      " |-- zipcode: string (nullable = true)\n",
      " |-- market: string (nullable = true)\n",
      " |-- smart_location: string (nullable = true)\n",
      " |-- country_code: string (nullable = true)\n",
      " |-- country: string (nullable = true)\n",
      " |-- latitude: string (nullable = true)\n",
      " |-- longitude: string (nullable = true)\n",
      " |-- is_location_exact: string (nullable = true)\n",
      " |-- property_type: string (nullable = true)\n",
      " |-- room_type: string (nullable = true)\n",
      " |-- accommodates: string (nullable = true)\n",
      " |-- bathrooms: string (nullable = true)\n",
      " |-- bedrooms: string (nullable = true)\n",
      " |-- beds: string (nullable = true)\n",
      " |-- bed_type: string (nullable = true)\n",
      " |-- amenities: string (nullable = true)\n",
      " |-- square_feet: string (nullable = true)\n",
      " |-- price: string (nullable = true)\n",
      " |-- weekly_price: string (nullable = true)\n",
      " |-- monthly_price: string (nullable = true)\n",
      " |-- security_deposit: string (nullable = true)\n",
      " |-- cleaning_fee: string (nullable = true)\n",
      " |-- guests_included: string (nullable = true)\n",
      " |-- extra_people: string (nullable = true)\n",
      " |-- minimum_nights: string (nullable = true)\n",
      " |-- maximum_nights: string (nullable = true)\n",
      " |-- minimum_minimum_nights: string (nullable = true)\n",
      " |-- maximum_minimum_nights: string (nullable = true)\n",
      " |-- minimum_maximum_nights: string (nullable = true)\n",
      " |-- maximum_maximum_nights: string (nullable = true)\n",
      " |-- minimum_nights_avg_ntm: string (nullable = true)\n",
      " |-- maximum_nights_avg_ntm: string (nullable = true)\n",
      " |-- calendar_updated: string (nullable = true)\n",
      " |-- has_availability: string (nullable = true)\n",
      " |-- availability_30: string (nullable = true)\n",
      " |-- availability_60: string (nullable = true)\n",
      " |-- availability_90: string (nullable = true)\n",
      " |-- availability_365: string (nullable = true)\n",
      " |-- calendar_last_scraped: string (nullable = true)\n",
      " |-- number_of_reviews: string (nullable = true)\n",
      " |-- number_of_reviews_ltm: string (nullable = true)\n",
      " |-- first_review: string (nullable = true)\n",
      " |-- last_review: string (nullable = true)\n",
      " |-- review_scores_rating: string (nullable = true)\n",
      " |-- review_scores_accuracy: string (nullable = true)\n",
      " |-- review_scores_cleanliness: string (nullable = true)\n",
      " |-- review_scores_checkin: string (nullable = true)\n",
      " |-- review_scores_communication: string (nullable = true)\n",
      " |-- review_scores_location: string (nullable = true)\n",
      " |-- review_scores_value: string (nullable = true)\n",
      " |-- requires_license: string (nullable = true)\n",
      " |-- license: string (nullable = true)\n",
      " |-- jurisdiction_names: string (nullable = true)\n",
      " |-- instant_bookable: string (nullable = true)\n",
      " |-- is_business_travel_ready: string (nullable = true)\n",
      " |-- cancellation_policy: string (nullable = true)\n",
      " |-- require_guest_profile_picture: string (nullable = true)\n",
      " |-- require_guest_phone_verification: string (nullable = true)\n",
      " |-- calculated_host_listings_count: string (nullable = true)\n",
      " |-- calculated_host_listings_count_entire_homes: string (nullable = true)\n",
      " |-- calculated_host_listings_count_private_rooms: string (nullable = true)\n",
      " |-- calculated_host_listings_count_shared_rooms: string (nullable = true)\n",
      " |-- reviews_per_month: string (nullable = true)\n",
      "\n"
     ]
    }
   ],
   "source": [
    "# Schema for listings.csv\n",
    "listings.printSchema()"
   ]
  },
  {
   "cell_type": "code",
   "execution_count": 5,
   "metadata": {},
   "outputs": [
    {
     "name": "stdout",
     "output_type": "stream",
     "text": [
      "The number of rows in listings.csv : 408202\n",
      "The number of columns in listings.csv : 106\n"
     ]
    }
   ],
   "source": [
    "# size of listings.csv\n",
    "print(\"The number of rows in listings.csv : {}\".format(listings.count()))\n",
    "print(\"The number of columns in listings.csv : {}\".format(len(listings.columns)))"
   ]
  },
  {
   "cell_type": "code",
   "execution_count": 6,
   "metadata": {},
   "outputs": [
    {
     "name": "stdout",
     "output_type": "stream",
     "text": [
      "root\n",
      " |-- listing_id: string (nullable = true)\n",
      " |-- id: string (nullable = true)\n",
      " |-- date: string (nullable = true)\n",
      " |-- reviewer_id: string (nullable = true)\n",
      " |-- reviewer_name: string (nullable = true)\n",
      " |-- comments: string (nullable = true)\n",
      "\n"
     ]
    }
   ],
   "source": [
    "# Schema for reviews.csv\n",
    "reviews.printSchema()"
   ]
  },
  {
   "cell_type": "markdown",
   "metadata": {},
   "source": [
    "<font color=\"red\">这里为什么要drop comments column呀？</font>\n",
    "I want to see some values for each column but comment column will make the printed lines messy"
   ]
  },
  {
   "cell_type": "code",
   "execution_count": 7,
   "metadata": {},
   "outputs": [
    {
     "data": {
      "text/plain": [
       "[Row(listing_id='145320', id='156423122', date='2017-05-30', reviewer_id='123386382', reviewer_name='Erwin'),\n",
       " Row(listing_id='145320', id='170211906', date='2017-07-15', reviewer_id='123091743', reviewer_name='Anne'),\n",
       " Row(listing_id='145320', id='172169175', date='2017-07-20', reviewer_id='78004', reviewer_name='Patricia'),\n",
       " Row(listing_id='145320', id='176647581', date='2017-07-31', reviewer_id='103178743', reviewer_name='Charlotte'),\n",
       " Row(listing_id='145320', id='185676021', date='2017-08-22', reviewer_id='4023961', reviewer_name='Alexander')]"
      ]
     },
     "execution_count": 7,
     "metadata": {},
     "output_type": "execute_result"
    }
   ],
   "source": [
    "reviews.drop('comments').take(5)"
   ]
  },
  {
   "cell_type": "code",
   "execution_count": 8,
   "metadata": {},
   "outputs": [
    {
     "name": "stdout",
     "output_type": "stream",
     "text": [
      "The number of rows in reviews.csv : 29400608\n",
      "The number of columns in reviews.csv : 6\n"
     ]
    }
   ],
   "source": [
    "# size of reviews.csv\n",
    "print(\"The number of rows in reviews.csv : {}\".format(reviews.count()))\n",
    "print(\"The number of columns in reviews.csv : {}\".format(len(reviews.columns)))"
   ]
  },
  {
   "cell_type": "markdown",
   "metadata": {},
   "source": [
    "### Prepare the data for analysis\n",
    "You should prepare two dataframes to be used in the analysis part of the project. You should not be concerned with cleaning the data. There's a lot of it, so it will be sufficient to drop rows that have bad values. You may want to go back and refine this step at a later point when doing the analysis.\n",
    "\n",
    "You may also want to consider if you can stage your data so that subsequent processing is more efficient (this is not strictly necessary for Spark to run, but you may be able to decrease the time you sit around waiting for Spark to finish things)"
   ]
  },
  {
   "cell_type": "markdown",
   "metadata": {},
   "source": [
    "<font color=\"red\">有个小小的问题，我看到.dropna()和na.drop()的功能是一样的，都是把所有有null value的row给drop掉。需要standardize一下代码吗？另外就是listings_filtered这个column之后没有再被用到，我暂时comment out了，后续需要删掉吗？</font>\n",
    "\n",
    "drop na 后，只有95行了。。所以我觉得不用drop na 了，只要filter price column not having null will do, at least for questions i have done."
   ]
  },
  {
   "cell_type": "markdown",
   "metadata": {},
   "source": [
    "<font color=\"red\">ok, 但是后面没有用到listings_filtered或者reviews_na，还是都用的listing和reviews。要改吗？</font>"
   ]
  },
  {
   "cell_type": "code",
   "execution_count": 9,
   "metadata": {},
   "outputs": [
    {
     "data": {
      "text/plain": [
       "95"
      ]
     },
     "execution_count": 9,
     "metadata": {},
     "output_type": "execute_result"
    }
   ],
   "source": [
    "# drop all NA values in listings and count the number of rows omitting those null values\n",
    "listings_na=listings.dropna()\n",
    "listings_na.count()"
   ]
  },
  {
   "cell_type": "code",
   "execution_count": 10,
   "metadata": {},
   "outputs": [],
   "source": [
    "# listings_filtered = listings.filter(f.col('price').isNotNull())"
   ]
  },
  {
   "cell_type": "code",
   "execution_count": 11,
   "metadata": {},
   "outputs": [
    {
     "data": {
      "text/plain": [
       "32284251"
      ]
     },
     "execution_count": 11,
     "metadata": {},
     "output_type": "execute_result"
    }
   ],
   "source": [
    "# drop all NA values in reviews and count the number of rows omitting those null values\n",
    "reviews_na = reviews.dropna()\n",
    "reviews_na.count()"
   ]
  },
  {
   "cell_type": "code",
   "execution_count": 12,
   "metadata": {},
   "outputs": [],
   "source": [
    "# We sampled 10% of the listings.csv and 5% of the reviews.csv\n",
    "# We write them into local disk, listings_sample.csv and reviews_sample.csv\n",
    "\n",
    "# No need to run now\n",
    "# sample=df.sample(False, 0.05, 33)\n",
    "# sample.coalesce(1).write.csv('data/names_here.csv')"
   ]
  },
  {
   "cell_type": "markdown",
   "metadata": {},
   "source": [
    "# Part 2: Analysis\n",
    "Use Spark and your favorite tool for data visualization to solve the following tasks.\n",
    "\n",
    "## The basics\n",
    "Compute and show a table with the number of listings and neighbourhoods per city."
   ]
  },
  {
   "cell_type": "code",
   "execution_count": 13,
   "metadata": {},
   "outputs": [],
   "source": [
    "groupby_city=listings.groupBy('city').\\\n",
    "    agg(f.countDistinct('id').alias(\"Distinct Listings\"),\\\n",
    "        f.countDistinct('neighbourhood_cleansed').alias(\"Distinct Neighbourhood\")).cache()"
   ]
  },
  {
   "cell_type": "code",
   "execution_count": 14,
   "metadata": {},
   "outputs": [
    {
     "name": "stdout",
     "output_type": "stream",
     "text": [
      "+--------------------+-----------------+----------------------+\n",
      "|                city|Distinct Listings|Distinct Neighbourhood|\n",
      "+--------------------+-----------------+----------------------+\n",
      "|               Lorne|               69|                     1|\n",
      "|             Palermo|             3693|                    14|\n",
      "|              Tuglie|               52|                     2|\n",
      "|         Agia Galini|               26|                     1|\n",
      "|        Thessaloniki|              591|                     7|\n",
      "|             Antwerp|               53|                    19|\n",
      "|Paris-15E-Arrondi...|               23|                     1|\n",
      "|           Aperregui|                1|                     1|\n",
      "| Son Serra De Marina|                5|                     1|\n",
      "|             Pennisi|                3|                     1|\n",
      "|             Rinella|                6|                     1|\n",
      "|       Hamilton Hill|                9|                     1|\n",
      "|      Brunswick West|               21|                     1|\n",
      "|      Rowland Height|                1|                     1|\n",
      "|               Ratho|                1|                     1|\n",
      "|           Hazelmere|                1|                     1|\n",
      "|          Casa Santa|               31|                     2|\n",
      "|           Cape town|                3|                     3|\n",
      "|             Gallina|               15|                     1|\n",
      "|    Salice Salentino|               12|                     1|\n",
      "+--------------------+-----------------+----------------------+\n",
      "only showing top 20 rows\n",
      "\n"
     ]
    }
   ],
   "source": [
    "groupby_city.show()"
   ]
  },
  {
   "cell_type": "markdown",
   "metadata": {},
   "source": [
    "Based on the table above, you should choose a city that you want to continue your analysis for. The city should have mulitple neighbourhoods with listings in them.\n",
    "\n",
    "Compute and visualize the number of listings of different property types per neighbourhood in your city."
   ]
  },
  {
   "cell_type": "code",
   "execution_count": 15,
   "metadata": {},
   "outputs": [],
   "source": [
    "# Let's check if Copenhagen fulfills the requirement:"
   ]
  },
  {
   "cell_type": "code",
   "execution_count": 16,
   "metadata": {},
   "outputs": [
    {
     "name": "stdout",
     "output_type": "stream",
     "text": [
      "+----------+-----------------+----------------------+\n",
      "|      city|Distinct Listings|Distinct Neighbourhood|\n",
      "+----------+-----------------+----------------------+\n",
      "|Copenhagen|              640|                    11|\n",
      "+----------+-----------------+----------------------+\n",
      "\n"
     ]
    }
   ],
   "source": [
    "groupby_city.filter(f.col(\"city\") == \"Copenhagen\").show()"
   ]
  },
  {
   "cell_type": "code",
   "execution_count": 17,
   "metadata": {},
   "outputs": [],
   "source": [
    "# Yup, it does. We will choose Copenhagen for further analysis."
   ]
  },
  {
   "cell_type": "code",
   "execution_count": 18,
   "metadata": {},
   "outputs": [],
   "source": [
    "# extract listings that are in Copenhagen\n",
    "# .cache() pulls data into a cluster-wide in-memory cache. This is very useful when data is accessed repeatedly.\n",
    "copenhagen=listings.filter(f.col(\"city\") == \"Copenhagen\").cache()"
   ]
  },
  {
   "cell_type": "code",
   "execution_count": 19,
   "metadata": {},
   "outputs": [
    {
     "name": "stdout",
     "output_type": "stream",
     "text": [
      "root\n",
      " |-- id: string (nullable = true)\n",
      " |-- listing_url: string (nullable = true)\n",
      " |-- scrape_id: string (nullable = true)\n",
      " |-- last_scraped: string (nullable = true)\n",
      " |-- name: string (nullable = true)\n",
      " |-- summary: string (nullable = true)\n",
      " |-- space: string (nullable = true)\n",
      " |-- description: string (nullable = true)\n",
      " |-- experiences_offered: string (nullable = true)\n",
      " |-- neighborhood_overview: string (nullable = true)\n",
      " |-- notes: string (nullable = true)\n",
      " |-- transit: string (nullable = true)\n",
      " |-- access: string (nullable = true)\n",
      " |-- interaction: string (nullable = true)\n",
      " |-- house_rules: string (nullable = true)\n",
      " |-- thumbnail_url: string (nullable = true)\n",
      " |-- medium_url: string (nullable = true)\n",
      " |-- picture_url: string (nullable = true)\n",
      " |-- xl_picture_url: string (nullable = true)\n",
      " |-- host_id: string (nullable = true)\n",
      " |-- host_url: string (nullable = true)\n",
      " |-- host_name: string (nullable = true)\n",
      " |-- host_since: string (nullable = true)\n",
      " |-- host_location: string (nullable = true)\n",
      " |-- host_about: string (nullable = true)\n",
      " |-- host_response_time: string (nullable = true)\n",
      " |-- host_response_rate: string (nullable = true)\n",
      " |-- host_acceptance_rate: string (nullable = true)\n",
      " |-- host_is_superhost: string (nullable = true)\n",
      " |-- host_thumbnail_url: string (nullable = true)\n",
      " |-- host_picture_url: string (nullable = true)\n",
      " |-- host_neighbourhood: string (nullable = true)\n",
      " |-- host_listings_count: string (nullable = true)\n",
      " |-- host_total_listings_count: string (nullable = true)\n",
      " |-- host_verifications: string (nullable = true)\n",
      " |-- host_has_profile_pic: string (nullable = true)\n",
      " |-- host_identity_verified: string (nullable = true)\n",
      " |-- street: string (nullable = true)\n",
      " |-- neighbourhood: string (nullable = true)\n",
      " |-- neighbourhood_cleansed: string (nullable = true)\n",
      " |-- neighbourhood_group_cleansed: string (nullable = true)\n",
      " |-- city: string (nullable = true)\n",
      " |-- state: string (nullable = true)\n",
      " |-- zipcode: string (nullable = true)\n",
      " |-- market: string (nullable = true)\n",
      " |-- smart_location: string (nullable = true)\n",
      " |-- country_code: string (nullable = true)\n",
      " |-- country: string (nullable = true)\n",
      " |-- latitude: string (nullable = true)\n",
      " |-- longitude: string (nullable = true)\n",
      " |-- is_location_exact: string (nullable = true)\n",
      " |-- property_type: string (nullable = true)\n",
      " |-- room_type: string (nullable = true)\n",
      " |-- accommodates: string (nullable = true)\n",
      " |-- bathrooms: string (nullable = true)\n",
      " |-- bedrooms: string (nullable = true)\n",
      " |-- beds: string (nullable = true)\n",
      " |-- bed_type: string (nullable = true)\n",
      " |-- amenities: string (nullable = true)\n",
      " |-- square_feet: string (nullable = true)\n",
      " |-- price: string (nullable = true)\n",
      " |-- weekly_price: string (nullable = true)\n",
      " |-- monthly_price: string (nullable = true)\n",
      " |-- security_deposit: string (nullable = true)\n",
      " |-- cleaning_fee: string (nullable = true)\n",
      " |-- guests_included: string (nullable = true)\n",
      " |-- extra_people: string (nullable = true)\n",
      " |-- minimum_nights: string (nullable = true)\n",
      " |-- maximum_nights: string (nullable = true)\n",
      " |-- minimum_minimum_nights: string (nullable = true)\n",
      " |-- maximum_minimum_nights: string (nullable = true)\n",
      " |-- minimum_maximum_nights: string (nullable = true)\n",
      " |-- maximum_maximum_nights: string (nullable = true)\n",
      " |-- minimum_nights_avg_ntm: string (nullable = true)\n",
      " |-- maximum_nights_avg_ntm: string (nullable = true)\n",
      " |-- calendar_updated: string (nullable = true)\n",
      " |-- has_availability: string (nullable = true)\n",
      " |-- availability_30: string (nullable = true)\n",
      " |-- availability_60: string (nullable = true)\n",
      " |-- availability_90: string (nullable = true)\n",
      " |-- availability_365: string (nullable = true)\n",
      " |-- calendar_last_scraped: string (nullable = true)\n",
      " |-- number_of_reviews: string (nullable = true)\n",
      " |-- number_of_reviews_ltm: string (nullable = true)\n",
      " |-- first_review: string (nullable = true)\n",
      " |-- last_review: string (nullable = true)\n",
      " |-- review_scores_rating: string (nullable = true)\n",
      " |-- review_scores_accuracy: string (nullable = true)\n",
      " |-- review_scores_cleanliness: string (nullable = true)\n",
      " |-- review_scores_checkin: string (nullable = true)\n",
      " |-- review_scores_communication: string (nullable = true)\n",
      " |-- review_scores_location: string (nullable = true)\n",
      " |-- review_scores_value: string (nullable = true)\n",
      " |-- requires_license: string (nullable = true)\n",
      " |-- license: string (nullable = true)\n",
      " |-- jurisdiction_names: string (nullable = true)\n",
      " |-- instant_bookable: string (nullable = true)\n",
      " |-- is_business_travel_ready: string (nullable = true)\n",
      " |-- cancellation_policy: string (nullable = true)\n",
      " |-- require_guest_profile_picture: string (nullable = true)\n",
      " |-- require_guest_phone_verification: string (nullable = true)\n",
      " |-- calculated_host_listings_count: string (nullable = true)\n",
      " |-- calculated_host_listings_count_entire_homes: string (nullable = true)\n",
      " |-- calculated_host_listings_count_private_rooms: string (nullable = true)\n",
      " |-- calculated_host_listings_count_shared_rooms: string (nullable = true)\n",
      " |-- reviews_per_month: string (nullable = true)\n",
      "\n"
     ]
    }
   ],
   "source": [
    "copenhagen.printSchema()"
   ]
  },
  {
   "cell_type": "code",
   "execution_count": 20,
   "metadata": {},
   "outputs": [],
   "source": [
    "# compute and show with a table the number of listings per neighbourhood per property type in Copenhagen.\n",
    "copenhagen_groupby=copenhagen.groupBy('neighbourhood_cleansed','property_type').\\\n",
    "                    agg(f.countDistinct('id').alias(\"Listings Count\"))"
   ]
  },
  {
   "cell_type": "code",
   "execution_count": 21,
   "metadata": {},
   "outputs": [
    {
     "name": "stdout",
     "output_type": "stream",
     "text": [
      "+----------------------+------------------+--------------+\n",
      "|neighbourhood_cleansed|     property_type|Listings Count|\n",
      "+----------------------+------------------+--------------+\n",
      "|           Amager Vest|              Boat|             2|\n",
      "|                Vanlse|         Apartment|            28|\n",
      "|            Bispebjerg|Serviced apartment|             3|\n",
      "|               sterbro|Serviced apartment|            44|\n",
      "|           Amager Vest|              Loft|             3|\n",
      "|            Bispebjerg|             House|            12|\n",
      "|               Nrrebro|         Apartment|           618|\n",
      "|          Brnshj-Husum|Serviced apartment|             1|\n",
      "|                Vanlse|             House|            18|\n",
      "|                 Valby|         Apartment|            44|\n",
      "|  Vesterbro-Kongens...|        Guesthouse|             2|\n",
      "|  Vesterbro-Kongens...|       Condominium|            35|\n",
      "|  Vesterbro-Kongens...|         Townhouse|             9|\n",
      "|              Indre By|              Loft|             7|\n",
      "|                Vanlse|         Townhouse|             3|\n",
      "|               sterbro|         Apartment|           258|\n",
      "|             Amager st|             House|            32|\n",
      "|  Vesterbro-Kongens...| Bed and breakfast|             3|\n",
      "|               sterbro|              Loft|             6|\n",
      "|           Amager Vest|             Villa|             1|\n",
      "+----------------------+------------------+--------------+\n",
      "only showing top 20 rows\n",
      "\n"
     ]
    }
   ],
   "source": [
    "copenhagen_groupby.show()"
   ]
  },
  {
   "cell_type": "markdown",
   "metadata": {},
   "source": [
    "## Prices\n",
    "Compute the minimum, maximum and average listing price in your city. "
   ]
  },
  {
   "cell_type": "code",
   "execution_count": 22,
   "metadata": {},
   "outputs": [],
   "source": [
    "# from the schema, it can be seen that the price column is of type string \n",
    "# using regular expression, we clean the strings and then cast the column type to float\n",
    "copenhagen_cleanPrice = copenhagen.\\\n",
    "        withColumn('price', f.regexp_replace('price', '\\$', '')).\\\n",
    "        withColumn('price', f.regexp_replace('price', ',', '')).\\\n",
    "        withColumn('price', f.col('price').cast('float'))"
   ]
  },
  {
   "cell_type": "code",
   "execution_count": 23,
   "metadata": {},
   "outputs": [
    {
     "name": "stdout",
     "output_type": "stream",
     "text": [
      "+----------+----------+-----------------+\n",
      "|min(price)|max(price)|       avg(price)|\n",
      "+----------+----------+-----------------+\n",
      "|      68.0|   55556.0|922.2381756756756|\n",
      "+----------+----------+-----------------+\n",
      "\n"
     ]
    }
   ],
   "source": [
    "# compute the minimum, maximum and average listing price in Copenhagen\n",
    "copenhagen_cleanPrice.select(f.min('price'), f.max('price'), f.avg('price')).show()"
   ]
  },
  {
   "cell_type": "markdown",
   "metadata": {},
   "source": [
    "Compute and visualize the distribution of listing prices in your city."
   ]
  },
  {
   "cell_type": "code",
   "execution_count": 24,
   "metadata": {},
   "outputs": [],
   "source": [
    "# use groupby, count the number of listings at each price\n",
    "price_distribution = copenhagen_cleanPrice.groupby(\"price\").\\\n",
    "                        agg(f.countDistinct('id').alias(\"count\"))"
   ]
  },
  {
   "cell_type": "code",
   "execution_count": 25,
   "metadata": {},
   "outputs": [
    {
     "name": "stdout",
     "output_type": "stream",
     "text": [
      "+-------+-----+\n",
      "|  price|count|\n",
      "+-------+-----+\n",
      "| 1331.0|    1|\n",
      "|  362.0|    8|\n",
      "|  955.0|    3|\n",
      "|   82.0|    1|\n",
      "|  697.0|   12|\n",
      "|  798.0|  118|\n",
      "| 2054.0|    1|\n",
      "|  969.0|   22|\n",
      "| 1863.0|    1|\n",
      "| 1283.0|    1|\n",
      "| 3603.0|    1|\n",
      "|  546.0|   15|\n",
      "| 2177.0|    1|\n",
      "| 1802.0|   18|\n",
      "| 2293.0|    1|\n",
      "|  239.0|    2|\n",
      "| 1496.0|    1|\n",
      "|55556.0|    1|\n",
      "| 1378.0|    8|\n",
      "|  301.0|    8|\n",
      "+-------+-----+\n",
      "only showing top 20 rows\n",
      "\n"
     ]
    }
   ],
   "source": [
    "price_distribution.show()"
   ]
  },
  {
   "cell_type": "code",
   "execution_count": 26,
   "metadata": {},
   "outputs": [],
   "source": [
    "# create a price list for histogram\n",
    "price_list=[]\n",
    "for row in price_distribution.collect():\n",
    "    price_list.extend([row['price']] * int(row['count']))"
   ]
  },
  {
   "cell_type": "markdown",
   "metadata": {},
   "source": [
    "Visualize price distribution using histogram. Adjust the bins and bin size:"
   ]
  },
  {
   "cell_type": "code",
   "execution_count": 27,
   "metadata": {},
   "outputs": [
    {
     "data": {
      "image/png": "[encoded data removed]",
      "text/plain": [
       "<Figure size 432x288 with 1 Axes>"
      ]
     },
     "metadata": {
      "needs_background": "light"
     },
     "output_type": "display_data"
    }
   ],
   "source": [
    "# 1. bin size = 10\n",
    "plt.hist(price_list,bins=10)\n",
    "plt.title(\"Price distribution (10 bins)\")\n",
    "plt.xlabel(\"Price\")\n",
    "plt.ylabel(\"Number of listings\")\n",
    "plt.show()"
   ]
  },
  {
   "cell_type": "code",
   "execution_count": 28,
   "metadata": {},
   "outputs": [
    {
     "data": {
      "image/png": "[encoded data removed]",
      "text/plain": [
       "<Figure size 432x288 with 1 Axes>"
      ]
     },
     "metadata": {
      "needs_background": "light"
     },
     "output_type": "display_data"
    }
   ],
   "source": [
    "# 2. 13 bins, interval = 200, long tail (price>10000) ignored\n",
    "plt.hist(price_list,\n",
    "         bins = [200,400,600,800,1000,1200,1400,1600,1800,2000,4000,6000,8000,10000])\n",
    "plt.title(\"Price distribution (13 bins, price>10000 not included)\")\n",
    "plt.xlabel(\"Price\")\n",
    "plt.ylabel(\"Number of listings\")\n",
    "plt.show()"
   ]
  },
  {
   "cell_type": "code",
   "execution_count": 29,
   "metadata": {},
   "outputs": [
    {
     "data": {
      "image/png": "[encoded data removed]",
      "text/plain": [
       "<Figure size 432x288 with 1 Axes>"
      ]
     },
     "metadata": {
      "needs_background": "light"
     },
     "output_type": "display_data"
    }
   ],
   "source": [
    "# 3. 10 bins, interval = 200, long tail (price>4000) ignored\n",
    "plt.hist(price_list,\n",
    "         bins = [200,400,600,800,1000,1200,1400,1600,1800,2000,4000])\n",
    "plt.title(\"Price distribution (10 bins, price>4000 not included)\")\n",
    "plt.xlabel(\"Price\")\n",
    "plt.ylabel(\"Number of listings\")\n",
    "plt.show()"
   ]
  },
  {
   "cell_type": "markdown",
   "metadata": {},
   "source": [
    "The value of a listing is its rating divided by its price.\n",
    "\n",
    "Compute and show a dataframe with the 3 highest valued listings in each neighbourhood."
   ]
  },
  {
   "cell_type": "code",
   "execution_count": 30,
   "metadata": {},
   "outputs": [],
   "source": [
    "# cast rating and price column into float, then compute the value of listings and store the results in a new column\n",
    "copenhagen_value=copenhagen.\\\n",
    "        withColumn('review_scores_rating', f.col('review_scores_rating').cast('float')).\\\n",
    "        withColumn('price', f.regexp_replace('price', '\\$', '')).\\\n",
    "        withColumn('price', f.regexp_replace('price', ',', '')).\\\n",
    "        withColumn('price', f.col('price').cast('float')).\\\n",
    "        withColumn('value', f.col('review_scores_rating')/f.col('price'))"
   ]
  },
  {
   "cell_type": "code",
   "execution_count": 31,
   "metadata": {},
   "outputs": [
    {
     "data": {
      "text/plain": [
       "[Row(review_scores_rating=96.0, price=375.0, value=0.256),\n",
       " Row(review_scores_rating=99.0, price=2402.0, value=0.04121565362198168)]"
      ]
     },
     "execution_count": 31,
     "metadata": {},
     "output_type": "execute_result"
    }
   ],
   "source": [
    "# take a look at the first 2 rows of the table\n",
    "copenhagen_value.select('review_scores_rating','price','value').take(2)"
   ]
  },
  {
   "cell_type": "code",
   "execution_count": 32,
   "metadata": {},
   "outputs": [],
   "source": [
    "# create a window and sort the table by value\n",
    "value_window = Window.partitionBy('neighbourhood_cleansed').orderBy(f.desc('value'))\n",
    "ranked_df = copenhagen_value.withColumn('valueRank', f.rank().over(value_window))"
   ]
  },
  {
   "cell_type": "code",
   "execution_count": 33,
   "metadata": {},
   "outputs": [
    {
     "name": "stdout",
     "output_type": "stream",
     "text": [
      "+--------+----------------------+-------------------+---------+\n",
      "|      id|neighbourhood_cleansed|              value|valueRank|\n",
      "+--------+----------------------+-------------------+---------+\n",
      "|27815787|           Amager Vest| 1.3333333333333333|        1|\n",
      "| 4831559|           Amager Vest|             0.9375|        2|\n",
      "|12460024|           Amager Vest|0.41841004184100417|        3|\n",
      "| 5710617|             Amager st| 0.6666666666666666|        1|\n",
      "|  362647|             Amager st| 0.3861003861003861|        2|\n",
      "| 3036965|             Amager st|0.38492063492063494|        3|\n",
      "| 3658168|            Bispebjerg| 0.4311111111111111|        1|\n",
      "| 7721166|            Bispebjerg|  0.419811320754717|        2|\n",
      "|35671757|            Bispebjerg|0.37549407114624506|        3|\n",
      "| 3388899|          Brnshj-Husum| 0.3609022556390977|        1|\n",
      "| 2836381|          Brnshj-Husum|0.27624309392265195|        2|\n",
      "| 2956470|          Brnshj-Husum| 0.2672413793103448|        3|\n",
      "| 2708639|         Frederiksberg|0.31333333333333335|        1|\n",
      "|14061328|         Frederiksberg|0.27011494252873564|        2|\n",
      "| 3381620|         Frederiksberg| 0.2398989898989899|        3|\n",
      "|13722704|              Indre By| 0.5235602094240838|        1|\n",
      "|17941225|              Indre By|0.46464646464646464|        2|\n",
      "| 3145494|              Indre By| 0.3464285714285714|        3|\n",
      "| 1818407|               Nrrebro| 0.5668789808917197|        1|\n",
      "|12015106|               Nrrebro| 0.4716981132075472|        2|\n",
      "+--------+----------------------+-------------------+---------+\n",
      "only showing top 20 rows\n",
      "\n"
     ]
    }
   ],
   "source": [
    "# show the top 3 valued listing in each neighbourhood\n",
    "ranked_df.filter(f.col('valueRank') <= 3).\\\n",
    "    orderBy('neighbourhood_cleansed', f.desc('value')).\\\n",
    "    select('id','neighbourhood_cleansed','value','valueRank').show()"
   ]
  },
  {
   "cell_type": "markdown",
   "metadata": {},
   "source": [
    "## Trends\n",
    "Now we want to analyze the \"popularity\" of your city. The data does not contain the number of bookings per listing, but we have a large number of reviews, and we will assume that this is a good indicator of activity on listings."
   ]
  },
  {
   "cell_type": "markdown",
   "metadata": {},
   "source": [
    "Compute and visualize the popularity (i.e., number of reviews) of your city over time."
   ]
  },
  {
   "cell_type": "code",
   "execution_count": 34,
   "metadata": {},
   "outputs": [],
   "source": [
    "# join reviews and listings tables on listing id, and keep date and neighbourhood columns\n",
    "joined=reviews.select('listing_id','date').\\\n",
    "            join(copenhagen.select('id','neighbourhood_cleansed'), \n",
    "                 f.col('listing_id') == f.col('id'))"
   ]
  },
  {
   "cell_type": "code",
   "execution_count": 35,
   "metadata": {},
   "outputs": [
    {
     "data": {
      "text/plain": [
       "[Row(listing_id='6983', date='2009-09-07', id='6983', neighbourhood_cleansed='Nrrebro'),\n",
       " Row(listing_id='6983', date='2009-09-28', id='6983', neighbourhood_cleansed='Nrrebro'),\n",
       " Row(listing_id='6983', date='2009-12-17', id='6983', neighbourhood_cleansed='Nrrebro'),\n",
       " Row(listing_id='6983', date='2010-01-04', id='6983', neighbourhood_cleansed='Nrrebro'),\n",
       " Row(listing_id='6983', date='2010-04-05', id='6983', neighbourhood_cleansed='Nrrebro')]"
      ]
     },
     "execution_count": 35,
     "metadata": {},
     "output_type": "execute_result"
    }
   ],
   "source": [
    "joined.take(5)"
   ]
  },
  {
   "cell_type": "code",
   "execution_count": 36,
   "metadata": {},
   "outputs": [
    {
     "data": {
      "text/plain": [
       "DataFrame[listing_id: string, date: string, id: string, neighbourhood_cleansed: string]"
      ]
     },
     "execution_count": 36,
     "metadata": {},
     "output_type": "execute_result"
    }
   ],
   "source": [
    "# craete a cache of the joined table for faster queries and operations\n",
    "joined.cache()"
   ]
  },
  {
   "cell_type": "code",
   "execution_count": 37,
   "metadata": {},
   "outputs": [],
   "source": [
    "# extract the year, month and date from the date column and store each in a separate column\n",
    "joined_clean=joined.withColumn('year', f.col('date').substr(1,4)).\\\n",
    "                    withColumn('month', f.col('date').substr(6,2)).\\\n",
    "                    withColumn('day', f.col('date').substr(9,2)).\\\n",
    "                    drop('id')"
   ]
  },
  {
   "cell_type": "code",
   "execution_count": 38,
   "metadata": {},
   "outputs": [
    {
     "name": "stdout",
     "output_type": "stream",
     "text": [
      "+----------+----------+----------------------+----+-----+---+\n",
      "|listing_id|      date|neighbourhood_cleansed|year|month|day|\n",
      "+----------+----------+----------------------+----+-----+---+\n",
      "|      6983|2009-09-07|               Nrrebro|2009|   09| 07|\n",
      "|      6983|2009-09-28|               Nrrebro|2009|   09| 28|\n",
      "|      6983|2009-12-17|               Nrrebro|2009|   12| 17|\n",
      "|      6983|2010-01-04|               Nrrebro|2010|   01| 04|\n",
      "|      6983|2010-04-05|               Nrrebro|2010|   04| 05|\n",
      "|      6983|2010-05-08|               Nrrebro|2010|   05| 08|\n",
      "|      6983|2010-06-10|               Nrrebro|2010|   06| 10|\n",
      "|      6983|2010-06-18|               Nrrebro|2010|   06| 18|\n",
      "|      6983|2010-06-23|               Nrrebro|2010|   06| 23|\n",
      "|      6983|2012-04-02|               Nrrebro|2012|   04| 02|\n",
      "|      6983|2012-04-15|               Nrrebro|2012|   04| 15|\n",
      "|      6983|2012-04-21|               Nrrebro|2012|   04| 21|\n",
      "|      6983|2012-05-23|               Nrrebro|2012|   05| 23|\n",
      "|      6983|2012-05-27|               Nrrebro|2012|   05| 27|\n",
      "|      6983|2012-07-02|               Nrrebro|2012|   07| 02|\n",
      "|      6983|2012-11-12|               Nrrebro|2012|   11| 12|\n",
      "|      6983|2012-11-16|               Nrrebro|2012|   11| 16|\n",
      "|      6983|2012-11-18|               Nrrebro|2012|   11| 18|\n",
      "|      6983|2012-11-27|               Nrrebro|2012|   11| 27|\n",
      "|      6983|2012-12-25|               Nrrebro|2012|   12| 25|\n",
      "+----------+----------+----------------------+----+-----+---+\n",
      "only showing top 20 rows\n",
      "\n"
     ]
    }
   ],
   "source": [
    "joined_clean.show()"
   ]
  },
  {
   "cell_type": "code",
   "execution_count": 39,
   "metadata": {},
   "outputs": [
    {
     "data": {
      "text/plain": [
       "DataFrame[listing_id: string, date: string, neighbourhood_cleansed: string, year: string, month: string, day: string]"
      ]
     },
     "execution_count": 39,
     "metadata": {},
     "output_type": "execute_result"
    }
   ],
   "source": [
    "# craete a cache for faster queries and operations\n",
    "joined_clean.cache()"
   ]
  },
  {
   "cell_type": "code",
   "execution_count": 40,
   "metadata": {},
   "outputs": [],
   "source": [
    "# count the number of reviews over the years\n",
    "gb_year=joined_clean.groupBy('year').count().\\\n",
    "                withColumn('year', f.col('year').cast('Integer')).\\\n",
    "                orderBy('year', ascending=True)"
   ]
  },
  {
   "cell_type": "code",
   "execution_count": 41,
   "metadata": {},
   "outputs": [
    {
     "name": "stdout",
     "output_type": "stream",
     "text": [
      "+----+-----+\n",
      "|year|count|\n",
      "+----+-----+\n",
      "|2009|    3|\n",
      "|2010|   38|\n",
      "|2011|  235|\n",
      "|2012| 1000|\n",
      "|2013| 3469|\n",
      "|2014| 8053|\n",
      "|2015|12492|\n",
      "|2016|13934|\n",
      "|2017|12698|\n",
      "|2018|11963|\n",
      "|2019| 9122|\n",
      "+----+-----+\n",
      "\n"
     ]
    }
   ],
   "source": [
    "gb_year.show()"
   ]
  },
  {
   "cell_type": "code",
   "execution_count": 42,
   "metadata": {},
   "outputs": [],
   "source": [
    "# export and visualize\n",
    "year = [row['year'] for row in gb_year.collect()]\n",
    "review_count=[row['count'] for row in gb_year.collect()]"
   ]
  },
  {
   "cell_type": "code",
   "execution_count": 43,
   "metadata": {},
   "outputs": [
    {
     "data": {
      "image/png": "[encoded data removed]",
      "text/plain": [
       "<Figure size 432x288 with 1 Axes>"
      ]
     },
     "metadata": {
      "needs_background": "light"
     },
     "output_type": "display_data"
    }
   ],
   "source": [
    "plt.plot(year,review_count)\n",
    "plt.title(\"Number of reviews in Copenhagen (by year)\")\n",
    "plt.xlabel(\"Year\")\n",
    "plt.ylabel(\"Review Count\")\n",
    "plt.show()"
   ]
  },
  {
   "cell_type": "markdown",
   "metadata": {},
   "source": [
    "Compute and visualize the popularity of neighbourhoods over time. If there are many neighbourhoods in your city, you should select a few interesting ones for comparison."
   ]
  },
  {
   "cell_type": "code",
   "execution_count": 44,
   "metadata": {},
   "outputs": [],
   "source": [
    "# count the number of reviews in each neighbourhood in each year\n",
    "gb_neighbor_year=joined_clean.groupBy('neighbourhood_cleansed', 'year').count().\\\n",
    "                withColumn('year', f.col('year').cast('Integer')).\\\n",
    "                orderBy(['neighbourhood_cleansed','year'], ascending=[1,1])"
   ]
  },
  {
   "cell_type": "code",
   "execution_count": 45,
   "metadata": {},
   "outputs": [
    {
     "name": "stdout",
     "output_type": "stream",
     "text": [
      "+----------------------+----+-----+\n",
      "|neighbourhood_cleansed|year|count|\n",
      "+----------------------+----+-----+\n",
      "|           Amager Vest|2012|   69|\n",
      "|           Amager Vest|2013|  338|\n",
      "|           Amager Vest|2014|  577|\n",
      "|           Amager Vest|2015|  937|\n",
      "|           Amager Vest|2016| 1278|\n",
      "|           Amager Vest|2017| 1079|\n",
      "|           Amager Vest|2018| 1088|\n",
      "|           Amager Vest|2019|  822|\n",
      "|             Amager st|2012|   80|\n",
      "|             Amager st|2013|  177|\n",
      "|             Amager st|2014|  557|\n",
      "|             Amager st|2015|  809|\n",
      "|             Amager st|2016|  728|\n",
      "|             Amager st|2017|  711|\n",
      "|             Amager st|2018|  667|\n",
      "|             Amager st|2019|  498|\n",
      "|            Bispebjerg|2012|   11|\n",
      "|            Bispebjerg|2013|   57|\n",
      "|            Bispebjerg|2014|  179|\n",
      "|            Bispebjerg|2015|  350|\n",
      "+----------------------+----+-----+\n",
      "only showing top 20 rows\n",
      "\n"
     ]
    }
   ],
   "source": [
    "gb_neighbor_year.show()"
   ]
  },
  {
   "cell_type": "code",
   "execution_count": 46,
   "metadata": {
    "scrolled": true
   },
   "outputs": [
    {
     "data": {
      "text/plain": [
       "{'Amager Vest': [(2012, 69),\n",
       "  (2013, 338),\n",
       "  (2014, 577),\n",
       "  (2015, 937),\n",
       "  (2016, 1278),\n",
       "  (2017, 1079),\n",
       "  (2018, 1088),\n",
       "  (2019, 822)],\n",
       " 'Amager st': [(2012, 80),\n",
       "  (2013, 177),\n",
       "  (2014, 557),\n",
       "  (2015, 809),\n",
       "  (2016, 728),\n",
       "  (2017, 711),\n",
       "  (2018, 667),\n",
       "  (2019, 498)],\n",
       " 'Bispebjerg': [(2012, 11),\n",
       "  (2013, 57),\n",
       "  (2014, 179),\n",
       "  (2015, 350),\n",
       "  (2016, 416),\n",
       "  (2017, 371),\n",
       "  (2018, 332),\n",
       "  (2019, 309)],\n",
       " 'Brnshj-Husum': [(2013, 1),\n",
       "  (2014, 22),\n",
       "  (2015, 51),\n",
       "  (2016, 102),\n",
       "  (2017, 119),\n",
       "  (2018, 96),\n",
       "  (2019, 58)],\n",
       " 'Frederiksberg': [(2011, 2),\n",
       "  (2012, 30),\n",
       "  (2013, 69),\n",
       "  (2014, 94),\n",
       "  (2015, 167),\n",
       "  (2016, 214),\n",
       "  (2017, 189),\n",
       "  (2018, 177),\n",
       "  (2019, 148)],\n",
       " 'Indre By': [(2010, 5),\n",
       "  (2011, 55),\n",
       "  (2012, 209),\n",
       "  (2013, 753),\n",
       "  (2014, 2119),\n",
       "  (2015, 3281),\n",
       "  (2016, 3452),\n",
       "  (2017, 3173),\n",
       "  (2018, 3040),\n",
       "  (2019, 2344)],\n",
       " 'Nrrebro': [(2009, 3),\n",
       "  (2010, 12),\n",
       "  (2011, 73),\n",
       "  (2012, 289),\n",
       "  (2013, 1127),\n",
       "  (2014, 2112),\n",
       "  (2015, 2888),\n",
       "  (2016, 3130),\n",
       "  (2017, 2697),\n",
       "  (2018, 2577),\n",
       "  (2019, 1895)],\n",
       " 'Valby': [(2013, 1),\n",
       "  (2014, 60),\n",
       "  (2015, 143),\n",
       "  (2016, 164),\n",
       "  (2017, 161),\n",
       "  (2018, 158),\n",
       "  (2019, 224)],\n",
       " 'Vanlse': [(2012, 2),\n",
       "  (2013, 11),\n",
       "  (2014, 118),\n",
       "  (2015, 205),\n",
       "  (2016, 201),\n",
       "  (2017, 179),\n",
       "  (2018, 145),\n",
       "  (2019, 105)],\n",
       " 'Vesterbro-Kongens Enghave': [(2010, 14),\n",
       "  (2011, 75),\n",
       "  (2012, 255),\n",
       "  (2013, 683),\n",
       "  (2014, 1608),\n",
       "  (2015, 2653),\n",
       "  (2016, 3086),\n",
       "  (2017, 3052),\n",
       "  (2018, 2871),\n",
       "  (2019, 2106)],\n",
       " 'sterbro': [(2010, 7),\n",
       "  (2011, 30),\n",
       "  (2012, 55),\n",
       "  (2013, 252),\n",
       "  (2014, 607),\n",
       "  (2015, 1008),\n",
       "  (2016, 1163),\n",
       "  (2017, 967),\n",
       "  (2018, 812),\n",
       "  (2019, 613)]}"
      ]
     },
     "execution_count": 46,
     "metadata": {},
     "output_type": "execute_result"
    }
   ],
   "source": [
    "# create a dictionary to store the information, where key is name of the neighbourhood and value is a list of tuples \n",
    "# {neighbourhood: [(year1, count1), ...], ...}\n",
    "dic={}\n",
    "for row in gb_neighbor_year.collect():\n",
    "    if row['neighbourhood_cleansed'] in dic:\n",
    "        dic[row['neighbourhood_cleansed']] += [(row['year'],row['count'])]\n",
    "    else:\n",
    "        dic[row['neighbourhood_cleansed']] = [(row['year'],row['count'])]\n",
    "dic"
   ]
  },
  {
   "cell_type": "code",
   "execution_count": 47,
   "metadata": {},
   "outputs": [],
   "source": [
    "# plot the number of reviews in each neighbourhood in each year\n",
    "def plot():    \n",
    "    fig, ax = plt.subplots(4, 3, figsize=(30,20))\n",
    "    plt.subplots_adjust(wspace = 0.2, hspace = 0.7)\n",
    "    \n",
    "    for index,key in enumerate(dic.keys()):\n",
    "        row = index//3\n",
    "        col = index%3      \n",
    "        ax[row, col].set_title(key)\n",
    "        ax[row, col].set_xlabel(\"Year\")\n",
    "        ax[row, col].set_ylabel(\"Review Count\")\n",
    "        ax[row, col].plot([x[0] for x in dic[key]], [x[1] for x in dic[key]])"
   ]
  },
  {
   "cell_type": "code",
   "execution_count": 48,
   "metadata": {},
   "outputs": [
    {
     "data": {
      "image/png": "[encoded data removed]",
      "text/plain": [
       "<Figure size 2160x1440 with 12 Axes>"
      ]
     },
     "metadata": {
      "needs_background": "light"
     },
     "output_type": "display_data"
    }
   ],
   "source": [
    "plot()"
   ]
  },
  {
   "cell_type": "markdown",
   "metadata": {},
   "source": [
    "<font color=\"navy\">Comparing the yearly trends of the reviews, it can be seen that most neighbourhoods experience an upward-then-downward trend, where the number of reviews peaked at 2015-2016 and has been on an decline since then. The only exception is Valby, where the number of reviews increased steadily from 2013 to 2019.</font>"
   ]
  },
  {
   "cell_type": "markdown",
   "metadata": {},
   "source": [
    "Compute and visualize the popularity of your city by season. For example, visualize the popularity of your city per month."
   ]
  },
  {
   "cell_type": "code",
   "execution_count": 49,
   "metadata": {},
   "outputs": [],
   "source": [
    "# count the number of reviews by month\n",
    "gb_month=joined_clean.groupBy('month').count().\\\n",
    "                withColumn('month', f.col('month').cast('Integer')).\\\n",
    "                orderBy('month', ascending=True)"
   ]
  },
  {
   "cell_type": "code",
   "execution_count": 50,
   "metadata": {},
   "outputs": [
    {
     "name": "stdout",
     "output_type": "stream",
     "text": [
      "+-----+-----+\n",
      "|month|count|\n",
      "+-----+-----+\n",
      "|    1| 3302|\n",
      "|    2| 2901|\n",
      "|    3| 3804|\n",
      "|    4| 5644|\n",
      "|    5| 8925|\n",
      "|    6| 8546|\n",
      "|    7| 9609|\n",
      "|    8|11149|\n",
      "|    9| 7206|\n",
      "|   10| 4689|\n",
      "|   11| 3570|\n",
      "|   12| 3662|\n",
      "+-----+-----+\n",
      "\n"
     ]
    }
   ],
   "source": [
    "gb_month.show()"
   ]
  },
  {
   "cell_type": "code",
   "execution_count": 51,
   "metadata": {},
   "outputs": [],
   "source": [
    "# export and visualize\n",
    "month = [row['month'] for row in gb_month.collect()]\n",
    "review_count=[row['count'] for row in gb_month.collect()]"
   ]
  },
  {
   "cell_type": "code",
   "execution_count": 52,
   "metadata": {},
   "outputs": [
    {
     "data": {
      "image/png": "[encoded data removed]",
      "text/plain": [
       "<Figure size 432x288 with 1 Axes>"
      ]
     },
     "metadata": {
      "needs_background": "light"
     },
     "output_type": "display_data"
    }
   ],
   "source": [
    "plt.plot(month,review_count)\n",
    "plt.title(\"Number of reviews in Copenhagen (by month)\")\n",
    "plt.xlabel(\"Month\")\n",
    "plt.ylabel(\"Review Count\")\n",
    "plt.show()"
   ]
  },
  {
   "cell_type": "code",
   "execution_count": 53,
   "metadata": {},
   "outputs": [],
   "source": [
    "# to see if there is any seasonality effects,\n",
    "# use groupby to count the number of reviews per month per year\n",
    "gb_year_month=joined_clean.groupBy('year','month').count().\\\n",
    "                withColumn('year', f.col('year').cast('Integer')).\\\n",
    "                withColumn('month', f.col('month').cast('Integer')).\\\n",
    "                orderBy(['year','month'], ascending=[1,1])"
   ]
  },
  {
   "cell_type": "code",
   "execution_count": 54,
   "metadata": {},
   "outputs": [
    {
     "name": "stdout",
     "output_type": "stream",
     "text": [
      "+----+-----+-----+\n",
      "|year|month|count|\n",
      "+----+-----+-----+\n",
      "|2009|    9|    2|\n",
      "|2009|   12|    1|\n",
      "|2010|    1|    1|\n",
      "|2010|    4|    1|\n",
      "|2010|    5|    1|\n",
      "|2010|    6|    4|\n",
      "|2010|    7|    4|\n",
      "|2010|    8|   12|\n",
      "|2010|    9|    5|\n",
      "|2010|   10|    3|\n",
      "|2010|   11|    4|\n",
      "|2010|   12|    3|\n",
      "|2011|    1|    6|\n",
      "|2011|    2|    4|\n",
      "|2011|    3|    7|\n",
      "|2011|    4|   12|\n",
      "|2011|    5|   15|\n",
      "|2011|    6|   19|\n",
      "|2011|    7|   22|\n",
      "|2011|    8|   46|\n",
      "+----+-----+-----+\n",
      "only showing top 20 rows\n",
      "\n"
     ]
    }
   ],
   "source": [
    "gb_year_month.show()"
   ]
  },
  {
   "cell_type": "markdown",
   "metadata": {},
   "source": [
    "<font color=\"red\">I will try fix the seasonality plot xlabel to include month and year, and do a deeper analysis/test on seasonality soon after i finish downloading the reviews data.</font>"
   ]
  },
  {
   "cell_type": "code",
   "execution_count": 55,
   "metadata": {},
   "outputs": [
    {
     "data": {
      "image/png": "[encoded data removed]",
      "text/plain": [
       "<Figure size 432x288 with 1 Axes>"
      ]
     },
     "metadata": {
      "needs_background": "light"
     },
     "output_type": "display_data"
    }
   ],
   "source": [
    "# export and visualize\n",
    "review_count=[row['count'] for row in gb_year_month.collect()]\n",
    "plt.title(\"Number of reviews in Copenhagen (by year & month)\")\n",
    "plt.xlabel(\"Month\")\n",
    "plt.ylabel(\"Review Count\")\n",
    "plt.plot(review_count)\n",
    "plt.show()"
   ]
  },
  {
   "cell_type": "markdown",
   "metadata": {},
   "source": [
    "<font color=\"navy\">As can be seen from the plot, there is no clear seasonality in the first 40 months, perhaps due to the few number of users as Airbnb was just launched not long ago. Seasonality becomes more pronounced from the 40th month onwards, where a cyclic pattern is observed.\n",
    "<br>\n",
    "<br>\n",
    "In the next section, our group decides to have a closer look at the seasonal variations of the number of listing reviews in Copenhagen.</font>"
   ]
  },
  {
   "cell_type": "markdown",
   "metadata": {},
   "source": [
    "<font color=\"red\">Leave this section to me (ZY)</font>"
   ]
  },
  {
   "cell_type": "code",
   "execution_count": null,
   "metadata": {},
   "outputs": [],
   "source": []
  },
  {
   "cell_type": "markdown",
   "metadata": {},
   "source": [
    "## Reviews\n",
    "In this part you should determine which words used in reviews that are the most positive. \n",
    "\n",
    "The individual reviews do not have a rating of the listing, so we will assume that each review gave the average rating to the listing, i.e., the one on the listing.\n",
    "\n",
    "You should assign a positivity weight to each word seen in reviews and list the words with the highest weight. It is up to you to decide what the weight should be. For example, it can be a function of the rating on the listing on which it occurs, the number of reviews it occurs in, and the number of unique listings for which it was used to review.\n",
    "\n",
    "Depending on your choice of weight function, you may also want to do some filtering of words. For example, remove words that only occur in a few reviews."
   ]
  },
  {
   "cell_type": "markdown",
   "metadata": {},
   "source": [
    "<font color=\"navy\">**To fulfil the above requirements, our group has come up with a plan that has the following steps:**\n",
    "\n",
    "1. join reviews and listings on id, keep the comments and ratings column\n",
    "<br>\n",
    "<br>\n",
    "2. clean and tokenize the comments column\n",
    "<br>\n",
    "<br>\n",
    "3. for each word token, compute its average rating and store this information in a dictionary. This is achieved by:\n",
    "    1. initializing a dictionary that looks like this: `{token1 : [sum_ratings, total_num_occurrences], ...}`\n",
    "    2. iterating through every token, and update it accordingly\n",
    "        - e.g. we start off by having a dictionary {\"good\": (70, 10)}. This means that so far, the word \"good\" has a cumulative rating of 70, and this word has occurred for 10 times already. \n",
    "        - Should we encounter the word \"good\" again in a review whose rating is 8, we will update the dictionary accordingly, so that the new dictionary will become {\"good\":(78, 11)}\n",
    "    3. finally, computing the average rating of each token by using sum_ratings/total_num_occurrences\n",
    "        - e.g. in the previous example {\"good\":(78, 11)}, the average rating of the word \"good\" will be 78/11 = 7.09\n",
    "<br>\n",
    "<br>\n",
    "4. sort the dictionary and return words with the highest ratings</font>"
   ]
  },
  {
   "cell_type": "code",
   "execution_count": 35,
   "metadata": {},
   "outputs": [],
   "source": [
    "# join reviews and listings tables on listing id, and keep rating and comments columns\n",
    "pos_table = listings.select('id','review_scores_rating').\\\n",
    "                join(reviews.select('listing_id','comments'), \n",
    "                     f.col('id') == f.col('listing_id')).drop('listing_id').cache()"
   ]
  },
  {
   "cell_type": "code",
   "execution_count": 65,
   "metadata": {},
   "outputs": [
    {
     "data": {
      "text/plain": [
       "6543795"
      ]
     },
     "execution_count": 65,
     "metadata": {},
     "output_type": "execute_result"
    }
   ],
   "source": [
    "# drop rows where either rating or comments is null\n",
    "pos_table = pos_table.dropna()\n",
    "pos_table.count()"
   ]
  },
  {
   "cell_type": "code",
   "execution_count": null,
   "metadata": {},
   "outputs": [],
   "source": []
  },
  {
   "cell_type": "markdown",
   "metadata": {},
   "source": [
    "<font color=\"red\">use a small fraction of the dataframe for faster execution of codes. rmb to change sample to the acutal dataframe at the end of the day!</font>"
   ]
  },
  {
   "cell_type": "code",
   "execution_count": 58,
   "metadata": {},
   "outputs": [],
   "source": [
    "sample = pos_table.sample(False, 0.01, 33)"
   ]
  },
  {
   "cell_type": "code",
   "execution_count": null,
   "metadata": {},
   "outputs": [],
   "source": []
  },
  {
   "cell_type": "code",
   "execution_count": 7,
   "metadata": {},
   "outputs": [
    {
     "name": "stdout",
     "output_type": "stream",
     "text": [
      "\u001b[33mWARNING: The directory '/home/jovyan/.cache/pip/http' or its parent directory is not owned by the current user and the cache has been disabled. Please check the permissions and owner of that directory. If executing pip with sudo, you may want sudo's -H flag.\u001b[0m\n",
      "\u001b[33mWARNING: The directory '/home/jovyan/.cache/pip' or its parent directory is not owned by the current user and caching wheels has been disabled. check the permissions and owner of that directory. If executing pip with sudo, you may want sudo's -H flag.\u001b[0m\n",
      "Collecting gensim\n",
      "\u001b[?25l  Downloading https://files.pythonhosted.org/packages/44/93/c6011037f24e3106d13f3be55297bf84ece2bf15b278cc4776339dc52db5/gensim-3.8.1-cp37-cp37m-manylinux1_x86_64.whl (24.2MB)\n",
      "\u001b[K     |████████████████████████████████| 24.2MB 5.2MB/s eta 0:00:011   |███████▊                        | 5.8MB 2.5MB/s eta 0:00:08     |████████▎                       | 6.2MB 2.5MB/s eta 0:00:08     |██████████████                  | 10.6MB 10.9MB/s eta 0:00:02     |██████████████▊                 | 11.1MB 10.9MB/s eta 0:00:02     |████████████████▌               | 12.5MB 10.9MB/s eta 0:00:02     |█████████████████▊              | 13.4MB 10.9MB/s eta 0:00:01     |███████████████████████████████▋| 23.9MB 5.2MB/s eta 0:00:01\n",
      "\u001b[?25hRequirement already satisfied: scipy>=0.18.1 in /opt/conda/lib/python3.7/site-packages (from gensim) (1.3.1)\n",
      "Requirement already satisfied: numpy>=1.11.3 in /opt/conda/lib/python3.7/site-packages (from gensim) (1.17.0)\n",
      "Requirement already satisfied: six>=1.5.0 in /opt/conda/lib/python3.7/site-packages (from gensim) (1.12.0)\n",
      "Collecting smart-open>=1.8.1 (from gensim)\n",
      "\u001b[?25l  Downloading https://files.pythonhosted.org/packages/0c/09/735f2786dfac9bbf39d244ce75c0313d27d4962e71e0774750dc809f2395/smart_open-1.9.0.tar.gz (70kB)\n",
      "\u001b[K     |████████████████████████████████| 71kB 7.4MB/s eta 0:00:01\n",
      "\u001b[?25hCollecting boto>=2.32 (from smart-open>=1.8.1->gensim)\n",
      "\u001b[?25l  Downloading https://files.pythonhosted.org/packages/23/10/c0b78c27298029e4454a472a1919bde20cb182dab1662cec7f2ca1dcc523/boto-2.49.0-py2.py3-none-any.whl (1.4MB)\n",
      "\u001b[K     |████████████████████████████████| 1.4MB 9.4MB/s eta 0:00:01     |████▍                           | 184kB 9.4MB/s eta 0:00:01     |████████████████████████▉       | 1.1MB 9.4MB/s eta 0:00:01\n",
      "\u001b[?25hRequirement already satisfied: requests in /opt/conda/lib/python3.7/site-packages (from smart-open>=1.8.1->gensim) (2.22.0)\n",
      "Collecting boto3 (from smart-open>=1.8.1->gensim)\n",
      "\u001b[?25l  Downloading https://files.pythonhosted.org/packages/67/17/567f679dac6ec93611ce05637094e9736afa40e41c9ed0aaefd90de6f7e8/boto3-1.10.28-py2.py3-none-any.whl (128kB)\n",
      "\u001b[K     |████████████████████████████████| 133kB 7.6MB/s eta 0:00:01\n",
      "\u001b[?25hRequirement already satisfied: urllib3!=1.25.0,!=1.25.1,<1.26,>=1.21.1 in /opt/conda/lib/python3.7/site-packages (from requests->smart-open>=1.8.1->gensim) (1.25.3)\n",
      "Requirement already satisfied: idna<2.9,>=2.5 in /opt/conda/lib/python3.7/site-packages (from requests->smart-open>=1.8.1->gensim) (2.8)\n",
      "Requirement already satisfied: chardet<3.1.0,>=3.0.2 in /opt/conda/lib/python3.7/site-packages (from requests->smart-open>=1.8.1->gensim) (3.0.4)\n",
      "Requirement already satisfied: certifi>=2017.4.17 in /opt/conda/lib/python3.7/site-packages (from requests->smart-open>=1.8.1->gensim) (2019.6.16)\n",
      "Collecting jmespath<1.0.0,>=0.7.1 (from boto3->smart-open>=1.8.1->gensim)\n",
      "  Downloading https://files.pythonhosted.org/packages/83/94/7179c3832a6d45b266ddb2aac329e101367fbdb11f425f13771d27f225bb/jmespath-0.9.4-py2.py3-none-any.whl\n",
      "Collecting s3transfer<0.3.0,>=0.2.0 (from boto3->smart-open>=1.8.1->gensim)\n",
      "\u001b[?25l  Downloading https://files.pythonhosted.org/packages/16/8a/1fc3dba0c4923c2a76e1ff0d52b305c44606da63f718d14d3231e21c51b0/s3transfer-0.2.1-py2.py3-none-any.whl (70kB)\n",
      "\u001b[K     |████████████████████████████████| 71kB 12.9MB/s eta 0:00:01\n",
      "\u001b[?25hCollecting botocore<1.14.0,>=1.13.28 (from boto3->smart-open>=1.8.1->gensim)\n",
      "\u001b[?25l  Downloading https://files.pythonhosted.org/packages/8e/b3/ab9044d3aa14208f5b6f69665d5f82ad9b028809666e4e70dac1ab0bfd3a/botocore-1.13.28-py2.py3-none-any.whl (5.7MB)\n",
      "\u001b[K     |████████████████████████████████| 5.7MB 11.6MB/s eta 0:00:01     |████████████▊                   | 2.3MB 11.6MB/s eta 0:00:01\n",
      "\u001b[?25hCollecting docutils<0.16,>=0.10 (from botocore<1.14.0,>=1.13.28->boto3->smart-open>=1.8.1->gensim)\n",
      "\u001b[?25l  Downloading https://files.pythonhosted.org/packages/22/cd/a6aa959dca619918ccb55023b4cb151949c64d4d5d55b3f4ffd7eee0c6e8/docutils-0.15.2-py3-none-any.whl (547kB)\n",
      "\u001b[K     |████████████████████████████████| 552kB 5.7MB/s eta 0:00:01     |████████████▋                   | 215kB 5.7MB/s eta 0:00:01\n",
      "\u001b[?25hRequirement already satisfied: python-dateutil<2.8.1,>=2.1; python_version >= \"2.7\" in /opt/conda/lib/python3.7/site-packages (from botocore<1.14.0,>=1.13.28->boto3->smart-open>=1.8.1->gensim) (2.8.0)\n",
      "Building wheels for collected packages: smart-open\n",
      "\u001b[33m  WARNING: Building wheel for smart-open failed: [Errno 13] Permission denied: '/home/jovyan/.cache/pip/wheels/ab'\u001b[0m\n",
      "Failed to build smart-open\n",
      "Installing collected packages: boto, jmespath, docutils, botocore, s3transfer, boto3, smart-open, gensim\n",
      "  Running setup.py install for smart-open ... \u001b[?25ldone\n",
      "\u001b[?25hSuccessfully installed boto-2.49.0 boto3-1.10.28 botocore-1.13.28 docutils-0.15.2 gensim-3.8.1 jmespath-0.9.4 s3transfer-0.2.1 smart-open-1.9.0\n"
     ]
    }
   ],
   "source": [
    "# Install pip packages gensim in the current Jupyter kernel\n",
    "# gensim is a Natural Language Processing library\n",
    "import sys\n",
    "!{sys.executable} -m pip install gensim"
   ]
  },
  {
   "cell_type": "code",
   "execution_count": 8,
   "metadata": {},
   "outputs": [],
   "source": [
    "import gensim.parsing.preprocessing as gsp\n",
    "from gensim import utils\n",
    "from pyspark.ml import Pipeline\n",
    "from pyspark.ml.feature import Tokenizer"
   ]
  },
  {
   "cell_type": "code",
   "execution_count": 37,
   "metadata": {},
   "outputs": [],
   "source": [
    "# set up filters for text cleaning\n",
    "\n",
    "filters = [\n",
    "           gsp.strip_tags,  # Conversion to lowercase\n",
    "           gsp.strip_punctuation, # Removal of punctuations\n",
    "           gsp.strip_multiple_whitespaces, # Removal of extra spaces\n",
    "           gsp.strip_numeric, # Removal of integers, numbers\n",
    "           gsp.remove_stopwords, # Removal of stop words (like ‘and’, ‘to’, ‘the’ etc)\n",
    "           # gsp.stem_text # Stemming (Conversion of words to root form)\n",
    "          ]"
   ]
  },
  {
   "cell_type": "code",
   "execution_count": 38,
   "metadata": {},
   "outputs": [],
   "source": [
    "# define a function to preprocess the raw comments\n",
    "\n",
    "def preprocess_comments(x):\n",
    "    if x is None:\n",
    "        return \"\"\n",
    "    x = x.lower() # set to lower case\n",
    "    x = utils.to_unicode(x) # convert to unicode\n",
    "    for f in filters:\n",
    "        x = f(x)\n",
    "    return x"
   ]
  },
  {
   "cell_type": "code",
   "execution_count": 39,
   "metadata": {},
   "outputs": [],
   "source": [
    "# use pre-process_comments() as a udf\n",
    "preprocess_comments_udf = f.udf(preprocess_comments)"
   ]
  },
  {
   "cell_type": "code",
   "execution_count": 40,
   "metadata": {},
   "outputs": [],
   "source": [
    "# apply preprocess_comments_udf to the comments column of the spark dataframe\n",
    "sample_1 = sample.withColumn('processed_comments', preprocess_comments_udf(f.col('comments')))"
   ]
  },
  {
   "cell_type": "code",
   "execution_count": 41,
   "metadata": {},
   "outputs": [],
   "source": [
    "# using Apache Spark to tokenize the words\n",
    "tokenizer = Tokenizer(inputCol=\"processed_comments\", outputCol=\"tokens\")\n",
    "sample_2 = tokenizer.transform(sample_1)"
   ]
  },
  {
   "cell_type": "code",
   "execution_count": 42,
   "metadata": {},
   "outputs": [],
   "source": [
    "# prepare a dictionary that is used for storing and computing the positivity score for each word\n",
    "ratings_dic = {}"
   ]
  },
  {
   "cell_type": "code",
   "execution_count": 50,
   "metadata": {},
   "outputs": [],
   "source": [
    "def compute_ratings(row):\n",
    "    rating = row[1] # rating is the 1st column (0-index based) in the spark dataframe \n",
    "    tokens = row[4] # tokens is the 4th column (0-index based) in the spark dataframe\n",
    "    for token in tokens:\n",
    "        if token not in ratings_dic:\n",
    "            ratings_dic[token] = [0,0] # [m, n] where m is the sum of scores & n is the number of occurrences of this token\n",
    "        ratings_dic[token][0] += int(rating)\n",
    "        ratings_dic[token][1] += 1"
   ]
  },
  {
   "cell_type": "code",
   "execution_count": 59,
   "metadata": {
    "scrolled": false
   },
   "outputs": [],
   "source": [
    "for row in sample_2.collect():\n",
    "    compute_ratings(row)"
   ]
  },
  {
   "cell_type": "code",
   "execution_count": 60,
   "metadata": {},
   "outputs": [
    {
     "data": {
      "text/plain": [
       "{'gentil': [430, 5],\n",
       " 'accueil': [2750, 30],\n",
       " 'francesco': [860, 10],\n",
       " 'l': [8700, 95],\n",
       " 'appartement': [10635, 115],\n",
       " 'est': [7775, 85],\n",
       " 'spacieux': [860, 10],\n",
       " 'très': [9715, 105],\n",
       " 'propre': [3750, 40],\n",
       " 'avec': [2645, 30],\n",
       " 'les': [4420, 50],\n",
       " 'équipements': [430, 5],\n",
       " 'nécessaires': [430, 5],\n",
       " 'sauf': [430, 5],\n",
       " 'le': [8060, 90],\n",
       " 'wi': [1265, 15],\n",
       " 'fi': [1265, 15],\n",
       " 'il': [3715, 40],\n",
       " 'donne': [430, 5],\n",
       " 'sur': [2215, 25],\n",
       " 'une': [3495, 40],\n",
       " 'route': [430, 5],\n",
       " 'mais': [1770, 20],\n",
       " 'finalement': [430, 5],\n",
       " 'pas': [3930, 45],\n",
       " 'déranger': [430, 5],\n",
       " 'contrairement': [430, 5],\n",
       " 'à': [10655, 115],\n",
       " 'nos': [4730, 50],\n",
       " 'clients': [430, 5],\n",
       " 'craintes': [430, 5],\n",
       " 'literie': [430, 5],\n",
       " 'ok': [1370, 15],\n",
       " 'draps': [430, 5],\n",
       " 'peu': [430, 5],\n",
       " 'reches': [430, 5],\n",
       " 'merci': [1310, 15],\n",
       " '位置非常好': [465, 5],\n",
       " '走路到台北大约分钟': [465, 5],\n",
       " 'great': [65080, 690],\n",
       " 'place': [64625, 675],\n",
       " 'stay': [65045, 680],\n",
       " 'good': [20305, 215],\n",
       " 'location': [45405, 480],\n",
       " 'clean': [38340, 405],\n",
       " 'cozy': [5300, 55],\n",
       " 'room': [26555, 285],\n",
       " 'thanasi': [970, 10],\n",
       " 'greeted': [920, 10],\n",
       " 'door': [4230, 45],\n",
       " 'warm': [3790, 40],\n",
       " 'welcoming': [7640, 80],\n",
       " 'apartment': [42620, 450],\n",
       " 'exactly': [7275, 75],\n",
       " 'pictured': [485, 5],\n",
       " 'light': [2315, 25],\n",
       " 'filled': [485, 5],\n",
       " 'important': [485, 5],\n",
       " 'maps': [970, 10],\n",
       " 'information': [3190, 35],\n",
       " 'ready': [1895, 20],\n",
       " 'directed': [485, 5],\n",
       " 'nearest': [485, 5],\n",
       " 'neighborhood': [10195, 105],\n",
       " 'restaurants': [16000, 165],\n",
       " 'lovely': [16230, 170],\n",
       " 'assortment': [485, 5],\n",
       " 'supplies': [485, 5],\n",
       " 'tea': [2260, 25],\n",
       " 'coffee': [5135, 55],\n",
       " 'fruit': [940, 10],\n",
       " 'yogurt': [485, 5],\n",
       " 'couldn': [1450, 15],\n",
       " 't': [10080, 105],\n",
       " 'better': [5635, 60],\n",
       " 'easily': [1465, 15],\n",
       " 'walk': [14680, 155],\n",
       " 'new': [3760, 40],\n",
       " 'acropolis': [970, 10],\n",
       " 'museum': [970, 10],\n",
       " 'fact': [485, 5],\n",
       " 'walked': [985, 10],\n",
       " 'public': [2755, 30],\n",
       " 'transportation': [1945, 20],\n",
       " 'plaka': [485, 5],\n",
       " 'area': [13650, 145],\n",
       " 'minutes': [6595, 70],\n",
       " 'entrance': [1955, 20],\n",
       " 'incredible': [1880, 20],\n",
       " 'host': [23560, 250],\n",
       " 'clear': [1930, 20],\n",
       " 'loves': [485, 5],\n",
       " 'athens': [975, 10],\n",
       " 'eager': [485, 5],\n",
       " 'guests': [6035, 65],\n",
       " 'experience': [7490, 80],\n",
       " 'mooi': [990, 10],\n",
       " 'met': [5735, 60],\n",
       " 'alles': [3320, 35],\n",
       " 'wat': [970, 10],\n",
       " 'nodig': [970, 10],\n",
       " 'hadden': [490, 5],\n",
       " 'zelfs': [490, 5],\n",
       " 'een': [5835, 60],\n",
       " 'wasmachine': [490, 5],\n",
       " 'badkamer': [490, 5],\n",
       " 'eerder': [490, 5],\n",
       " 'klein': [490, 5],\n",
       " 'maar': [980, 10],\n",
       " 'wel': [980, 10],\n",
       " 'groot': [490, 5],\n",
       " 'genoeg': [490, 5],\n",
       " 'het': [4880, 50],\n",
       " 'ligt': [490, 5],\n",
       " 'niet': [975, 10],\n",
       " 'centrum': [1460, 15],\n",
       " 'rustige': [975, 10],\n",
       " 'en': [20500, 215],\n",
       " 'mooie': [490, 5],\n",
       " 'buurt': [970, 10],\n",
       " '‘s': [490, 5],\n",
       " 'ochtends': [490, 5],\n",
       " 'kan': [490, 5],\n",
       " 'je': [5255, 55],\n",
       " 'ontbijten': [490, 5],\n",
       " 'langs': [490, 5],\n",
       " 'binnenkaai': [490, 5],\n",
       " 'van': [2385, 25],\n",
       " 'haven': [990, 10],\n",
       " 'makkelijk': [490, 5],\n",
       " 'te': [2900, 30],\n",
       " 'bereiken': [490, 5],\n",
       " 'metro': [4245, 45],\n",
       " '€': [955, 10],\n",
       " 'persoon': [490, 5],\n",
       " 'naar': [1940, 20],\n",
       " 'laurids': [490, 5],\n",
       " 'geweldige': [490, 5],\n",
       " 'die': [8380, 90],\n",
       " 'telkens': [980, 10],\n",
       " 'voor': [1475, 15],\n",
       " 'ons': [2915, 30],\n",
       " 'klaarstond': [490, 5],\n",
       " 'hij': [490, 5],\n",
       " 'beantwoordde': [490, 5],\n",
       " 'al': [1920, 20],\n",
       " 'onze': [490, 5],\n",
       " 'vragen': [490, 5],\n",
       " 'stond': [990, 10],\n",
       " 'klaar': [490, 5],\n",
       " 'absolutely': [3825, 40],\n",
       " 'phenomenal': [490, 5],\n",
       " 'felt': [5340, 55],\n",
       " 'like': [10500, 110],\n",
       " 'home': [13520, 140],\n",
       " 'located': [8130, 85],\n",
       " 'heart': [2855, 30],\n",
       " 'santa': [1450, 15],\n",
       " 'monica': [1935, 20],\n",
       " 'close': [15370, 160],\n",
       " 'shops': [9055, 95],\n",
       " 'pier': [490, 5],\n",
       " 'highly': [15570, 160],\n",
       " 'recommend': [25550, 265],\n",
       " 'book': [3375, 35],\n",
       " 'definitely': [13020, 135],\n",
       " 'hitting': [490, 5],\n",
       " 'ryan': [490, 5],\n",
       " 'nice': [31555, 335],\n",
       " 'spacious': [9000, 95],\n",
       " 'house': [18780, 195],\n",
       " 'quiet': [11495, 120],\n",
       " 'safe': [4770, 50],\n",
       " 'easy': [16710, 175],\n",
       " 'cleaning': [1760, 20],\n",
       " 'min': [4730, 50],\n",
       " 'booking': [2275, 25],\n",
       " 'bunch': [435, 5],\n",
       " 'traveling': [905, 10],\n",
       " 'friends': [2410, 25],\n",
       " 'asiye’s': [435, 5],\n",
       " 'responded': [2245, 25],\n",
       " 'mins': [1295, 15],\n",
       " 'thank': [6235, 65],\n",
       " 'beautiful': [12560, 130],\n",
       " 'ideal': [4805, 50],\n",
       " 'town': [4805, 50],\n",
       " 'marg': [490, 5],\n",
       " 'excellent': [6715, 70],\n",
       " 'communicator': [890, 10],\n",
       " 'went': [3795, 40],\n",
       " 'smoothly': [950, 10],\n",
       " 'effortlessly': [490, 5],\n",
       " 'comfortable': [19790, 210],\n",
       " 'bed': [10840, 115],\n",
       " 'plenty': [3365, 35],\n",
       " 'linen': [1455, 15],\n",
       " 'lots': [6685, 70],\n",
       " 'cooking': [2885, 30],\n",
       " 'equipment': [490, 5],\n",
       " 'want': [5540, 60],\n",
       " 'food': [3785, 40],\n",
       " 'thanks': [8545, 90],\n",
       " 'conforme': [400, 5],\n",
       " 'la': [38010, 405],\n",
       " 'description': [2280, 25],\n",
       " 'hôte': [400, 5],\n",
       " 'sympathique': [850, 10],\n",
       " 'guest': [1440, 15],\n",
       " 'wonderful': [9175, 95],\n",
       " 'peaceful': [3885, 40],\n",
       " 'situated': [1470, 15],\n",
       " 'hollywood': [975, 10],\n",
       " 'hills': [490, 5],\n",
       " 'martin': [960, 10],\n",
       " 'yasmine': [490, 5],\n",
       " 'responsive': [5765, 60],\n",
       " 'helped': [1920, 20],\n",
       " 'bags': [2655, 30],\n",
       " 'lost': [1345, 15],\n",
       " 'airlines': [490, 5],\n",
       " 'staying': [11920, 125],\n",
       " 'return': [930, 10],\n",
       " 'future': [2865, 30],\n",
       " 'david': [1425, 15],\n",
       " 'ginger': [485, 5],\n",
       " 'quick': [9180, 95],\n",
       " 'respond': [3300, 35],\n",
       " 'communicate': [1935, 20],\n",
       " 'stockholm': [475, 5],\n",
       " 'roomy': [1940, 20],\n",
       " 'cute': [4325, 45],\n",
       " 'art': [1430, 15],\n",
       " 'beds': [3385, 35],\n",
       " 'perfect': [19115, 200],\n",
       " 'reach': [1920, 20],\n",
       " 'inner': [475, 5],\n",
       " 'city': [13190, 140],\n",
       " 'grocery': [2820, 30],\n",
       " 'store': [1445, 15],\n",
       " 'meet': [3795, 40],\n",
       " 'natalie': [475, 5],\n",
       " 'friend': [2405, 25],\n",
       " 'gave': [7670, 80],\n",
       " 'keys': [2775, 30],\n",
       " 'communication': [10905, 115],\n",
       " 'overall': [2700, 30],\n",
       " 'days': [6885, 75],\n",
       " 'little': [9985, 105],\n",
       " 'slice': [470, 5],\n",
       " 'paradise': [470, 5],\n",
       " 'lanai': [470, 5],\n",
       " 'possibly': [1430, 15],\n",
       " 'asked': [2775, 30],\n",
       " 'greatly': [960, 10],\n",
       " 'exceeded': [470, 5],\n",
       " 'expectations': [470, 5],\n",
       " 'best': [8145, 85],\n",
       " 'stayed': [6700, 70],\n",
       " 'vinces': [475, 5],\n",
       " 'july': [475, 5],\n",
       " 'friendly': [12265, 130],\n",
       " 'access': [4635, 50],\n",
       " 'case': [1430, 15],\n",
       " 'issue': [3680, 40],\n",
       " 'question': [475, 5],\n",
       " 'needed': [9630, 100],\n",
       " 'minute': [2845, 30],\n",
       " 'skytrain': [475, 5],\n",
       " 'realize': [475, 5],\n",
       " 'rely': [475, 5],\n",
       " 'parking': [10900, 115],\n",
       " 'downtown': [4720, 50],\n",
       " 'vancouver': [960, 10],\n",
       " 'difficult': [2335, 25],\n",
       " 'environment': [1450, 15],\n",
       " 'hosts': [9435, 100],\n",
       " 'cleanest': [990, 10],\n",
       " 've': [1955, 20],\n",
       " 'possible': [980, 10],\n",
       " 'come': [6290, 65],\n",
       " 'pat': [1475, 15],\n",
       " 's': [35475, 370],\n",
       " 'pleasure': [980, 10],\n",
       " 'space': [14080, 145],\n",
       " 'family': [4830, 50],\n",
       " 'hope': [1920, 20],\n",
       " 'time': [17365, 185],\n",
       " 'visit': [5750, 60],\n",
       " 'york': [490, 5],\n",
       " 'kind': [2835, 30],\n",
       " 'attentive': [2375, 25],\n",
       " 'street': [5780, 60],\n",
       " 'feel': [7080, 75],\n",
       " 'recommended': [7235, 75],\n",
       " 'beautifully': [975, 10],\n",
       " 'walking': [7200, 75],\n",
       " 'distance': [7165, 75],\n",
       " 'perth': [490, 5],\n",
       " 'central': [2930, 30],\n",
       " 'business': [985, 10],\n",
       " 'district': [970, 10],\n",
       " 'majestic': [490, 5],\n",
       " 'kings': [490, 5],\n",
       " 'park': [2905, 30],\n",
       " 'lyda': [490, 5],\n",
       " 'requests': [1440, 15],\n",
       " 'offered': [2780, 30],\n",
       " 'local': [7120, 75],\n",
       " 'tips': [4780, 50],\n",
       " 'gratefully': [490, 5],\n",
       " 'received': [1940, 20],\n",
       " 'problem': [2220, 25],\n",
       " 'end': [1960, 20],\n",
       " 'happily': [955, 10],\n",
       " 'charming': [1410, 15],\n",
       " 'spot': [4765, 50],\n",
       " 'coolest': [480, 5],\n",
       " 'comfy': [4790, 50],\n",
       " 'awesome': [945, 10],\n",
       " 'hanging': [480, 5],\n",
       " 'terrace': [480, 5],\n",
       " 'wanted': [1395, 15],\n",
       " 'action': [480, 5],\n",
       " 'amazing': [11065, 115],\n",
       " 'arranged': [965, 10],\n",
       " 'seamless': [480, 5],\n",
       " 'early': [2440, 25],\n",
       " 'check': [13640, 145],\n",
       " 'loads': [480, 5],\n",
       " 'helpful': [11765, 125],\n",
       " 'hints': [480, 5],\n",
       " 'sure': [6585, 70],\n",
       " 'flat': [6100, 65],\n",
       " 'described': [3830, 40],\n",
       " 'way': [3235, 35],\n",
       " 'fantastic': [4595, 50],\n",
       " 'nicely': [4350, 45],\n",
       " 'decorated': [3410, 35],\n",
       " 'amenities': [6650, 70],\n",
       " 'kitchen': [11015, 115],\n",
       " 'meals': [960, 10],\n",
       " 'breeze': [465, 5],\n",
       " 'hot': [4210, 45],\n",
       " 'shower': [2345, 25],\n",
       " 'water': [4170, 45],\n",
       " 'pressure': [465, 5],\n",
       " 'checking': [960, 10],\n",
       " 'sunday': [465, 5],\n",
       " 'christmas': [465, 5],\n",
       " 'eve': [465, 5],\n",
       " 'jean': [930, 10],\n",
       " 'baptiste': [465, 5],\n",
       " 'explained': [1390, 15],\n",
       " 'enjoyed': [9065, 95],\n",
       " 'studio': [2900, 30],\n",
       " 'fluffy': [915, 10],\n",
       " 'pillows': [490, 5],\n",
       " 'c': [2395, 25],\n",
       " 'worked': [3350, 35],\n",
       " 'convenient': [7110, 75],\n",
       " 'responses': [1910, 20],\n",
       " 'communicating': [980, 10],\n",
       " 'giulio': [490, 5],\n",
       " 'wished': [490, 5],\n",
       " 'longer': [2845, 30],\n",
       " 'marie': [490, 5],\n",
       " 'pierre': [490, 5],\n",
       " 'mathieu': [1910, 20],\n",
       " 'cottage': [3455, 35],\n",
       " 'glorious': [490, 5],\n",
       " 'relaxing': [490, 5],\n",
       " 'enjoyable': [980, 10],\n",
       " 'stocked': [1935, 20],\n",
       " 'sunsets': [490, 5],\n",
       " 'marvelous': [490, 5],\n",
       " 'neighbors': [1415, 15],\n",
       " 'acadian': [490, 5],\n",
       " 'peninsula': [490, 5],\n",
       " 'plans': [985, 10],\n",
       " 'taking': [490, 5],\n",
       " 'el': [10105, 105],\n",
       " 'depto': [480, 5],\n",
       " 'es': [12385, 130],\n",
       " 'muy': [7455, 80],\n",
       " 'agradable': [1420, 15],\n",
       " 'y': [22975, 240],\n",
       " 'comodo': [970, 10],\n",
       " 'para': [5300, 55],\n",
       " 'una': [3400, 35],\n",
       " 'persona': [480, 5],\n",
       " 'hubicacion': [480, 5],\n",
       " 'cercana': [480, 5],\n",
       " 'subte': [1900, 20],\n",
       " 'metrobus': [480, 5],\n",
       " 'pleno': [480, 5],\n",
       " 'palermo': [960, 10],\n",
       " 'cama': [1430, 15],\n",
       " 'comoda': [480, 5],\n",
       " 'ducha': [480, 5],\n",
       " 'anda': [480, 5],\n",
       " 'bien': [6610, 70],\n",
       " 'cocina': [1430, 15],\n",
       " 'completa': [1450, 15],\n",
       " 'practica': [480, 5],\n",
       " 'value': [3650, 40],\n",
       " 'carmenza': [495, 5],\n",
       " 'airbnb': [6620, 70],\n",
       " 'maria': [2355, 25],\n",
       " 'alfama': [480, 5],\n",
       " 'perfectly': [1850, 20],\n",
       " 'able': [2350, 25],\n",
       " '挺好的': [950, 10],\n",
       " '太子地铁口出来就是了': [455, 5],\n",
       " '但是要记得自备牙刷': [455, 5],\n",
       " 'money': [1820, 20],\n",
       " 'equipped': [3755, 40],\n",
       " 'essentials': [1415, 15],\n",
       " 'needs': [4580, 50],\n",
       " 'accessible': [1375, 15],\n",
       " 'main': [2355, 25],\n",
       " 'attraction': [485, 5],\n",
       " 'places': [3860, 40],\n",
       " 'berlin': [2445, 25],\n",
       " 'jo': [980, 10],\n",
       " 'accommodating': [6340, 65],\n",
       " 'pleasant': [3275, 35],\n",
       " 'fab': [970, 10],\n",
       " 'visiting': [970, 10],\n",
       " 'fringe': [475, 5],\n",
       " 'festival': [965, 10],\n",
       " 'sights': [1400, 15],\n",
       " 'edinburgh': [950, 10],\n",
       " 'trudi': [475, 5],\n",
       " 'short': [5790, 60],\n",
       " 'joy': [975, 10],\n",
       " 'advertised': [2870, 30],\n",
       " 'quaint': [1920, 20],\n",
       " 'looking': [9070, 95],\n",
       " 'low': [475, 5],\n",
       " 'stress': [475, 5],\n",
       " 'boutique': [475, 5],\n",
       " 'russel': [475, 5],\n",
       " 'hands': [965, 10],\n",
       " 'quirky': [475, 5],\n",
       " 'hotel': [1875, 20],\n",
       " 'daily': [1390, 15],\n",
       " 'maid': [905, 10],\n",
       " 'service': [950, 10],\n",
       " 'bar': [1920, 20],\n",
       " 'concierge': [945, 10],\n",
       " 'going': [910, 10],\n",
       " 'that’s': [475, 5],\n",
       " 'delivered': [475, 5],\n",
       " 'quirks': [475, 5],\n",
       " 'result': [475, 5],\n",
       " 'renovated': [475, 5],\n",
       " 'church': [475, 5],\n",
       " 'exceptionally': [475, 5],\n",
       " 'big': [2825, 30],\n",
       " 'nicolò': [480, 5],\n",
       " 'extra': [1830, 20],\n",
       " 'mile': [975, 10],\n",
       " 'scooter': [480, 5],\n",
       " 'don’t': [2735, 30],\n",
       " 'speak': [940, 10],\n",
       " 'italian': [1835, 20],\n",
       " 'constant': [970, 10],\n",
       " 'booklet': [480, 5],\n",
       " 'suggestions': [1455, 15],\n",
       " 'things': [1460, 15],\n",
       " 'eat': [2360, 25],\n",
       " 'touch': [1405, 15],\n",
       " 'making': [3265, 35],\n",
       " 'bologna': [480, 5],\n",
       " 'absolute': [1445, 15],\n",
       " 'exploring': [2435, 25],\n",
       " 'outstanding': [495, 5],\n",
       " 'pictures': [3335, 35],\n",
       " 'll': [1430, 15],\n",
       " 'lucky': [1475, 15],\n",
       " 'manage': [955, 10],\n",
       " 'reserve': [495, 5],\n",
       " 'especially': [2910, 30],\n",
       " 'groups': [495, 5],\n",
       " 'spend': [965, 10],\n",
       " 'taipei': [495, 5],\n",
       " 'etched': [495, 5],\n",
       " 'history': [495, 5],\n",
       " 'kept': [980, 10],\n",
       " 'cold': [1400, 15],\n",
       " 'night': [8460, 90],\n",
       " 'cot': [495, 5],\n",
       " 'year': [1865, 20],\n",
       " 'old': [3785, 40],\n",
       " 'son': [3935, 40],\n",
       " 'property': [2890, 30],\n",
       " 'brother': [965, 10],\n",
       " 'dog': [1475, 15],\n",
       " 'romp': [495, 5],\n",
       " 'ball': [495, 5],\n",
       " 'decor': [1440, 15],\n",
       " 'exquisite': [495, 5],\n",
       " 'price': [3235, 35],\n",
       " 'included': [1940, 20],\n",
       " 'towels': [1915, 20],\n",
       " 'loved': [7260, 75],\n",
       " 'toy': [495, 5],\n",
       " 'box': [495, 5],\n",
       " 'malgré': [480, 5],\n",
       " 'heure': [480, 5],\n",
       " 'fort': [480, 5],\n",
       " 'tardive': [480, 5],\n",
       " 'notre': [1340, 15],\n",
       " 'arrivée': [1340, 15],\n",
       " 'solea': [480, 5],\n",
       " 'venue': [1455, 15],\n",
       " 'nous': [8370, 95],\n",
       " 'chercher': [480, 5],\n",
       " 'pour': [3210, 35],\n",
       " 'éviter': [480, 5],\n",
       " 'que': [10865, 115],\n",
       " 'perdions': [480, 5],\n",
       " 'sympa': [480, 5],\n",
       " 'donc': [480, 5],\n",
       " 'logement': [2355, 25],\n",
       " 'correspond': [480, 5],\n",
       " 'annonce': [480, 5],\n",
       " 'transport': [1845, 20],\n",
       " 'commun': [930, 10],\n",
       " 'disponible': [2320, 25],\n",
       " 'avons': [5640, 65],\n",
       " 'préféré': [480, 5],\n",
       " 'bonne': [480, 5],\n",
       " 'vieille': [480, 5],\n",
       " 'marche': [480, 5],\n",
       " 'pied': [1430, 15],\n",
       " 'aller': [480, 5],\n",
       " 'côté': [1830, 20],\n",
       " 'grande': [480, 5],\n",
       " 'ou': [1400, 15],\n",
       " 'palais': [480, 5],\n",
       " 'royal': [1415, 15],\n",
       " 'olivier': [480, 5],\n",
       " 'olaias': [430, 5],\n",
       " 'centre': [3650, 40],\n",
       " 'lisbon': [1740, 20],\n",
       " 'garden': [2790, 30],\n",
       " 'size': [1385, 15],\n",
       " 'rooms': [3465, 40],\n",
       " 'came': [1330, 15],\n",
       " 'ask': [900, 10],\n",
       " 'help': [3630, 40],\n",
       " 'required': [1380, 15],\n",
       " 'negative': [430, 5],\n",
       " 'noise': [2340, 25],\n",
       " 'soundproofing': [430, 5],\n",
       " 'building': [5590, 60],\n",
       " 'hear': [430, 5],\n",
       " 'neighbours': [910, 10],\n",
       " 'downstairs': [430, 5],\n",
       " 'sleepers': [430, 5],\n",
       " 'allowed': [890, 10],\n",
       " 'sun': [430, 5],\n",
       " 'got': [1825, 20],\n",
       " 'sophia': [430, 5],\n",
       " 'jorge': [430, 5],\n",
       " 'activities': [920, 10],\n",
       " 'spots': [915, 10],\n",
       " 'rented': [1455, 15],\n",
       " 'times': [970, 10],\n",
       " 'usual': [485, 5],\n",
       " 'trés': [480, 5],\n",
       " 'et': [10765, 120],\n",
       " 'moderne': [965, 10],\n",
       " 'placé': [1410, 15],\n",
       " 'proche': [480, 5],\n",
       " 'rue': [960, 10],\n",
       " 'st': [3395, 35],\n",
       " 'catherine': [480, 5],\n",
       " 'cosy': [5300, 55],\n",
       " 'center': [5595, 60],\n",
       " 'patrick': [480, 5],\n",
       " 'instructions': [1820, 20],\n",
       " 'cool': [3715, 40],\n",
       " 'guide': [955, 10],\n",
       " 'beach': [5040, 55],\n",
       " 'persons': [930, 10],\n",
       " 'mn': [445, 5],\n",
       " 'train': [2750, 30],\n",
       " 'lisboa': [1395, 15],\n",
       " 'gives': [445, 5],\n",
       " 'addresses': [445, 5],\n",
       " 'finish': [955, 10],\n",
       " 'ocean': [1845, 20],\n",
       " 'road': [5370, 55],\n",
       " '民宿老板是个微胖的小姐姐': [480, 5],\n",
       " '无论从机场还是火车站都会告知路线': [480, 5],\n",
       " '很贴心': [480, 5],\n",
       " '家里有只漂亮不怕人的猫咪': [480, 5],\n",
       " '房间里有很多书可以看': [480, 5],\n",
       " '装饰得很温馨｡浴室里还提供洗发水用': [480, 5],\n",
       " '环境很干净｡地点稍微有一点点不太好找': [480, 5],\n",
       " '缺点是老居民楼没有电梯': [480, 5],\n",
       " '其他都很棒': [480, 5],\n",
       " '原本想再住一天': [480, 5],\n",
       " '结果已经被预定了': [480, 5],\n",
       " 'hospitality': [1915, 20],\n",
       " 'stretch': [475, 5],\n",
       " 'summer': [975, 10],\n",
       " 'drive': [475, 5],\n",
       " 'east': [1395, 15],\n",
       " 'nashville': [2885, 30],\n",
       " 'sparkling': [945, 10],\n",
       " 'added': [1920, 20],\n",
       " 'bonus': [960, 10],\n",
       " 'wifi': [3310, 35],\n",
       " 'situé': [1395, 15],\n",
       " 'proximité': [1370, 15],\n",
       " 'maqueda': [480, 5],\n",
       " 'également': [480, 5],\n",
       " 'tout': [2290, 25],\n",
       " 'nécessaire': [930, 10],\n",
       " 'bon': [1815, 20],\n",
       " 'séjour': [2755, 30],\n",
       " 'palerme': [480, 5],\n",
       " 'chanes': [490, 5],\n",
       " 'view': [4750, 50],\n",
       " 'magical': [490, 5],\n",
       " 'breathtaking': [490, 5],\n",
       " 'imagine': [490, 5],\n",
       " 'spree': [485, 5],\n",
       " '“touristic”': [485, 5],\n",
       " 'ddr': [485, 5],\n",
       " 'pergamum': [485, 5],\n",
       " 'markets': [1940, 20],\n",
       " 'friedrichstraße': [970, 10],\n",
       " 'virtually': [985, 10],\n",
       " 'leaving': [1415, 15],\n",
       " 'station': [3785, 40],\n",
       " 'u': [955, 10],\n",
       " 'bahn': [485, 5],\n",
       " 'happy': [1440, 15],\n",
       " 'advised': [1365, 15],\n",
       " 'drawers': [485, 5],\n",
       " 'wardrobe': [485, 5],\n",
       " 'clothes': [915, 10],\n",
       " 'wouldn’t': [485, 5],\n",
       " 'sleeping': [945, 10],\n",
       " 'living': [4865, 50],\n",
       " 'stopover': [490, 5],\n",
       " 'trip': [4790, 50],\n",
       " 'tom': [1440, 15],\n",
       " 'lori': [500, 5],\n",
       " 'victorian': [500, 5],\n",
       " 'mansion': [500, 5],\n",
       " 'sea': [1490, 15],\n",
       " 'martins': [1000, 10],\n",
       " 'kayaking': [500, 5],\n",
       " 'caves': [1000, 10],\n",
       " 'fundy': [1000, 10],\n",
       " 'trail': [500, 5],\n",
       " 'unfortunately': [1905, 20],\n",
       " 'figured': [500, 5],\n",
       " 'connect': [975, 10],\n",
       " 'rest': [985, 10],\n",
       " 'coast': [990, 10],\n",
       " 'years': [980, 10],\n",
       " 'trying': [970, 10],\n",
       " 'tourists': [970, 10],\n",
       " 'disappointing': [500, 5],\n",
       " 'closure': [500, 5],\n",
       " 'mid': [890, 10],\n",
       " 'tourism': [500, 5],\n",
       " 'season': [500, 5],\n",
       " 'sit': [1475, 15],\n",
       " 'closes': [500, 5],\n",
       " 'pm': [1390, 15],\n",
       " 'очень': [1350, 15],\n",
       " 'опрятное': [450, 5],\n",
       " 'жилье': [900, 10],\n",
       " 'уютное': [450, 5],\n",
       " 'мин': [1900, 20],\n",
       " 'от': [1350, 15],\n",
       " 'автобусной': [450, 5],\n",
       " 'остановки': [450, 5],\n",
       " 'в': [1800, 20],\n",
       " 'пределах': [450, 5],\n",
       " 'ходьбы': [450, 5],\n",
       " 'супермаркета': [900, 10],\n",
       " 'и': [2250, 25],\n",
       " 'разных': [450, 5],\n",
       " 'мини': [450, 5],\n",
       " 'кафе': [450, 5],\n",
       " 'так': [450, 5],\n",
       " 'же': [450, 5],\n",
       " 'спасибо': [450, 5],\n",
       " 'хозяину': [450, 5],\n",
       " 'дал': [450, 5],\n",
       " 'информацию': [450, 5],\n",
       " 'как': [450, 5],\n",
       " 'куда': [450, 5],\n",
       " 'добираться': [450, 5],\n",
       " 'до': [1900, 20],\n",
       " 'метро': [1400, 15],\n",
       " 'предоставил': [450, 5],\n",
       " 'карту': [450, 5],\n",
       " 'это': [950, 10],\n",
       " 'полезная': [450, 5],\n",
       " 'информация': [450, 5],\n",
       " 'еще': [450, 5],\n",
       " 'расположено': [450, 5],\n",
       " 'жилом': [450, 5],\n",
       " 'квартале': [450, 5],\n",
       " 'тихо': [450, 5],\n",
       " 'спокойно': [450, 5],\n",
       " 'один': [450, 5],\n",
       " 'минус': [450, 5],\n",
       " 'если': [450, 5],\n",
       " 'вы': [450, 5],\n",
       " 'собираетесь': [450, 5],\n",
       " 'вставать': [450, 5],\n",
       " 'рано': [450, 5],\n",
       " 'то': [450, 5],\n",
       " 'не': [950, 10],\n",
       " 'рассчитывать': [450, 5],\n",
       " 'что': [450, 5],\n",
       " 'вас': [450, 5],\n",
       " 'будет': [450, 5],\n",
       " 'будить': [450, 5],\n",
       " 'солнечный': [450, 5],\n",
       " 'свет': [450, 5],\n",
       " 'комнате': [450, 5],\n",
       " 'нет': [450, 5],\n",
       " 'окон': [450, 5],\n",
       " 'поэтому': [450, 5],\n",
       " 'там': [450, 5],\n",
       " 'темно': [450, 5],\n",
       " 'но': [950, 10],\n",
       " 'спится': [450, 5],\n",
       " 'отлично': [450, 5],\n",
       " 'целом': [450, 5],\n",
       " 'хорошее': [450, 5],\n",
       " 'место': [450, 5],\n",
       " 'нам': [450, 5],\n",
       " 'с': [1450, 15],\n",
       " 'мужем': [450, 5],\n",
       " 'понравилось': [450, 5],\n",
       " 'super': [13420, 140],\n",
       " 'problems': [415, 5],\n",
       " 'bathroom': [8000, 85],\n",
       " 'silvia´s': [415, 5],\n",
       " 'moved': [415, 5],\n",
       " 'friend´s': [415, 5],\n",
       " 'closer': [415, 5],\n",
       " 'fine': [2335, 25],\n",
       " 'apart': [905, 10],\n",
       " 'sevilla': [415, 5],\n",
       " 'expected': [3250, 35],\n",
       " 'listing': [2270, 25],\n",
       " 'b': [470, 5],\n",
       " 'cook': [1455, 15],\n",
       " 'bring': [3315, 35],\n",
       " 'utensils': [1425, 15],\n",
       " 'inside': [2810, 30],\n",
       " 'driveway': [470, 5],\n",
       " 'bit': [2230, 25],\n",
       " 'narrow': [965, 10],\n",
       " 'bigger': [2345, 25],\n",
       " 'car': [6570, 70],\n",
       " 'small': [6095, 65],\n",
       " 'getaway': [1430, 15],\n",
       " 'entertainment': [470, 5],\n",
       " 'appartamento': [1910, 20],\n",
       " 'è': [2430, 25],\n",
       " 'zona': [970, 10],\n",
       " 'centralissima': [485, 5],\n",
       " 'tutte': [485, 5],\n",
       " 'attrazioni': [970, 10],\n",
       " 'sono': [1465, 15],\n",
       " 'raggiungibili': [485, 5],\n",
       " 'minuti': [925, 10],\n",
       " 'piedi': [485, 5],\n",
       " 'chi': [485, 5],\n",
       " 'non': [970, 10],\n",
       " 'vuole': [485, 5],\n",
       " 'camminare': [485, 5],\n",
       " 'fermata': [485, 5],\n",
       " 'della': [1460, 15],\n",
       " 'sotto': [485, 5],\n",
       " 'casa': [3850, 40],\n",
       " 'alloggio': [485, 5],\n",
       " 'consiste': [485, 5],\n",
       " 'stanza': [485, 5],\n",
       " 'molto': [2885, 30],\n",
       " 'carina': [485, 5],\n",
       " 'e': [11030, 115],\n",
       " 'confortevole': [485, 5],\n",
       " 'interno': [485, 5],\n",
       " 'di': [4835, 50],\n",
       " 'cristina': [970, 10],\n",
       " 'tuttavia': [485, 5],\n",
       " 'questo': [950, 10],\n",
       " 'nuoce': [485, 5],\n",
       " 'minimamente': [485, 5],\n",
       " 'alla': [485, 5],\n",
       " 'propria': [485, 5],\n",
       " 'privacy': [1950, 20],\n",
       " 'gentilissima': [485, 5],\n",
       " 'disponibile': [485, 5],\n",
       " 'assolutamente': [485, 5],\n",
       " 'consigliato': [485, 5],\n",
       " 'expecting': [925, 10],\n",
       " 'nicer': [930, 10],\n",
       " 'positive': [465, 5],\n",
       " 'reviews': [465, 5],\n",
       " 'somewhat': [465, 5],\n",
       " 'disappointed': [465, 5],\n",
       " 'okay': [465, 5],\n",
       " 'positives': [465, 5],\n",
       " 'fast': [3720, 40],\n",
       " 'internet': [2395, 25],\n",
       " 'netflix': [960, 10],\n",
       " 'airport': [5515, 60],\n",
       " 'negatives': [465, 5],\n",
       " 'priced': [945, 10],\n",
       " 'basic': [1380, 15],\n",
       " 'spanish': [465, 5],\n",
       " 'air': [5155, 55],\n",
       " 'bnbs': [910, 10],\n",
       " 'luogo': [485, 5],\n",
       " 'pulito': [975, 10],\n",
       " 'ottima': [975, 10],\n",
       " 'posizione': [1465, 15],\n",
       " 'vicino': [485, 5],\n",
       " 'alle': [485, 5],\n",
       " 'più': [485, 5],\n",
       " 'importanti': [485, 5],\n",
       " 'sintra': [485, 5],\n",
       " 'stata': [975, 10],\n",
       " 'gentile': [485, 5],\n",
       " 'ad': [975, 10],\n",
       " 'accoglierci': [485, 5],\n",
       " 'ci': [1460, 15],\n",
       " 'ha': [1465, 15],\n",
       " 'dato': [950, 10],\n",
       " 'informazioni': [485, 5],\n",
       " 'sui': [485, 5],\n",
       " 'luoghi': [485, 5],\n",
       " 'da': [1915, 20],\n",
       " 'vedere': [485, 5],\n",
       " 'permesso': [975, 10],\n",
       " 'lasciare': [485, 5],\n",
       " 'bagagli': [485, 5],\n",
       " 'dopo': [485, 5],\n",
       " 'costo': [485, 5],\n",
       " 'euro': [485, 5],\n",
       " 'neighbourhood': [3420, 35],\n",
       " 'group': [1415, 15],\n",
       " '住了五天': [495, 5],\n",
       " '房东人很好': [495, 5],\n",
       " '房东女儿很热情很美腻啊': [495, 5],\n",
       " '小区位置挺好的': [495, 5],\n",
       " '旁边就有一个商场': [495, 5],\n",
       " '吃饭挺方便的｡': [495, 5],\n",
       " 'anna': [1500, 15],\n",
       " 'condo': [500, 5],\n",
       " 'neat': [2385, 25],\n",
       " 'checkout': [950, 10],\n",
       " 'subway': [2910, 30],\n",
       " 'stores': [1880, 20],\n",
       " 'right': [6240, 65],\n",
       " 'buen': [975, 10],\n",
       " 'departamento': [1455, 15],\n",
       " 'ubicación': [3735, 40],\n",
       " 'perfecta': [2405, 25],\n",
       " 'los': [4340, 45],\n",
       " 'accesos': [495, 5],\n",
       " 'edificio': [495, 5],\n",
       " 'estacionamiento': [495, 5],\n",
       " 'buenos': [495, 5],\n",
       " 'atención': [3860, 40],\n",
       " 'ana': [1435, 15],\n",
       " 'fue': [1955, 20],\n",
       " 'excelente': [3400, 35],\n",
       " 'rápida': [495, 5],\n",
       " 'lo': [2335, 25],\n",
       " 'recomiendo': [1385, 15],\n",
       " 'mucho': [1465, 15],\n",
       " 'sin': [2400, 25],\n",
       " 'duda': [1445, 15],\n",
       " 'volveremos': [495, 5],\n",
       " 'hospedar': [495, 5],\n",
       " 'ahí': [495, 5],\n",
       " 'furnished': [1380, 15],\n",
       " 'overlooked': [470, 5],\n",
       " 'hiccups': [470, 5],\n",
       " 'pretty': [3205, 35],\n",
       " 'poor': [860, 10],\n",
       " 'confirmation': [470, 5],\n",
       " 'details': [1360, 15],\n",
       " 'literally': [965, 10],\n",
       " 'calling': [470, 5],\n",
       " 'arrival': [4455, 50],\n",
       " 'hall': [470, 5],\n",
       " 'set': [1370, 15],\n",
       " 'phone': [1415, 15],\n",
       " 'answered': [1905, 20],\n",
       " 'different': [2740, 30],\n",
       " 'dealing': [470, 5],\n",
       " 'finally': [470, 5],\n",
       " 'getting': [1435, 15],\n",
       " 'heading': [470, 5],\n",
       " 'afternoon': [470, 5],\n",
       " 'returned': [470, 5],\n",
       " 'left': [3785, 40],\n",
       " 'zero': [470, 5],\n",
       " 'toilet': [1360, 15],\n",
       " 'paper': [965, 10],\n",
       " 'tissue': [470, 5],\n",
       " 'dropped': [470, 5],\n",
       " 'hours': [2345, 25],\n",
       " 'later': [2130, 25],\n",
       " 'large': [3835, 40],\n",
       " 'busy': [1430, 15],\n",
       " 'garage': [955, 10],\n",
       " 'fit': [955, 10],\n",
       " 'blocked': [470, 5],\n",
       " 'residents': [1430, 15],\n",
       " 'suv': [470, 5],\n",
       " 'mind': [470, 5],\n",
       " 'block': [965, 10],\n",
       " 'attractive': [470, 5],\n",
       " 'retreat': [495, 5],\n",
       " 'dublin': [495, 5],\n",
       " 'columbus': [495, 5],\n",
       " 'concerts': [495, 5],\n",
       " 'tucker': [495, 5],\n",
       " 'rocks': [495, 5],\n",
       " 'easier': [1490, 15],\n",
       " 'away': [7105, 75],\n",
       " 'pups': [495, 5],\n",
       " 'j': [495, 5],\n",
       " 'ph': [490, 5],\n",
       " 'wife': [975, 10],\n",
       " 'nikos': [500, 5],\n",
       " 'riva': [500, 5],\n",
       " 'travel': [1440, 15],\n",
       " 'communicated': [500, 5],\n",
       " 'owner': [1480, 15],\n",
       " 'andreas': [500, 5],\n",
       " 'paid': [500, 5],\n",
       " 'beers': [500, 5],\n",
       " 'hospitable': [1935, 20],\n",
       " 'caring': [1480, 15],\n",
       " 'milos': [500, 5],\n",
       " 'cost': [895, 10],\n",
       " 'effective': [895, 10],\n",
       " 'temporarily': [480, 5],\n",
       " 'hang': [480, 5],\n",
       " 'hat': [2790, 30],\n",
       " 'gustó': [880, 10],\n",
       " 'porque': [480, 5],\n",
       " 'piso': [1415, 15],\n",
       " 'limpy': [480, 5],\n",
       " 'issimo': [480, 5],\n",
       " 'barrio': [1410, 15],\n",
       " 'conectado': [480, 5],\n",
       " 'tranquilo': [1410, 15],\n",
       " 'anastasia': [480, 5],\n",
       " 'simpática': [480, 5],\n",
       " 'preocupada': [480, 5],\n",
       " 'por': [2430, 25],\n",
       " 'sus': [970, 10],\n",
       " 'visitadores': [480, 5],\n",
       " 'woman': [930, 10],\n",
       " 'rent': [895, 10],\n",
       " 'tube': [1880, 20],\n",
       " 'stations': [2265, 25],\n",
       " 'shopping': [1925, 20],\n",
       " 'cafes': [1355, 15],\n",
       " 'job': [930, 10],\n",
       " 'secure': [925, 10],\n",
       " 'wish': [1475, 15],\n",
       " 'balcony': [1450, 15],\n",
       " 'attached': [495, 5],\n",
       " 'loft': [460, 5],\n",
       " 'design': [460, 5],\n",
       " 'fun': [1410, 15],\n",
       " 'unique': [920, 10],\n",
       " 'atmosphere': [920, 10],\n",
       " 'event': [920, 10],\n",
       " 'appreciate': [460, 5],\n",
       " 'uniqueness': [460, 5],\n",
       " 'tell': [1390, 15],\n",
       " 'lot': [6245, 65],\n",
       " 'personal': [940, 10],\n",
       " 'flair': [460, 5],\n",
       " 'commented': [460, 5],\n",
       " 'hopefully': [460, 5],\n",
       " ...}"
      ]
     },
     "execution_count": 60,
     "metadata": {},
     "output_type": "execute_result"
    }
   ],
   "source": [
    "ratings_dic"
   ]
  },
  {
   "cell_type": "code",
   "execution_count": 62,
   "metadata": {},
   "outputs": [],
   "source": [
    "import pickle\n",
    "\n",
    "pickle.dump(ratings_dic, open('tokens_1%.p', 'wb'))"
   ]
  },
  {
   "cell_type": "markdown",
   "metadata": {},
   "source": [
    "1. select id and rating from listings\n",
    "2. select id and comment from reviews\n",
    "3. join two on id\n",
    "\n",
    "4. define user defined function udf e.g.\n",
    " ``` python\n",
    "def extract_title(name):\n",
    "    name_parts = name.split(',')\n",
    "    title_and_first = name_parts[1].split('.')\n",
    "    return title_and_first[0]\n",
    "extract_title_udf = f.udf(extract_title)\n",
    "df.withColumn('Title', extract_title_udf(f.col('Name'))).select('Name', 'Title').show()\n",
    "    ```\n",
    "5. use udf to clean comment column --> remove stop words, common words blah blah, stemming maybe? stemming may be too computationally expensive, we could omit.\n",
    "\n",
    "6. store in a dic, key == rating , value == comment. if same rating, just concat comments. after iterations, value should be very long (few comments concat)\n",
    "\n",
    "7. tokenize comment, assign rate to each token and store avg rating for each word in a new dic. Lets say original dic is {7 : \"it is good\", 8: \"it looks good and fantastic\"}, the new dic will be {'good' : (7+8)/2 = 7.5, \"fantastic\" : 8}\n",
    "    - <font color=\"red\">searching through each word in the original dic ({7 : \"it is good\", 8: \"it looks good and fantastic\"}) and computing its ave rating might be computationally expensive(?). I'm thinking if we can obtain the new dic ({'good' : (7+8)/2 = 7.5, \"fantastic\" : 8}) directly from the raw text. \n",
    "    - So basically we tokenize a review first, and for every token that is an adjective (see my comment in the next code cell under bullet point #2), append it to a dictionary with its appropriate score and occurrence. e.g. we have a dictionary that is {\"good\": (70, 10)}, meaning that so far, the word \"good\" has a cumulative rating of 70, and this word has occurred for 10 times already. If we encounter the word \"good\" again in a review whose rating is 8, we will update the dictionary accordingly, so that the new dictionary will become {\"good\":(78, 11)}. Lookup is O(1) and from this dictionary, we can output the final positivity score of a word directly simply by using 78/11. What do you think?</font>\n",
    "<br>\n",
    "<br>\n",
    "8. return the highest score words"
   ]
  },
  {
   "cell_type": "markdown",
   "metadata": {},
   "source": [
    "a few concerns:\n",
    "1. too many words invloved, i am not sure if a dic is appropriate, maybe should use streaming sketch, i do not know..\n",
    "    - <font color=\"red\">agreed. anyway preprocessing needs to be done in Spark so no choice</font>\n",
    "2. only considered listing rating in positivity weight. \"For example, it can be a function of the rating on the listing on which it occurs, the number of reviews it occurs in, and the number of unique listings for which it was used to review.\" maybe consider others, keep a counter on how many times this word appears, below a threshold then drop. This may help with point 1.\n",
    "    - <font color=\"red\">im not sure if this is what you mean, but to me it sounds a bit like the TF part of tfidf right? To help reduce the memory and also increase the accuracy, I'm thinking of only retaining the adjectives in each review, as they are the ones that will give insight into how positive the listing is. I've done 词性分析 on Chinese text using jieba, pretty sure there are libraries out there that perform similar tasks on English text too. Will do a bit of research on this part later on.</font>\n",
    "3. yes, memory space is a concern...can we store so many words in memory?"
   ]
  }
 ],
 "metadata": {
  "kernelspec": {
   "display_name": "Python 3",
   "language": "python",
   "name": "python3"
  },
  "language_info": {
   "codemirror_mode": {
    "name": "ipython",
    "version": 3
   },
   "file_extension": ".py",
   "mimetype": "text/x-python",
   "name": "python",
   "nbconvert_exporter": "python",
   "pygments_lexer": "ipython3",
   "version": "3.7.3"
  }
 },
 "nbformat": 4,
 "nbformat_minor": 2
}
