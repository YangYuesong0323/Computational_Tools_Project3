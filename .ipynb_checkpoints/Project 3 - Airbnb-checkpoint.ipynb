{
 "cells": [
  {
   "cell_type": "markdown",
   "metadata": {},
   "source": [
    "# Project 3: Airbnb\n",
    "**This is the third of three mandatory projects to be handed in as part of the assessment for the course 02807 Computational Tools for Data Science at Technical University of Denmark, autumn 2019.**\n",
    "\n",
    "#### Practical info\n",
    "- **The project is to be done in groups of at most 3 students**\n",
    "- **Each group has to hand in _one_ Jupyter notebook (this notebook) with their solution**\n",
    "- **The hand-in of the notebook is due 2019-12-05, 23:59 on DTU Inside**\n",
    "\n",
    "#### Your solution\n",
    "- **Your solution should be in Python/PySpark**\n",
    "- **For each question you may use as many cells for your solution as you like**\n",
    "- **You should not remove the problem statements**\n",
    "- **Your notebook should be runnable, i.e., clicking [>>] in Jupyter should generate the result that you want to be assessed**\n",
    "- **You are not expected to use machine learning to solve any of the exercises**"
   ]
  },
  {
   "cell_type": "markdown",
   "metadata": {},
   "source": [
    "# Introduction\n",
    "[Airbnb](http://airbnb.com) is an online marketplace for arranging or offering lodgings. In this project you will use Spark to analyze data obtained from the Airbnb website. The purpose of the analysis is to extract information about trends and patterns from the data.\n",
    "\n",
    "The project has two parts.\n",
    "\n",
    "### Part 1: Loading, describing and preparing the data\n",
    "There's quite a lot of data. Make sure that you can load and correctly parse the data, and that you understand what the dataset contains. You should also prepare the data for the analysis in part two. This means cleaning it and staging it so that subsequent queries are fast.\n",
    "\n",
    "### Par 2: Analysis\n",
    "In this part your goal is to learn about trends and usage patterns from the data. You should give solutions to the tasks defined in this notebook, and you should use Spark to do the data processing. You may use other libraries like for instance Pandas and matplotlib for visualisation.\n",
    "\n",
    "## Guidelines\n",
    "- Processing data should be done using Spark. Once data has been reduced to aggregate form, you may use collect to extract it into Python for visualisation.\n",
    "- Your solutions will be evaluated by correctness, code quality and interpretability of the output. This means that you have to write clean and efficient Spark code that will generate sensible execution plans, and that the tables and visualisations that you produce are meaningful and easy to read.\n",
    "- You may add more cells for your solutions, but you should not modify the notebook otherwise."
   ]
  },
  {
   "cell_type": "markdown",
   "metadata": {},
   "source": [
    "### Create Spark session and define imports"
   ]
  },
  {
   "cell_type": "code",
   "execution_count": 1,
   "metadata": {},
   "outputs": [],
   "source": [
    "from pyspark.sql import *\n",
    "from pyspark.sql import functions as f\n",
    "from pyspark.sql.types import *\n",
    "import matplotlib.pyplot as plt\n",
    "%matplotlib inline\n",
    "\n",
    "spark = SparkSession.builder.appName(\"Project3_ys\").getOrCreate()"
   ]
  },
  {
   "cell_type": "markdown",
   "metadata": {},
   "source": [
    "# Part 1: Loading, describing and preparing the data\n",
    "The data comes in two files. Start by downloading the files and putting them in your `data/` folder.\n",
    "\n",
    "- [Listings](https://files.dtu.dk/u/siPzAasj8w2gI_ME/listings.csv?l) (5 GB)\n",
    "- [Reviews](https://files.dtu.dk/u/k3oaPYp6GjKBeho4/reviews.csv?l) (9.5 GB)"
   ]
  },
  {
   "cell_type": "markdown",
   "metadata": {},
   "source": [
    "### Load the data\n",
    "The data has multiline rows (rows that span multiple lines in the file). To correctly parse these you should use the `multiline` option and set the `escape` character to be `\"`."
   ]
  },
  {
   "cell_type": "code",
   "execution_count": 3,
   "metadata": {},
   "outputs": [],
   "source": [
    "listings = spark.read.option('header', True).\\\n",
    "    option('inferSchema', True).\\\n",
    "    option('multiLine', True).\\\n",
    "    option('escape', \"\\\"\").csv('../data/listings.csv')"
   ]
  },
  {
   "cell_type": "code",
   "execution_count": 87,
   "metadata": {},
   "outputs": [],
   "source": [
    "reviews = spark.read.option('header', True).\\\n",
    "    option('inferSchema', True).\\\n",
    "    option('multiLine', True).\\\n",
    "    option('escape', \"\\\"\").csv('../data/reviews.csv')"
   ]
  },
  {
   "cell_type": "markdown",
   "metadata": {},
   "source": [
    "### Describe the data\n",
    "List the features (schema) and sizes of the datasets."
   ]
  },
  {
   "cell_type": "code",
   "execution_count": 4,
   "metadata": {},
   "outputs": [
    {
     "name": "stdout",
     "output_type": "stream",
     "text": [
      "root\n",
      " |-- id: string (nullable = true)\n",
      " |-- listing_url: string (nullable = true)\n",
      " |-- scrape_id: string (nullable = true)\n",
      " |-- last_scraped: string (nullable = true)\n",
      " |-- name: string (nullable = true)\n",
      " |-- summary: string (nullable = true)\n",
      " |-- space: string (nullable = true)\n",
      " |-- description: string (nullable = true)\n",
      " |-- experiences_offered: string (nullable = true)\n",
      " |-- neighborhood_overview: string (nullable = true)\n",
      " |-- notes: string (nullable = true)\n",
      " |-- transit: string (nullable = true)\n",
      " |-- access: string (nullable = true)\n",
      " |-- interaction: string (nullable = true)\n",
      " |-- house_rules: string (nullable = true)\n",
      " |-- thumbnail_url: string (nullable = true)\n",
      " |-- medium_url: string (nullable = true)\n",
      " |-- picture_url: string (nullable = true)\n",
      " |-- xl_picture_url: string (nullable = true)\n",
      " |-- host_id: string (nullable = true)\n",
      " |-- host_url: string (nullable = true)\n",
      " |-- host_name: string (nullable = true)\n",
      " |-- host_since: string (nullable = true)\n",
      " |-- host_location: string (nullable = true)\n",
      " |-- host_about: string (nullable = true)\n",
      " |-- host_response_time: string (nullable = true)\n",
      " |-- host_response_rate: string (nullable = true)\n",
      " |-- host_acceptance_rate: string (nullable = true)\n",
      " |-- host_is_superhost: string (nullable = true)\n",
      " |-- host_thumbnail_url: string (nullable = true)\n",
      " |-- host_picture_url: string (nullable = true)\n",
      " |-- host_neighbourhood: string (nullable = true)\n",
      " |-- host_listings_count: string (nullable = true)\n",
      " |-- host_total_listings_count: string (nullable = true)\n",
      " |-- host_verifications: string (nullable = true)\n",
      " |-- host_has_profile_pic: string (nullable = true)\n",
      " |-- host_identity_verified: string (nullable = true)\n",
      " |-- street: string (nullable = true)\n",
      " |-- neighbourhood: string (nullable = true)\n",
      " |-- neighbourhood_cleansed: string (nullable = true)\n",
      " |-- neighbourhood_group_cleansed: string (nullable = true)\n",
      " |-- city: string (nullable = true)\n",
      " |-- state: string (nullable = true)\n",
      " |-- zipcode: string (nullable = true)\n",
      " |-- market: string (nullable = true)\n",
      " |-- smart_location: string (nullable = true)\n",
      " |-- country_code: string (nullable = true)\n",
      " |-- country: string (nullable = true)\n",
      " |-- latitude: string (nullable = true)\n",
      " |-- longitude: string (nullable = true)\n",
      " |-- is_location_exact: string (nullable = true)\n",
      " |-- property_type: string (nullable = true)\n",
      " |-- room_type: string (nullable = true)\n",
      " |-- accommodates: string (nullable = true)\n",
      " |-- bathrooms: string (nullable = true)\n",
      " |-- bedrooms: string (nullable = true)\n",
      " |-- beds: string (nullable = true)\n",
      " |-- bed_type: string (nullable = true)\n",
      " |-- amenities: string (nullable = true)\n",
      " |-- square_feet: string (nullable = true)\n",
      " |-- price: string (nullable = true)\n",
      " |-- weekly_price: string (nullable = true)\n",
      " |-- monthly_price: string (nullable = true)\n",
      " |-- security_deposit: string (nullable = true)\n",
      " |-- cleaning_fee: string (nullable = true)\n",
      " |-- guests_included: string (nullable = true)\n",
      " |-- extra_people: string (nullable = true)\n",
      " |-- minimum_nights: string (nullable = true)\n",
      " |-- maximum_nights: string (nullable = true)\n",
      " |-- minimum_minimum_nights: string (nullable = true)\n",
      " |-- maximum_minimum_nights: string (nullable = true)\n",
      " |-- minimum_maximum_nights: string (nullable = true)\n",
      " |-- maximum_maximum_nights: string (nullable = true)\n",
      " |-- minimum_nights_avg_ntm: string (nullable = true)\n",
      " |-- maximum_nights_avg_ntm: string (nullable = true)\n",
      " |-- calendar_updated: string (nullable = true)\n",
      " |-- has_availability: string (nullable = true)\n",
      " |-- availability_30: string (nullable = true)\n",
      " |-- availability_60: string (nullable = true)\n",
      " |-- availability_90: string (nullable = true)\n",
      " |-- availability_365: string (nullable = true)\n",
      " |-- calendar_last_scraped: string (nullable = true)\n",
      " |-- number_of_reviews: string (nullable = true)\n",
      " |-- number_of_reviews_ltm: string (nullable = true)\n",
      " |-- first_review: string (nullable = true)\n",
      " |-- last_review: string (nullable = true)\n",
      " |-- review_scores_rating: string (nullable = true)\n",
      " |-- review_scores_accuracy: string (nullable = true)\n",
      " |-- review_scores_cleanliness: string (nullable = true)\n",
      " |-- review_scores_checkin: string (nullable = true)\n",
      " |-- review_scores_communication: string (nullable = true)\n",
      " |-- review_scores_location: string (nullable = true)\n",
      " |-- review_scores_value: string (nullable = true)\n",
      " |-- requires_license: string (nullable = true)\n",
      " |-- license: string (nullable = true)\n",
      " |-- jurisdiction_names: string (nullable = true)\n",
      " |-- instant_bookable: string (nullable = true)\n",
      " |-- is_business_travel_ready: string (nullable = true)\n",
      " |-- cancellation_policy: string (nullable = true)\n",
      " |-- require_guest_profile_picture: string (nullable = true)\n",
      " |-- require_guest_phone_verification: string (nullable = true)\n",
      " |-- calculated_host_listings_count: string (nullable = true)\n",
      " |-- calculated_host_listings_count_entire_homes: string (nullable = true)\n",
      " |-- calculated_host_listings_count_private_rooms: string (nullable = true)\n",
      " |-- calculated_host_listings_count_shared_rooms: string (nullable = true)\n",
      " |-- reviews_per_month: string (nullable = true)\n",
      "\n"
     ]
    }
   ],
   "source": [
    "# Schema for listings.csv\n",
    "listings.printSchema()"
   ]
  },
  {
   "cell_type": "code",
   "execution_count": 6,
   "metadata": {},
   "outputs": [
    {
     "name": "stdout",
     "output_type": "stream",
     "text": [
      "The number of rows in listings.csv : 408202\n",
      "The number of columns in listings.csv : 106\n"
     ]
    }
   ],
   "source": [
    "# size of listings.csv\n",
    "print(\"The number of rows in listings.csv : {}\".format(listings.count()))\n",
    "print(\"The number of columns in listings.csv : {}\".format(len(listings.columns)))"
   ]
  },
  {
   "cell_type": "code",
   "execution_count": null,
   "metadata": {},
   "outputs": [],
   "source": [
    "# Schema for reviews.csv\n",
    "reviews.printSchema()"
   ]
  },
  {
   "cell_type": "markdown",
   "metadata": {},
   "source": [
    "<font color=\"blue\">这里为什么要drop comments column呀？</font>"
   ]
  },
  {
   "cell_type": "code",
   "execution_count": 91,
   "metadata": {},
   "outputs": [
    {
     "data": {
      "text/plain": [
       "[Row(listing_id='145320', id='156423122', date='2017-05-30', reviewer_id='123386382', reviewer_name='Erwin'),\n",
       " Row(listing_id='145320', id='170211906', date='2017-07-15', reviewer_id='123091743', reviewer_name='Anne'),\n",
       " Row(listing_id='145320', id='172169175', date='2017-07-20', reviewer_id='78004', reviewer_name='Patricia'),\n",
       " Row(listing_id='145320', id='176647581', date='2017-07-31', reviewer_id='103178743', reviewer_name='Charlotte'),\n",
       " Row(listing_id='145320', id='185676021', date='2017-08-22', reviewer_id='4023961', reviewer_name='Alexander')]"
      ]
     },
     "execution_count": 91,
     "metadata": {},
     "output_type": "execute_result"
    }
   ],
   "source": [
    "reviews.drop('comments').take(5)"
   ]
  },
  {
   "cell_type": "code",
   "execution_count": null,
   "metadata": {},
   "outputs": [],
   "source": [
    "# size of reviews.csv\n",
    "print(\"The number of rows in reviews.csv : {}\".format(reviews.count()))\n",
    "print(\"The number of columns in reviews.csv : {}\".format(len(reviews.columns)))"
   ]
  },
  {
   "cell_type": "markdown",
   "metadata": {},
   "source": [
    "### Prepare the data for analysis\n",
    "You should prepare two dataframes to be used in the analysis part of the project. You should not be concerned with cleaning the data. There's a lot of it, so it will be sufficient to drop rows that have bad values. You may want to go back and refine this step at a later point when doing the analysis.\n",
    "\n",
    "You may also want to consider if you can stage your data so that subsequent processing is more efficient (this is not strictly necessary for Spark to run, but you may be able to decrease the time you sit around waiting for Spark to finish things)"
   ]
  },
  {
   "cell_type": "markdown",
   "metadata": {},
   "source": [
    "<font color=\"blue\">有个小小的问题，我看到.dropna()和na.drop()的功能是一样的，都是把所有有null value的row给drop掉。需要standardize一下代码吗？另外就是listings_filtered这个column之后没有再被用到，我暂时comment out了，后续需要删掉吗？</font>"
   ]
  },
  {
   "cell_type": "code",
   "execution_count": 7,
   "metadata": {},
   "outputs": [
    {
     "data": {
      "text/plain": [
       "95"
      ]
     },
     "execution_count": 7,
     "metadata": {},
     "output_type": "execute_result"
    }
   ],
   "source": [
    "# drop all NA values in listings and count the number of them\n",
    "listings_na=listings.dropna()\n",
    "listings_na.count()"
   ]
  },
  {
   "cell_type": "code",
   "execution_count": null,
   "metadata": {},
   "outputs": [],
   "source": [
    "# listings_filtered = listings.filter(f.col('price').isNotNull())"
   ]
  },
  {
   "cell_type": "code",
   "execution_count": null,
   "metadata": {},
   "outputs": [],
   "source": [
    "# drop all NA values in reviews and count the number of them\n",
    "reviews_na=reviews.na.drop()\n",
    "reviews_na.count()"
   ]
  },
  {
   "cell_type": "code",
   "execution_count": null,
   "metadata": {},
   "outputs": [],
   "source": [
    "# We sampled 10% of the listings.csv and 5% of the reviews.csv\n",
    "# We write them into local disk, listings_sample.csv and reviews_sample.csv\n",
    "\n",
    "# No need to run now\n",
    "# sample=df.sample(False, 0.05, 33)\n",
    "# sample.coalesce(1).write.csv('data/names_here.csv')"
   ]
  },
  {
   "cell_type": "markdown",
   "metadata": {},
   "source": [
    "# Part 2: Analysis\n",
    "Use Spark and your favorite tool for data visualization to solve the following tasks.\n",
    "\n",
    "## The basics\n",
    "Compute and show a table with the number of listings and neighbourhoods per city."
   ]
  },
  {
   "cell_type": "code",
   "execution_count": 8,
   "metadata": {},
   "outputs": [],
   "source": [
    "groupby_city=listings.groupBy('city').\\\n",
    "    agg(f.countDistinct('id').alias(\"Distinct Listings\"),\\\n",
    "        f.countDistinct('neighbourhood_cleansed').alias(\"Distinct Neighbourhood\")).cache()"
   ]
  },
  {
   "cell_type": "code",
   "execution_count": 9,
   "metadata": {},
   "outputs": [
    {
     "name": "stdout",
     "output_type": "stream",
     "text": [
      "+--------------------+-----------------+----------------------+\n",
      "|                city|Distinct Listings|Distinct Neighbourhood|\n",
      "+--------------------+-----------------+----------------------+\n",
      "|               Lorne|               69|                     1|\n",
      "|             Palermo|             3693|                    14|\n",
      "|              Tuglie|               52|                     2|\n",
      "|         Agia Galini|               26|                     1|\n",
      "|        Thessaloniki|              591|                     7|\n",
      "|             Antwerp|               53|                    19|\n",
      "|Paris-15E-Arrondi...|               23|                     1|\n",
      "|           Aperregui|                1|                     1|\n",
      "| Son Serra De Marina|                5|                     1|\n",
      "|             Pennisi|                3|                     1|\n",
      "|             Rinella|                6|                     1|\n",
      "|       Hamilton Hill|                9|                     1|\n",
      "|      Brunswick West|               21|                     1|\n",
      "|      Rowland Height|                1|                     1|\n",
      "|               Ratho|                1|                     1|\n",
      "|           Hazelmere|                1|                     1|\n",
      "|          Casa Santa|               31|                     2|\n",
      "|           Cape town|                3|                     3|\n",
      "|             Gallina|               15|                     1|\n",
      "|    Salice Salentino|               12|                     1|\n",
      "+--------------------+-----------------+----------------------+\n",
      "only showing top 20 rows\n",
      "\n"
     ]
    }
   ],
   "source": [
    "groupby_city.show()"
   ]
  },
  {
   "cell_type": "markdown",
   "metadata": {},
   "source": [
    "Based on the table above, you should choose a city that you want to continue your analysis for. The city should have mulitple neighbourhoods with listings in them.\n",
    "\n",
    "Compute and visualize the number of listings of different property types per neighbourhood in your city."
   ]
  },
  {
   "cell_type": "code",
   "execution_count": null,
   "metadata": {},
   "outputs": [],
   "source": [
    "# Let's check if Copenhagen fulfills the requirement:"
   ]
  },
  {
   "cell_type": "code",
   "execution_count": 10,
   "metadata": {},
   "outputs": [
    {
     "name": "stdout",
     "output_type": "stream",
     "text": [
      "+----------+-----------------+----------------------+\n",
      "|      city|Distinct Listings|Distinct Neighbourhood|\n",
      "+----------+-----------------+----------------------+\n",
      "|Copenhagen|              640|                    11|\n",
      "+----------+-----------------+----------------------+\n",
      "\n"
     ]
    }
   ],
   "source": [
    "groupby_city.filter(f.col(\"city\") == \"Copenhagen\").show()"
   ]
  },
  {
   "cell_type": "code",
   "execution_count": null,
   "metadata": {},
   "outputs": [],
   "source": [
    "# Yup, it does. We will choose Copenhagen for further analysis."
   ]
  },
  {
   "cell_type": "code",
   "execution_count": 15,
   "metadata": {},
   "outputs": [],
   "source": [
    "# extract listings that are in Copenhagen\n",
    "# .cache() pulls data into a cluster-wide in-memory cache. This is very useful when data is accessed repeatedly.\n",
    "copenhagen=listings.filter(f.col(\"city\") == \"Copenhagen\").cache()"
   ]
  },
  {
   "cell_type": "code",
   "execution_count": 16,
   "metadata": {},
   "outputs": [
    {
     "name": "stdout",
     "output_type": "stream",
     "text": [
      "root\n",
      " |-- id: string (nullable = true)\n",
      " |-- listing_url: string (nullable = true)\n",
      " |-- scrape_id: string (nullable = true)\n",
      " |-- last_scraped: string (nullable = true)\n",
      " |-- name: string (nullable = true)\n",
      " |-- summary: string (nullable = true)\n",
      " |-- space: string (nullable = true)\n",
      " |-- description: string (nullable = true)\n",
      " |-- experiences_offered: string (nullable = true)\n",
      " |-- neighborhood_overview: string (nullable = true)\n",
      " |-- notes: string (nullable = true)\n",
      " |-- transit: string (nullable = true)\n",
      " |-- access: string (nullable = true)\n",
      " |-- interaction: string (nullable = true)\n",
      " |-- house_rules: string (nullable = true)\n",
      " |-- thumbnail_url: string (nullable = true)\n",
      " |-- medium_url: string (nullable = true)\n",
      " |-- picture_url: string (nullable = true)\n",
      " |-- xl_picture_url: string (nullable = true)\n",
      " |-- host_id: string (nullable = true)\n",
      " |-- host_url: string (nullable = true)\n",
      " |-- host_name: string (nullable = true)\n",
      " |-- host_since: string (nullable = true)\n",
      " |-- host_location: string (nullable = true)\n",
      " |-- host_about: string (nullable = true)\n",
      " |-- host_response_time: string (nullable = true)\n",
      " |-- host_response_rate: string (nullable = true)\n",
      " |-- host_acceptance_rate: string (nullable = true)\n",
      " |-- host_is_superhost: string (nullable = true)\n",
      " |-- host_thumbnail_url: string (nullable = true)\n",
      " |-- host_picture_url: string (nullable = true)\n",
      " |-- host_neighbourhood: string (nullable = true)\n",
      " |-- host_listings_count: string (nullable = true)\n",
      " |-- host_total_listings_count: string (nullable = true)\n",
      " |-- host_verifications: string (nullable = true)\n",
      " |-- host_has_profile_pic: string (nullable = true)\n",
      " |-- host_identity_verified: string (nullable = true)\n",
      " |-- street: string (nullable = true)\n",
      " |-- neighbourhood: string (nullable = true)\n",
      " |-- neighbourhood_cleansed: string (nullable = true)\n",
      " |-- neighbourhood_group_cleansed: string (nullable = true)\n",
      " |-- city: string (nullable = true)\n",
      " |-- state: string (nullable = true)\n",
      " |-- zipcode: string (nullable = true)\n",
      " |-- market: string (nullable = true)\n",
      " |-- smart_location: string (nullable = true)\n",
      " |-- country_code: string (nullable = true)\n",
      " |-- country: string (nullable = true)\n",
      " |-- latitude: string (nullable = true)\n",
      " |-- longitude: string (nullable = true)\n",
      " |-- is_location_exact: string (nullable = true)\n",
      " |-- property_type: string (nullable = true)\n",
      " |-- room_type: string (nullable = true)\n",
      " |-- accommodates: string (nullable = true)\n",
      " |-- bathrooms: string (nullable = true)\n",
      " |-- bedrooms: string (nullable = true)\n",
      " |-- beds: string (nullable = true)\n",
      " |-- bed_type: string (nullable = true)\n",
      " |-- amenities: string (nullable = true)\n",
      " |-- square_feet: string (nullable = true)\n",
      " |-- price: string (nullable = true)\n",
      " |-- weekly_price: string (nullable = true)\n",
      " |-- monthly_price: string (nullable = true)\n",
      " |-- security_deposit: string (nullable = true)\n",
      " |-- cleaning_fee: string (nullable = true)\n",
      " |-- guests_included: string (nullable = true)\n",
      " |-- extra_people: string (nullable = true)\n",
      " |-- minimum_nights: string (nullable = true)\n",
      " |-- maximum_nights: string (nullable = true)\n",
      " |-- minimum_minimum_nights: string (nullable = true)\n",
      " |-- maximum_minimum_nights: string (nullable = true)\n",
      " |-- minimum_maximum_nights: string (nullable = true)\n",
      " |-- maximum_maximum_nights: string (nullable = true)\n",
      " |-- minimum_nights_avg_ntm: string (nullable = true)\n",
      " |-- maximum_nights_avg_ntm: string (nullable = true)\n",
      " |-- calendar_updated: string (nullable = true)\n",
      " |-- has_availability: string (nullable = true)\n",
      " |-- availability_30: string (nullable = true)\n",
      " |-- availability_60: string (nullable = true)\n",
      " |-- availability_90: string (nullable = true)\n",
      " |-- availability_365: string (nullable = true)\n",
      " |-- calendar_last_scraped: string (nullable = true)\n",
      " |-- number_of_reviews: string (nullable = true)\n",
      " |-- number_of_reviews_ltm: string (nullable = true)\n",
      " |-- first_review: string (nullable = true)\n",
      " |-- last_review: string (nullable = true)\n",
      " |-- review_scores_rating: string (nullable = true)\n",
      " |-- review_scores_accuracy: string (nullable = true)\n",
      " |-- review_scores_cleanliness: string (nullable = true)\n",
      " |-- review_scores_checkin: string (nullable = true)\n",
      " |-- review_scores_communication: string (nullable = true)\n",
      " |-- review_scores_location: string (nullable = true)\n",
      " |-- review_scores_value: string (nullable = true)\n",
      " |-- requires_license: string (nullable = true)\n",
      " |-- license: string (nullable = true)\n",
      " |-- jurisdiction_names: string (nullable = true)\n",
      " |-- instant_bookable: string (nullable = true)\n",
      " |-- is_business_travel_ready: string (nullable = true)\n",
      " |-- cancellation_policy: string (nullable = true)\n",
      " |-- require_guest_profile_picture: string (nullable = true)\n",
      " |-- require_guest_phone_verification: string (nullable = true)\n",
      " |-- calculated_host_listings_count: string (nullable = true)\n",
      " |-- calculated_host_listings_count_entire_homes: string (nullable = true)\n",
      " |-- calculated_host_listings_count_private_rooms: string (nullable = true)\n",
      " |-- calculated_host_listings_count_shared_rooms: string (nullable = true)\n",
      " |-- reviews_per_month: string (nullable = true)\n",
      "\n"
     ]
    }
   ],
   "source": [
    "copenhagen.printSchema()"
   ]
  },
  {
   "cell_type": "code",
   "execution_count": 17,
   "metadata": {},
   "outputs": [],
   "source": [
    "# compute and show with a table the number of listings per neighbourhood per property type in Copenhagen.\n",
    "copenhagen_groupby=copenhagen.groupBy('neighbourhood_cleansed','property_type').\\\n",
    "                    agg(f.countDistinct('id').alias(\"Listings Count\"))"
   ]
  },
  {
   "cell_type": "code",
   "execution_count": 18,
   "metadata": {},
   "outputs": [
    {
     "name": "stdout",
     "output_type": "stream",
     "text": [
      "+----------------------+------------------+--------------+\n",
      "|neighbourhood_cleansed|     property_type|Listings Count|\n",
      "+----------------------+------------------+--------------+\n",
      "|           Amager Vest|              Boat|             2|\n",
      "|                Vanlse|         Apartment|            28|\n",
      "|            Bispebjerg|Serviced apartment|             3|\n",
      "|               sterbro|Serviced apartment|            44|\n",
      "|           Amager Vest|              Loft|             3|\n",
      "|            Bispebjerg|             House|            12|\n",
      "|               Nrrebro|         Apartment|           618|\n",
      "|          Brnshj-Husum|Serviced apartment|             1|\n",
      "|                Vanlse|             House|            18|\n",
      "|                 Valby|         Apartment|            44|\n",
      "|  Vesterbro-Kongens...|        Guesthouse|             2|\n",
      "|  Vesterbro-Kongens...|       Condominium|            35|\n",
      "|  Vesterbro-Kongens...|         Townhouse|             9|\n",
      "|              Indre By|              Loft|             7|\n",
      "|                Vanlse|         Townhouse|             3|\n",
      "|               sterbro|         Apartment|           258|\n",
      "|             Amager st|             House|            32|\n",
      "|  Vesterbro-Kongens...| Bed and breakfast|             3|\n",
      "|               sterbro|              Loft|             6|\n",
      "|           Amager Vest|             Villa|             1|\n",
      "+----------------------+------------------+--------------+\n",
      "only showing top 20 rows\n",
      "\n"
     ]
    }
   ],
   "source": [
    "copenhagen_groupby.show()"
   ]
  },
  {
   "cell_type": "markdown",
   "metadata": {},
   "source": [
    "## Prices\n",
    "Compute the minimum, maximum and average listing price in your city. "
   ]
  },
  {
   "cell_type": "code",
   "execution_count": 19,
   "metadata": {},
   "outputs": [],
   "source": [
    "# from the schema, it can be seen that the price column is of type string \n",
    "# using regular expression, we clean the strings and then cast the column type to float\n",
    "copenhagen_cleanPrice = copenhagen.\\\n",
    "        withColumn('price', f.regexp_replace('price', '\\$', '')).\\\n",
    "        withColumn('price', f.regexp_replace('price', ',', '')).\\\n",
    "        withColumn('price', f.col('price').cast('float'))"
   ]
  },
  {
   "cell_type": "code",
   "execution_count": 20,
   "metadata": {},
   "outputs": [
    {
     "name": "stdout",
     "output_type": "stream",
     "text": [
      "+----------+----------+-----------------+\n",
      "|min(price)|max(price)|       avg(price)|\n",
      "+----------+----------+-----------------+\n",
      "|      68.0|   55556.0|922.2381756756756|\n",
      "+----------+----------+-----------------+\n",
      "\n"
     ]
    }
   ],
   "source": [
    "# compute the minimum, maximum and average listing price in Copenhagen\n",
    "copenhagen_cleanPrice.select(f.min('price'), f.max('price'), f.avg('price')).show()"
   ]
  },
  {
   "cell_type": "markdown",
   "metadata": {},
   "source": [
    "Compute and visualize the distribution of listing prices in your city."
   ]
  },
  {
   "cell_type": "code",
   "execution_count": 21,
   "metadata": {},
   "outputs": [],
   "source": [
    "# use groupby, count the number of listings at each price\n",
    "price_distribution = copenhagen_cleanPrice.groupby(\"price\").\\\n",
    "                        agg(f.countDistinct('id').alias(\"count\"))"
   ]
  },
  {
   "cell_type": "code",
   "execution_count": 22,
   "metadata": {},
   "outputs": [
    {
     "name": "stdout",
     "output_type": "stream",
     "text": [
      "+-------+-----+\n",
      "|  price|count|\n",
      "+-------+-----+\n",
      "| 1331.0|    1|\n",
      "|  362.0|    8|\n",
      "|  955.0|    3|\n",
      "|   82.0|    1|\n",
      "|  697.0|   12|\n",
      "|  798.0|  118|\n",
      "| 2054.0|    1|\n",
      "|  969.0|   22|\n",
      "| 1863.0|    1|\n",
      "| 1283.0|    1|\n",
      "| 3603.0|    1|\n",
      "|  546.0|   15|\n",
      "| 2177.0|    1|\n",
      "| 1802.0|   18|\n",
      "| 2293.0|    1|\n",
      "|  239.0|    2|\n",
      "| 1496.0|    1|\n",
      "|55556.0|    1|\n",
      "| 1378.0|    8|\n",
      "|  301.0|    8|\n",
      "+-------+-----+\n",
      "only showing top 20 rows\n",
      "\n"
     ]
    }
   ],
   "source": [
    "price_distribution.show()"
   ]
  },
  {
   "cell_type": "code",
   "execution_count": 23,
   "metadata": {},
   "outputs": [],
   "source": [
    "# create a price list for histogram\n",
    "price_list=[]\n",
    "for row in price_distribution.collect():\n",
    "    price_list.extend([row['price']] * int(row['count']))"
   ]
  },
  {
   "cell_type": "markdown",
   "metadata": {},
   "source": [
    "Visualize price distribution using histogram. Adjust the bins and bin size:"
   ]
  },
  {
   "cell_type": "code",
   "execution_count": 24,
   "metadata": {},
   "outputs": [
    {
     "data": {
      "image/png": "[encoded data removed]",
      "text/plain": [
       "<Figure size 432x288 with 1 Axes>"
      ]
     },
     "metadata": {
      "needs_background": "light"
     },
     "output_type": "display_data"
    }
   ],
   "source": [
    "# 1. bin size = 10\n",
    "plt.hist(price_list,bins=10)\n",
    "plt.show()"
   ]
  },
  {
   "cell_type": "code",
   "execution_count": 25,
   "metadata": {},
   "outputs": [
    {
     "data": {
      "image/png": "[encoded data removed]",
      "text/plain": [
       "<Figure size 432x288 with 1 Axes>"
      ]
     },
     "metadata": {
      "needs_background": "light"
     },
     "output_type": "display_data"
    }
   ],
   "source": [
    "# 2. 13 bins, interval = 200, long tail (price>10000) ignored\n",
    "plt.hist(price_list,\n",
    "         bins = [200,400,600,800,1000,1200,1400,1600,1800,2000,4000,6000,8000,10000])\n",
    "plt.show()"
   ]
  },
  {
   "cell_type": "code",
   "execution_count": 26,
   "metadata": {},
   "outputs": [
    {
     "data": {
      "image/png": "[encoded data removed]",
      "text/plain": [
       "<Figure size 432x288 with 1 Axes>"
      ]
     },
     "metadata": {
      "needs_background": "light"
     },
     "output_type": "display_data"
    }
   ],
   "source": [
    "# 3. 10 bins, interval = 200, long tail (price>4000) ignored\n",
    "plt.hist(price_list,\n",
    "         bins = [200,400,600,800,1000,1200,1400,1600,1800,2000,4000])\n",
    "plt.show()"
   ]
  },
  {
   "cell_type": "markdown",
   "metadata": {},
   "source": [
    "The value of a listing is its rating divided by its price.\n",
    "\n",
    "Compute and show a dataframe with the 3 highest valued listings in each neighbourhood."
   ]
  },
  {
   "cell_type": "code",
   "execution_count": 27,
   "metadata": {},
   "outputs": [],
   "source": [
    "# cast rating and price column into float, then compute the value of listings and store the results in a new column\n",
    "copenhagen_value=copenhagen.\\\n",
    "        withColumn('review_scores_rating', f.col('review_scores_rating').cast('float')).\\\n",
    "        withColumn('price', f.regexp_replace('price', '\\$', '')).\\\n",
    "        withColumn('price', f.regexp_replace('price', ',', '')).\\\n",
    "        withColumn('price', f.col('price').cast('float')).\\\n",
    "        withColumn('value', f.col('review_scores_rating')/f.col('price'))"
   ]
  },
  {
   "cell_type": "code",
   "execution_count": 28,
   "metadata": {},
   "outputs": [
    {
     "data": {
      "text/plain": [
       "[Row(review_scores_rating=96.0, price=375.0, value=0.256),\n",
       " Row(review_scores_rating=99.0, price=2402.0, value=0.04121565362198168)]"
      ]
     },
     "execution_count": 28,
     "metadata": {},
     "output_type": "execute_result"
    }
   ],
   "source": [
    "# take a look at the first 2 rows of the table\n",
    "copenhagen_value.select('review_scores_rating','price','value').take(2)"
   ]
  },
  {
   "cell_type": "code",
   "execution_count": 29,
   "metadata": {},
   "outputs": [],
   "source": [
    "# create a window and sort the table by value\n",
    "value_window = Window.partitionBy('neighbourhood_cleansed').orderBy(f.desc('value'))\n",
    "ranked_df = copenhagen_value.withColumn('valueRank', f.rank().over(value_window))"
   ]
  },
  {
   "cell_type": "code",
   "execution_count": 30,
   "metadata": {},
   "outputs": [
    {
     "name": "stdout",
     "output_type": "stream",
     "text": [
      "+--------+----------------------+-------------------+---------+\n",
      "|      id|neighbourhood_cleansed|              value|valueRank|\n",
      "+--------+----------------------+-------------------+---------+\n",
      "|27815787|           Amager Vest| 1.3333333333333333|        1|\n",
      "| 4831559|           Amager Vest|             0.9375|        2|\n",
      "|12460024|           Amager Vest|0.41841004184100417|        3|\n",
      "| 5710617|             Amager st| 0.6666666666666666|        1|\n",
      "|  362647|             Amager st| 0.3861003861003861|        2|\n",
      "| 3036965|             Amager st|0.38492063492063494|        3|\n",
      "| 3658168|            Bispebjerg| 0.4311111111111111|        1|\n",
      "| 7721166|            Bispebjerg|  0.419811320754717|        2|\n",
      "|35671757|            Bispebjerg|0.37549407114624506|        3|\n",
      "| 3388899|          Brnshj-Husum| 0.3609022556390977|        1|\n",
      "| 2836381|          Brnshj-Husum|0.27624309392265195|        2|\n",
      "| 2956470|          Brnshj-Husum| 0.2672413793103448|        3|\n",
      "| 2708639|         Frederiksberg|0.31333333333333335|        1|\n",
      "|14061328|         Frederiksberg|0.27011494252873564|        2|\n",
      "| 3381620|         Frederiksberg| 0.2398989898989899|        3|\n",
      "|13722704|              Indre By| 0.5235602094240838|        1|\n",
      "|17941225|              Indre By|0.46464646464646464|        2|\n",
      "| 3145494|              Indre By| 0.3464285714285714|        3|\n",
      "| 1818407|               Nrrebro| 0.5668789808917197|        1|\n",
      "|12015106|               Nrrebro| 0.4716981132075472|        2|\n",
      "+--------+----------------------+-------------------+---------+\n",
      "only showing top 20 rows\n",
      "\n"
     ]
    }
   ],
   "source": [
    "# show the top 3 valued listing in each neighbourhood\n",
    "ranked_df.filter(f.col('valueRank') <= 3).\\\n",
    "    orderBy('neighbourhood_cleansed', f.desc('value')).\\\n",
    "    select('id','neighbourhood_cleansed','value','valueRank').show()"
   ]
  },
  {
   "cell_type": "markdown",
   "metadata": {},
   "source": [
    "## Trends\n",
    "Now we want to analyze the \"popularity\" of your city. The data does not contain the number of bookings per listing, but we have a large number of reviews, and we will assume that this is a good indicator of activity on listings."
   ]
  },
  {
   "cell_type": "markdown",
   "metadata": {},
   "source": [
    "Compute and visualize the popularity (i.e., number of reviews) of your city over time."
   ]
  },
  {
   "cell_type": "code",
   "execution_count": 93,
   "metadata": {},
   "outputs": [],
   "source": [
    "# join reviews and listings tables on listing id, and keep date and neighbourhood columns\n",
    "joined=reviews.select('listing_id','date').\\\n",
    "            join(copenhagen.select('id','neighbourhood_cleansed'), \n",
    "                 f.col('listing_id') == f.col('id'))"
   ]
  },
  {
   "cell_type": "code",
   "execution_count": 94,
   "metadata": {},
   "outputs": [
    {
     "data": {
      "text/plain": [
       "[Row(listing_id='6983', date='2009-09-04', id='6983', neighbourhood_cleansed='Nrrebro'),\n",
       " Row(listing_id='6983', date='2009-09-07', id='6983', neighbourhood_cleansed='Nrrebro'),\n",
       " Row(listing_id='6983', date='2009-09-28', id='6983', neighbourhood_cleansed='Nrrebro'),\n",
       " Row(listing_id='6983', date='2009-12-17', id='6983', neighbourhood_cleansed='Nrrebro'),\n",
       " Row(listing_id='6983', date='2010-01-04', id='6983', neighbourhood_cleansed='Nrrebro')]"
      ]
     },
     "execution_count": 94,
     "metadata": {},
     "output_type": "execute_result"
    }
   ],
   "source": [
    "joined.take(5)"
   ]
  },
  {
   "cell_type": "code",
   "execution_count": 99,
   "metadata": {},
   "outputs": [
    {
     "data": {
      "text/plain": [
       "DataFrame[listing_id: string, date: string, id: string, neighbourhood_cleansed: string]"
      ]
     },
     "execution_count": 99,
     "metadata": {},
     "output_type": "execute_result"
    }
   ],
   "source": [
    "# craete a cache of the joined table for faster queries and operations\n",
    "joined.cache()"
   ]
  },
  {
   "cell_type": "code",
   "execution_count": 100,
   "metadata": {},
   "outputs": [],
   "source": [
    "# extract the year, month and date from the date column and store each in a separate column\n",
    "joined_clean=joined.withColumn('year', f.col('date').substr(1,4)).\\\n",
    "                    withColumn('month', f.col('date').substr(6,2)).\\\n",
    "                    withColumn('day', f.col('date').substr(9,2)).\\\n",
    "                    drop('id')"
   ]
  },
  {
   "cell_type": "code",
   "execution_count": 101,
   "metadata": {},
   "outputs": [
    {
     "name": "stdout",
     "output_type": "stream",
     "text": [
      "+----------+----------+----------------------+----+-----+---+\n",
      "|listing_id|      date|neighbourhood_cleansed|year|month|day|\n",
      "+----------+----------+----------------------+----+-----+---+\n",
      "|      6983|2009-09-04|               Nrrebro|2009|   09| 04|\n",
      "|      6983|2009-09-07|               Nrrebro|2009|   09| 07|\n",
      "|      6983|2009-09-28|               Nrrebro|2009|   09| 28|\n",
      "|      6983|2009-12-17|               Nrrebro|2009|   12| 17|\n",
      "|      6983|2010-01-04|               Nrrebro|2010|   01| 04|\n",
      "|      6983|2010-04-05|               Nrrebro|2010|   04| 05|\n",
      "|      6983|2010-05-08|               Nrrebro|2010|   05| 08|\n",
      "|      6983|2010-06-10|               Nrrebro|2010|   06| 10|\n",
      "|      6983|2010-06-18|               Nrrebro|2010|   06| 18|\n",
      "|      6983|2010-06-23|               Nrrebro|2010|   06| 23|\n",
      "|      6983|2012-04-02|               Nrrebro|2012|   04| 02|\n",
      "|      6983|2012-04-15|               Nrrebro|2012|   04| 15|\n",
      "|      6983|2012-04-21|               Nrrebro|2012|   04| 21|\n",
      "|      6983|2012-04-25|               Nrrebro|2012|   04| 25|\n",
      "|      6983|2012-05-23|               Nrrebro|2012|   05| 23|\n",
      "|      6983|2012-05-27|               Nrrebro|2012|   05| 27|\n",
      "|      6983|2012-07-02|               Nrrebro|2012|   07| 02|\n",
      "|      6983|2012-11-12|               Nrrebro|2012|   11| 12|\n",
      "|      6983|2012-11-16|               Nrrebro|2012|   11| 16|\n",
      "|      6983|2012-11-18|               Nrrebro|2012|   11| 18|\n",
      "+----------+----------+----------------------+----+-----+---+\n",
      "only showing top 20 rows\n",
      "\n"
     ]
    }
   ],
   "source": [
    "joined_clean.show()"
   ]
  },
  {
   "cell_type": "code",
   "execution_count": 102,
   "metadata": {},
   "outputs": [
    {
     "data": {
      "text/plain": [
       "DataFrame[listing_id: string, date: string, neighbourhood_cleansed: string, year: string, month: string, day: string]"
      ]
     },
     "execution_count": 102,
     "metadata": {},
     "output_type": "execute_result"
    }
   ],
   "source": [
    "# craete a cache for faster queries and operations\n",
    "joined_clean.cache()"
   ]
  },
  {
   "cell_type": "code",
   "execution_count": 125,
   "metadata": {},
   "outputs": [],
   "source": [
    "# count the number of reviews over the years\n",
    "gb_year=joined_clean.groupBy('year').count().\\\n",
    "                withColumn('year', f.col('year').cast('Integer')).\\\n",
    "                orderBy('year', ascending=True)"
   ]
  },
  {
   "cell_type": "code",
   "execution_count": 126,
   "metadata": {},
   "outputs": [
    {
     "name": "stdout",
     "output_type": "stream",
     "text": [
      "+----+-----+\n",
      "|year|count|\n",
      "+----+-----+\n",
      "|2009|    4|\n",
      "|2010|   39|\n",
      "|2011|  243|\n",
      "|2012| 1034|\n",
      "|2013| 3570|\n",
      "|2014| 8279|\n",
      "|2015|12817|\n",
      "|2016|14391|\n",
      "|2017|13572|\n",
      "|2018|12929|\n",
      "|2019|10006|\n",
      "+----+-----+\n",
      "\n"
     ]
    }
   ],
   "source": [
    "gb_year.show()"
   ]
  },
  {
   "cell_type": "code",
   "execution_count": 127,
   "metadata": {},
   "outputs": [],
   "source": [
    "# export and visualize\n",
    "year = [row['year'] for row in gb_year.collect()]\n",
    "review_count=[row['count'] for row in gb_year.collect()]"
   ]
  },
  {
   "cell_type": "code",
   "execution_count": 128,
   "metadata": {},
   "outputs": [
    {
     "data": {
      "image/png": "[encoded data removed]",
      "text/plain": [
       "<Figure size 432x288 with 1 Axes>"
      ]
     },
     "metadata": {
      "needs_background": "light"
     },
     "output_type": "display_data"
    }
   ],
   "source": [
    "plt.plot(year,review_count)\n",
    "plt.show()"
   ]
  },
  {
   "cell_type": "markdown",
   "metadata": {},
   "source": [
    "Compute and visualize the popularity of neighbourhoods over time. If there are many neighbourhoods in your city, you should select a few interesting ones for comparison."
   ]
  },
  {
   "cell_type": "code",
   "execution_count": 129,
   "metadata": {},
   "outputs": [],
   "source": [
    "gb_neighbor_year=joined_clean.groupBy('neighbourhood_cleansed', 'year').count().\\\n",
    "                withColumn('year', f.col('year').cast('Integer')).\\\n",
    "                orderBy(['neighbourhood_cleansed','year'], ascending=[1,1])"
   ]
  },
  {
   "cell_type": "code",
   "execution_count": 130,
   "metadata": {},
   "outputs": [
    {
     "name": "stdout",
     "output_type": "stream",
     "text": [
      "+----------------------+----+-----+\n",
      "|neighbourhood_cleansed|year|count|\n",
      "+----------------------+----+-----+\n",
      "|           Amager Vest|2012|   71|\n",
      "|           Amager Vest|2013|  341|\n",
      "|           Amager Vest|2014|  593|\n",
      "|           Amager Vest|2015|  960|\n",
      "|           Amager Vest|2016| 1319|\n",
      "|           Amager Vest|2017| 1160|\n",
      "|           Amager Vest|2018| 1180|\n",
      "|           Amager Vest|2019|  917|\n",
      "|             Amager st|2012|   83|\n",
      "|             Amager st|2013|  179|\n",
      "|             Amager st|2014|  574|\n",
      "|             Amager st|2015|  834|\n",
      "|             Amager st|2016|  753|\n",
      "|             Amager st|2017|  760|\n",
      "|             Amager st|2018|  714|\n",
      "|             Amager st|2019|  533|\n",
      "|            Bispebjerg|2012|   11|\n",
      "|            Bispebjerg|2013|   58|\n",
      "|            Bispebjerg|2014|  184|\n",
      "|            Bispebjerg|2015|  360|\n",
      "+----------------------+----+-----+\n",
      "only showing top 20 rows\n",
      "\n"
     ]
    }
   ],
   "source": [
    "gb_neighbor_year.show()"
   ]
  },
  {
   "cell_type": "code",
   "execution_count": 132,
   "metadata": {},
   "outputs": [
    {
     "data": {
      "text/plain": [
       "{'Amager Vest': [(2012, 71),\n",
       "  (2013, 341),\n",
       "  (2014, 593),\n",
       "  (2015, 960),\n",
       "  (2016, 1319),\n",
       "  (2017, 1160),\n",
       "  (2018, 1180),\n",
       "  (2019, 917)],\n",
       " 'Amager st': [(2012, 83),\n",
       "  (2013, 179),\n",
       "  (2014, 574),\n",
       "  (2015, 834),\n",
       "  (2016, 753),\n",
       "  (2017, 760),\n",
       "  (2018, 714),\n",
       "  (2019, 533)],\n",
       " 'Bispebjerg': [(2012, 11),\n",
       "  (2013, 58),\n",
       "  (2014, 184),\n",
       "  (2015, 360),\n",
       "  (2016, 432),\n",
       "  (2017, 393),\n",
       "  (2018, 356),\n",
       "  (2019, 335)],\n",
       " 'Brnshj-Husum': [(2013, 1),\n",
       "  (2014, 24),\n",
       "  (2015, 52),\n",
       "  (2016, 105),\n",
       "  (2017, 125),\n",
       "  (2018, 106),\n",
       "  (2019, 63)],\n",
       " 'Frederiksberg': [(2011, 2),\n",
       "  (2012, 30),\n",
       "  (2013, 70),\n",
       "  (2014, 99),\n",
       "  (2015, 172),\n",
       "  (2016, 222),\n",
       "  (2017, 201),\n",
       "  (2018, 190),\n",
       "  (2019, 159)],\n",
       " 'Indre By': [(2010, 5),\n",
       "  (2011, 58),\n",
       "  (2012, 215),\n",
       "  (2013, 790),\n",
       "  (2014, 2172),\n",
       "  (2015, 3365),\n",
       "  (2016, 3561),\n",
       "  (2017, 3406),\n",
       "  (2018, 3304),\n",
       "  (2019, 2589)],\n",
       " 'Nrrebro': [(2009, 4),\n",
       "  (2010, 12),\n",
       "  (2011, 77),\n",
       "  (2012, 306),\n",
       "  (2013, 1155),\n",
       "  (2014, 2171),\n",
       "  (2015, 2955),\n",
       "  (2016, 3234),\n",
       "  (2017, 2889),\n",
       "  (2018, 2793),\n",
       "  (2019, 2079)],\n",
       " 'Valby': [(2013, 1),\n",
       "  (2014, 64),\n",
       "  (2015, 150),\n",
       "  (2016, 171),\n",
       "  (2017, 171),\n",
       "  (2018, 171),\n",
       "  (2019, 232)],\n",
       " 'Vanlse': [(2012, 3),\n",
       "  (2013, 12),\n",
       "  (2014, 120),\n",
       "  (2015, 215),\n",
       "  (2016, 203),\n",
       "  (2017, 189),\n",
       "  (2018, 156),\n",
       "  (2019, 114)],\n",
       " 'Vesterbro-Kongens Enghave': [(2010, 15),\n",
       "  (2011, 76),\n",
       "  (2012, 260),\n",
       "  (2013, 700),\n",
       "  (2014, 1654),\n",
       "  (2015, 2721),\n",
       "  (2016, 3195),\n",
       "  (2017, 3250),\n",
       "  (2018, 3083),\n",
       "  (2019, 2308)],\n",
       " 'sterbro': [(2010, 7),\n",
       "  (2011, 30),\n",
       "  (2012, 55),\n",
       "  (2013, 263),\n",
       "  (2014, 624),\n",
       "  (2015, 1033),\n",
       "  (2016, 1196),\n",
       "  (2017, 1028),\n",
       "  (2018, 876),\n",
       "  (2019, 677)]}"
      ]
     },
     "execution_count": 132,
     "metadata": {},
     "output_type": "execute_result"
    }
   ],
   "source": [
    "dic={}\n",
    "for row in gb_neighbor_year.collect():\n",
    "    if row['neighbourhood_cleansed'] in dic:\n",
    "        dic[row['neighbourhood_cleansed']] += [(row['year'],row['count'])]\n",
    "    else:\n",
    "        dic[row['neighbourhood_cleansed']] = [(row['year'],row['count'])]\n",
    "dic"
   ]
  },
  {
   "cell_type": "code",
   "execution_count": 179,
   "metadata": {},
   "outputs": [],
   "source": [
    "def plot():    \n",
    "    fig, ax = plt.subplots(4, 3, figsize=(30,20))\n",
    "    plt.subplots_adjust(wspace = 0.2, hspace = 0.7)\n",
    "    \n",
    "    for index,key in enumerate(dic.keys()):\n",
    "        row = index//3\n",
    "        col = index%3      \n",
    "        ax[row, col].set_title(key)\n",
    "        ax[row, col].set_xlabel(\"Year\")\n",
    "        ax[row, col].set_ylabel(\"Review Count\")\n",
    "        ax[row, col].plot([x[0] for x in dic[key]], [x[1] for x in dic[key]])"
   ]
  },
  {
   "cell_type": "code",
   "execution_count": 180,
   "metadata": {},
   "outputs": [
    {
     "data": {
      "image/png": "[encoded data removed]",
      "text/plain": [
       "<Figure size 2160x1440 with 12 Axes>"
      ]
     },
     "metadata": {
      "needs_background": "light"
     },
     "output_type": "display_data"
    }
   ],
   "source": [
    "plot()"
   ]
  },
  {
   "cell_type": "markdown",
   "metadata": {},
   "source": [
    "Compute and visualize the popularity of your city by season. For example, visualize the popularity of your city per month."
   ]
  },
  {
   "cell_type": "code",
   "execution_count": 138,
   "metadata": {},
   "outputs": [],
   "source": [
    "gb_month=joined_clean.groupBy('month').count().\\\n",
    "                withColumn('month', f.col('month').cast('Integer')).\\\n",
    "                orderBy('month', ascending=True)"
   ]
  },
  {
   "cell_type": "code",
   "execution_count": 139,
   "metadata": {},
   "outputs": [
    {
     "name": "stdout",
     "output_type": "stream",
     "text": [
      "+-----+-----+\n",
      "|month|count|\n",
      "+-----+-----+\n",
      "|    1| 3471|\n",
      "|    2| 3074|\n",
      "|    3| 3998|\n",
      "|    4| 5979|\n",
      "|    5| 9385|\n",
      "|    6| 9035|\n",
      "|    7|10139|\n",
      "|    8|11686|\n",
      "|    9| 7562|\n",
      "|   10| 4918|\n",
      "|   11| 3759|\n",
      "|   12| 3878|\n",
      "+-----+-----+\n",
      "\n"
     ]
    }
   ],
   "source": [
    "gb_month.show()"
   ]
  },
  {
   "cell_type": "code",
   "execution_count": 140,
   "metadata": {},
   "outputs": [],
   "source": [
    "month = [row['month'] for row in gb_month.collect()]\n",
    "review_count=[row['count'] for row in gb_month.collect()]"
   ]
  },
  {
   "cell_type": "code",
   "execution_count": 141,
   "metadata": {},
   "outputs": [
    {
     "data": {
      "image/png": "[encoded data removed]",
      "text/plain": [
       "<Figure size 432x288 with 1 Axes>"
      ]
     },
     "metadata": {
      "needs_background": "light"
     },
     "output_type": "display_data"
    }
   ],
   "source": [
    "plt.plot(month,review_count)\n",
    "plt.show()"
   ]
  },
  {
   "cell_type": "code",
   "execution_count": 142,
   "metadata": {},
   "outputs": [],
   "source": [
    "# to observe seasonality"
   ]
  },
  {
   "cell_type": "code",
   "execution_count": 143,
   "metadata": {},
   "outputs": [],
   "source": [
    "gb_year_month=joined_clean.groupBy('year','month').count().\\\n",
    "                withColumn('year', f.col('year').cast('Integer')).\\\n",
    "                withColumn('month', f.col('month').cast('Integer')).\\\n",
    "                orderBy(['year','month'], ascending=[1,1])"
   ]
  },
  {
   "cell_type": "code",
   "execution_count": 144,
   "metadata": {},
   "outputs": [
    {
     "name": "stdout",
     "output_type": "stream",
     "text": [
      "+----+-----+-----+\n",
      "|year|month|count|\n",
      "+----+-----+-----+\n",
      "|2009|    9|    3|\n",
      "|2009|   12|    1|\n",
      "|2010|    1|    1|\n",
      "|2010|    4|    1|\n",
      "|2010|    5|    1|\n",
      "|2010|    6|    5|\n",
      "|2010|    7|    4|\n",
      "|2010|    8|   12|\n",
      "|2010|    9|    5|\n",
      "|2010|   10|    3|\n",
      "|2010|   11|    4|\n",
      "|2010|   12|    3|\n",
      "|2011|    1|    6|\n",
      "|2011|    2|    4|\n",
      "|2011|    3|    7|\n",
      "|2011|    4|   12|\n",
      "|2011|    5|   15|\n",
      "|2011|    6|   20|\n",
      "|2011|    7|   22|\n",
      "|2011|    8|   48|\n",
      "+----+-----+-----+\n",
      "only showing top 20 rows\n",
      "\n"
     ]
    }
   ],
   "source": [
    "gb_year_month.show()"
   ]
  },
  {
   "cell_type": "code",
   "execution_count": 146,
   "metadata": {},
   "outputs": [
    {
     "data": {
      "image/png": "[encoded data removed]",
      "text/plain": [
       "<Figure size 432x288 with 1 Axes>"
      ]
     },
     "metadata": {
      "needs_background": "light"
     },
     "output_type": "display_data"
    }
   ],
   "source": [
    "review_count=[row['count'] for row in gb_year_month.collect()]\n",
    "plt.plot(review_count)\n",
    "plt.show()"
   ]
  },
  {
   "cell_type": "markdown",
   "metadata": {},
   "source": [
    "## Reviews\n",
    "In this part you should determine which words used in reviews that are the most positive. \n",
    "\n",
    "The individual reviews do not have a rating of the listing, so we will assume that each review gave the average rating to the listing, i.e., the one on the listing.\n",
    "\n",
    "You should assign a positivity weight to each word seen in reviews and list the words with the highest weight. It is up to you to decide what the weight should be. For example, it can be a function of the rating on the listing on which it occurs, the number of reviews it occurs in, and the number of unique listings for which it was used to review.\n",
    "\n",
    "Depending on your choice of weight function, you may also want to do some filtering of words. For example, remove words that only occur in a few reviews."
   ]
  },
  {
   "cell_type": "markdown",
   "metadata": {},
   "source": [
    "1. select id and rating from listings\n",
    "2. select id and comment from reviews\n",
    "3. join two on id\n",
    "\n",
    "4. define user defined function udf e.g.\n",
    " ``` python\n",
    "def extract_title(name):\n",
    "    name_parts = name.split(',')\n",
    "    title_and_first = name_parts[1].split('.')\n",
    "    return title_and_first[0]\n",
    "extract_title_udf = f.udf(extract_title)\n",
    "df.withColumn('Title', extract_title_udf(f.col('Name'))).select('Name', 'Title').show()\n",
    "    ```\n",
    "5. use udf to clean comment column --> remove stop words, common words blah blah, stemming maybe? stemming maybe too computational expensive, we could omit.\n",
    "\n",
    "6. store in a dic, key == rating , value == comment. if same rating, just concat comments. after iterations, value should be very long (few comments concat)\n",
    "\n",
    "7. tokenize comment, assign rate to each token and store avg rating for each word in a new dic. Lets say original dic is {7 : \"it is good\", 8: \"it looks good and fantastic\"}, the new dic will be {'good' : (7+8)/2 = 7.5, \"fantastic\" : 8}\n",
    "\n",
    "8. return the highest score words"
   ]
  },
  {
   "cell_type": "markdown",
   "metadata": {},
   "source": [
    "a few concerns:\n",
    "1. too many words invloved, i am not sure if a dic is appropriate, maybe should use streaming sketch, i do not know..\n",
    "\n",
    "2. only considered listing rating in positivity weight. \"For example, it can be a function of the rating on the listing on which it occurs, the number of reviews it occurs in, and the number of unique listings for which it was used to review.\" maybe consider others, keep a counter on how many times this word appears, below a threshold then drop. This may help with point 1.\n",
    "\n",
    "3. yes, memory space is a concern...can we store so many words in memory?"
   ]
  },
  {
   "cell_type": "code",
   "execution_count": null,
   "metadata": {},
   "outputs": [],
   "source": []
  }
 ],
 "metadata": {
  "kernelspec": {
   "display_name": "Python 3",
   "language": "python",
   "name": "python3"
  },
  "language_info": {
   "codemirror_mode": {
    "name": "ipython",
    "version": 3
   },
   "file_extension": ".py",
   "mimetype": "text/x-python",
   "name": "python",
   "nbconvert_exporter": "python",
   "pygments_lexer": "ipython3",
   "version": "3.7.3"
  }
 },
 "nbformat": 4,
 "nbformat_minor": 2
}
